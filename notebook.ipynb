{
 "cells": [
  {
   "cell_type": "code",
   "execution_count": 2,
   "id": "04fb6bab",
   "metadata": {},
   "outputs": [],
   "source": [
    "import pandas as pd"
   ]
  },
  {
   "cell_type": "code",
   "execution_count": 3,
   "id": "0442ec60",
   "metadata": {},
   "outputs": [],
   "source": [
    "movies = pd.read_csv('./data/movies.csv')\n",
    "credits = pd.read_csv('./data/credits.csv')"
   ]
  },
  {
   "cell_type": "code",
   "execution_count": 4,
   "id": "2e772eac",
   "metadata": {},
   "outputs": [
    {
     "data": {
      "text/html": [
       "<div>\n",
       "<style scoped>\n",
       "    .dataframe tbody tr th:only-of-type {\n",
       "        vertical-align: middle;\n",
       "    }\n",
       "\n",
       "    .dataframe tbody tr th {\n",
       "        vertical-align: top;\n",
       "    }\n",
       "\n",
       "    .dataframe thead th {\n",
       "        text-align: right;\n",
       "    }\n",
       "</style>\n",
       "<table border=\"1\" class=\"dataframe\">\n",
       "  <thead>\n",
       "    <tr style=\"text-align: right;\">\n",
       "      <th></th>\n",
       "      <th>budget</th>\n",
       "      <th>genres</th>\n",
       "      <th>homepage</th>\n",
       "      <th>id</th>\n",
       "      <th>keywords</th>\n",
       "      <th>original_language</th>\n",
       "      <th>original_title</th>\n",
       "      <th>overview</th>\n",
       "      <th>popularity</th>\n",
       "      <th>production_companies</th>\n",
       "      <th>production_countries</th>\n",
       "      <th>release_date</th>\n",
       "      <th>revenue</th>\n",
       "      <th>runtime</th>\n",
       "      <th>spoken_languages</th>\n",
       "      <th>status</th>\n",
       "      <th>tagline</th>\n",
       "      <th>title</th>\n",
       "      <th>vote_average</th>\n",
       "      <th>vote_count</th>\n",
       "    </tr>\n",
       "  </thead>\n",
       "  <tbody>\n",
       "    <tr>\n",
       "      <th>0</th>\n",
       "      <td>237000000</td>\n",
       "      <td>[{\"id\": 28, \"name\": \"Action\"}, {\"id\": 12, \"nam...</td>\n",
       "      <td>http://www.avatarmovie.com/</td>\n",
       "      <td>19995</td>\n",
       "      <td>[{\"id\": 1463, \"name\": \"culture clash\"}, {\"id\":...</td>\n",
       "      <td>en</td>\n",
       "      <td>Avatar</td>\n",
       "      <td>In the 22nd century, a paraplegic Marine is di...</td>\n",
       "      <td>150.437577</td>\n",
       "      <td>[{\"name\": \"Ingenious Film Partners\", \"id\": 289...</td>\n",
       "      <td>[{\"iso_3166_1\": \"US\", \"name\": \"United States o...</td>\n",
       "      <td>2009-12-10</td>\n",
       "      <td>2787965087</td>\n",
       "      <td>162.0</td>\n",
       "      <td>[{\"iso_639_1\": \"en\", \"name\": \"English\"}, {\"iso...</td>\n",
       "      <td>Released</td>\n",
       "      <td>Enter the World of Pandora.</td>\n",
       "      <td>Avatar</td>\n",
       "      <td>7.2</td>\n",
       "      <td>11800</td>\n",
       "    </tr>\n",
       "  </tbody>\n",
       "</table>\n",
       "</div>"
      ],
      "text/plain": [
       "      budget                                             genres  \\\n",
       "0  237000000  [{\"id\": 28, \"name\": \"Action\"}, {\"id\": 12, \"nam...   \n",
       "\n",
       "                      homepage     id  \\\n",
       "0  http://www.avatarmovie.com/  19995   \n",
       "\n",
       "                                            keywords original_language  \\\n",
       "0  [{\"id\": 1463, \"name\": \"culture clash\"}, {\"id\":...                en   \n",
       "\n",
       "  original_title                                           overview  \\\n",
       "0         Avatar  In the 22nd century, a paraplegic Marine is di...   \n",
       "\n",
       "   popularity                               production_companies  \\\n",
       "0  150.437577  [{\"name\": \"Ingenious Film Partners\", \"id\": 289...   \n",
       "\n",
       "                                production_countries release_date     revenue  \\\n",
       "0  [{\"iso_3166_1\": \"US\", \"name\": \"United States o...   2009-12-10  2787965087   \n",
       "\n",
       "   runtime                                   spoken_languages    status  \\\n",
       "0    162.0  [{\"iso_639_1\": \"en\", \"name\": \"English\"}, {\"iso...  Released   \n",
       "\n",
       "                       tagline   title  vote_average  vote_count  \n",
       "0  Enter the World of Pandora.  Avatar           7.2       11800  "
      ]
     },
     "execution_count": 4,
     "metadata": {},
     "output_type": "execute_result"
    }
   ],
   "source": [
    "movies.head(1)"
   ]
  },
  {
   "cell_type": "code",
   "execution_count": 5,
   "id": "bdb89b6c",
   "metadata": {},
   "outputs": [],
   "source": [
    "movies = movies.rename(columns={'id':'movie_id'})"
   ]
  },
  {
   "cell_type": "code",
   "execution_count": 6,
   "id": "38b90360",
   "metadata": {},
   "outputs": [
    {
     "data": {
      "text/html": [
       "<div>\n",
       "<style scoped>\n",
       "    .dataframe tbody tr th:only-of-type {\n",
       "        vertical-align: middle;\n",
       "    }\n",
       "\n",
       "    .dataframe tbody tr th {\n",
       "        vertical-align: top;\n",
       "    }\n",
       "\n",
       "    .dataframe thead th {\n",
       "        text-align: right;\n",
       "    }\n",
       "</style>\n",
       "<table border=\"1\" class=\"dataframe\">\n",
       "  <thead>\n",
       "    <tr style=\"text-align: right;\">\n",
       "      <th></th>\n",
       "      <th>budget</th>\n",
       "      <th>genres</th>\n",
       "      <th>homepage</th>\n",
       "      <th>movie_id</th>\n",
       "      <th>keywords</th>\n",
       "      <th>original_language</th>\n",
       "      <th>original_title</th>\n",
       "      <th>overview</th>\n",
       "      <th>popularity</th>\n",
       "      <th>production_companies</th>\n",
       "      <th>production_countries</th>\n",
       "      <th>release_date</th>\n",
       "      <th>revenue</th>\n",
       "      <th>runtime</th>\n",
       "      <th>spoken_languages</th>\n",
       "      <th>status</th>\n",
       "      <th>tagline</th>\n",
       "      <th>title</th>\n",
       "      <th>vote_average</th>\n",
       "      <th>vote_count</th>\n",
       "    </tr>\n",
       "  </thead>\n",
       "  <tbody>\n",
       "    <tr>\n",
       "      <th>0</th>\n",
       "      <td>237000000</td>\n",
       "      <td>[{\"id\": 28, \"name\": \"Action\"}, {\"id\": 12, \"nam...</td>\n",
       "      <td>http://www.avatarmovie.com/</td>\n",
       "      <td>19995</td>\n",
       "      <td>[{\"id\": 1463, \"name\": \"culture clash\"}, {\"id\":...</td>\n",
       "      <td>en</td>\n",
       "      <td>Avatar</td>\n",
       "      <td>In the 22nd century, a paraplegic Marine is di...</td>\n",
       "      <td>150.437577</td>\n",
       "      <td>[{\"name\": \"Ingenious Film Partners\", \"id\": 289...</td>\n",
       "      <td>[{\"iso_3166_1\": \"US\", \"name\": \"United States o...</td>\n",
       "      <td>2009-12-10</td>\n",
       "      <td>2787965087</td>\n",
       "      <td>162.0</td>\n",
       "      <td>[{\"iso_639_1\": \"en\", \"name\": \"English\"}, {\"iso...</td>\n",
       "      <td>Released</td>\n",
       "      <td>Enter the World of Pandora.</td>\n",
       "      <td>Avatar</td>\n",
       "      <td>7.2</td>\n",
       "      <td>11800</td>\n",
       "    </tr>\n",
       "  </tbody>\n",
       "</table>\n",
       "</div>"
      ],
      "text/plain": [
       "      budget                                             genres  \\\n",
       "0  237000000  [{\"id\": 28, \"name\": \"Action\"}, {\"id\": 12, \"nam...   \n",
       "\n",
       "                      homepage  movie_id  \\\n",
       "0  http://www.avatarmovie.com/     19995   \n",
       "\n",
       "                                            keywords original_language  \\\n",
       "0  [{\"id\": 1463, \"name\": \"culture clash\"}, {\"id\":...                en   \n",
       "\n",
       "  original_title                                           overview  \\\n",
       "0         Avatar  In the 22nd century, a paraplegic Marine is di...   \n",
       "\n",
       "   popularity                               production_companies  \\\n",
       "0  150.437577  [{\"name\": \"Ingenious Film Partners\", \"id\": 289...   \n",
       "\n",
       "                                production_countries release_date     revenue  \\\n",
       "0  [{\"iso_3166_1\": \"US\", \"name\": \"United States o...   2009-12-10  2787965087   \n",
       "\n",
       "   runtime                                   spoken_languages    status  \\\n",
       "0    162.0  [{\"iso_639_1\": \"en\", \"name\": \"English\"}, {\"iso...  Released   \n",
       "\n",
       "                       tagline   title  vote_average  vote_count  \n",
       "0  Enter the World of Pandora.  Avatar           7.2       11800  "
      ]
     },
     "execution_count": 6,
     "metadata": {},
     "output_type": "execute_result"
    }
   ],
   "source": [
    "movies.head(1)"
   ]
  },
  {
   "cell_type": "code",
   "execution_count": 7,
   "id": "acd263ea",
   "metadata": {},
   "outputs": [
    {
     "data": {
      "text/html": [
       "<div>\n",
       "<style scoped>\n",
       "    .dataframe tbody tr th:only-of-type {\n",
       "        vertical-align: middle;\n",
       "    }\n",
       "\n",
       "    .dataframe tbody tr th {\n",
       "        vertical-align: top;\n",
       "    }\n",
       "\n",
       "    .dataframe thead th {\n",
       "        text-align: right;\n",
       "    }\n",
       "</style>\n",
       "<table border=\"1\" class=\"dataframe\">\n",
       "  <thead>\n",
       "    <tr style=\"text-align: right;\">\n",
       "      <th></th>\n",
       "      <th>movie_id</th>\n",
       "      <th>title</th>\n",
       "      <th>cast</th>\n",
       "      <th>crew</th>\n",
       "    </tr>\n",
       "  </thead>\n",
       "  <tbody>\n",
       "    <tr>\n",
       "      <th>0</th>\n",
       "      <td>19995</td>\n",
       "      <td>Avatar</td>\n",
       "      <td>[{\"cast_id\": 242, \"character\": \"Jake Sully\", \"...</td>\n",
       "      <td>[{\"credit_id\": \"52fe48009251416c750aca23\", \"de...</td>\n",
       "    </tr>\n",
       "  </tbody>\n",
       "</table>\n",
       "</div>"
      ],
      "text/plain": [
       "   movie_id   title                                               cast  \\\n",
       "0     19995  Avatar  [{\"cast_id\": 242, \"character\": \"Jake Sully\", \"...   \n",
       "\n",
       "                                                crew  \n",
       "0  [{\"credit_id\": \"52fe48009251416c750aca23\", \"de...  "
      ]
     },
     "execution_count": 7,
     "metadata": {},
     "output_type": "execute_result"
    }
   ],
   "source": [
    "credits.head(1)"
   ]
  },
  {
   "cell_type": "code",
   "execution_count": 8,
   "id": "1a106ce2",
   "metadata": {},
   "outputs": [],
   "source": [
    "data = movies.merge(credits,on=['title','movie_id'])"
   ]
  },
  {
   "cell_type": "code",
   "execution_count": 9,
   "id": "9dd6833a",
   "metadata": {},
   "outputs": [
    {
     "data": {
      "text/html": [
       "<div>\n",
       "<style scoped>\n",
       "    .dataframe tbody tr th:only-of-type {\n",
       "        vertical-align: middle;\n",
       "    }\n",
       "\n",
       "    .dataframe tbody tr th {\n",
       "        vertical-align: top;\n",
       "    }\n",
       "\n",
       "    .dataframe thead th {\n",
       "        text-align: right;\n",
       "    }\n",
       "</style>\n",
       "<table border=\"1\" class=\"dataframe\">\n",
       "  <thead>\n",
       "    <tr style=\"text-align: right;\">\n",
       "      <th></th>\n",
       "      <th>budget</th>\n",
       "      <th>genres</th>\n",
       "      <th>homepage</th>\n",
       "      <th>movie_id</th>\n",
       "      <th>keywords</th>\n",
       "      <th>original_language</th>\n",
       "      <th>original_title</th>\n",
       "      <th>overview</th>\n",
       "      <th>popularity</th>\n",
       "      <th>production_companies</th>\n",
       "      <th>...</th>\n",
       "      <th>revenue</th>\n",
       "      <th>runtime</th>\n",
       "      <th>spoken_languages</th>\n",
       "      <th>status</th>\n",
       "      <th>tagline</th>\n",
       "      <th>title</th>\n",
       "      <th>vote_average</th>\n",
       "      <th>vote_count</th>\n",
       "      <th>cast</th>\n",
       "      <th>crew</th>\n",
       "    </tr>\n",
       "  </thead>\n",
       "  <tbody>\n",
       "    <tr>\n",
       "      <th>0</th>\n",
       "      <td>237000000</td>\n",
       "      <td>[{\"id\": 28, \"name\": \"Action\"}, {\"id\": 12, \"nam...</td>\n",
       "      <td>http://www.avatarmovie.com/</td>\n",
       "      <td>19995</td>\n",
       "      <td>[{\"id\": 1463, \"name\": \"culture clash\"}, {\"id\":...</td>\n",
       "      <td>en</td>\n",
       "      <td>Avatar</td>\n",
       "      <td>In the 22nd century, a paraplegic Marine is di...</td>\n",
       "      <td>150.437577</td>\n",
       "      <td>[{\"name\": \"Ingenious Film Partners\", \"id\": 289...</td>\n",
       "      <td>...</td>\n",
       "      <td>2787965087</td>\n",
       "      <td>162.0</td>\n",
       "      <td>[{\"iso_639_1\": \"en\", \"name\": \"English\"}, {\"iso...</td>\n",
       "      <td>Released</td>\n",
       "      <td>Enter the World of Pandora.</td>\n",
       "      <td>Avatar</td>\n",
       "      <td>7.2</td>\n",
       "      <td>11800</td>\n",
       "      <td>[{\"cast_id\": 242, \"character\": \"Jake Sully\", \"...</td>\n",
       "      <td>[{\"credit_id\": \"52fe48009251416c750aca23\", \"de...</td>\n",
       "    </tr>\n",
       "  </tbody>\n",
       "</table>\n",
       "<p>1 rows × 22 columns</p>\n",
       "</div>"
      ],
      "text/plain": [
       "      budget                                             genres  \\\n",
       "0  237000000  [{\"id\": 28, \"name\": \"Action\"}, {\"id\": 12, \"nam...   \n",
       "\n",
       "                      homepage  movie_id  \\\n",
       "0  http://www.avatarmovie.com/     19995   \n",
       "\n",
       "                                            keywords original_language  \\\n",
       "0  [{\"id\": 1463, \"name\": \"culture clash\"}, {\"id\":...                en   \n",
       "\n",
       "  original_title                                           overview  \\\n",
       "0         Avatar  In the 22nd century, a paraplegic Marine is di...   \n",
       "\n",
       "   popularity                               production_companies  ...  \\\n",
       "0  150.437577  [{\"name\": \"Ingenious Film Partners\", \"id\": 289...  ...   \n",
       "\n",
       "      revenue runtime                                   spoken_languages  \\\n",
       "0  2787965087   162.0  [{\"iso_639_1\": \"en\", \"name\": \"English\"}, {\"iso...   \n",
       "\n",
       "     status                      tagline   title vote_average vote_count  \\\n",
       "0  Released  Enter the World of Pandora.  Avatar          7.2      11800   \n",
       "\n",
       "                                                cast  \\\n",
       "0  [{\"cast_id\": 242, \"character\": \"Jake Sully\", \"...   \n",
       "\n",
       "                                                crew  \n",
       "0  [{\"credit_id\": \"52fe48009251416c750aca23\", \"de...  \n",
       "\n",
       "[1 rows x 22 columns]"
      ]
     },
     "execution_count": 9,
     "metadata": {},
     "output_type": "execute_result"
    }
   ],
   "source": [
    "data.head(1)"
   ]
  },
  {
   "cell_type": "code",
   "execution_count": 10,
   "id": "3180c63e",
   "metadata": {},
   "outputs": [
    {
     "name": "stdout",
     "output_type": "stream",
     "text": [
      "<class 'pandas.core.frame.DataFrame'>\n",
      "RangeIndex: 4803 entries, 0 to 4802\n",
      "Data columns (total 22 columns):\n",
      " #   Column                Non-Null Count  Dtype  \n",
      "---  ------                --------------  -----  \n",
      " 0   budget                4803 non-null   int64  \n",
      " 1   genres                4803 non-null   object \n",
      " 2   homepage              1712 non-null   object \n",
      " 3   movie_id              4803 non-null   int64  \n",
      " 4   keywords              4803 non-null   object \n",
      " 5   original_language     4803 non-null   object \n",
      " 6   original_title        4803 non-null   object \n",
      " 7   overview              4800 non-null   object \n",
      " 8   popularity            4803 non-null   float64\n",
      " 9   production_companies  4803 non-null   object \n",
      " 10  production_countries  4803 non-null   object \n",
      " 11  release_date          4802 non-null   object \n",
      " 12  revenue               4803 non-null   int64  \n",
      " 13  runtime               4801 non-null   float64\n",
      " 14  spoken_languages      4803 non-null   object \n",
      " 15  status                4803 non-null   object \n",
      " 16  tagline               3959 non-null   object \n",
      " 17  title                 4803 non-null   object \n",
      " 18  vote_average          4803 non-null   float64\n",
      " 19  vote_count            4803 non-null   int64  \n",
      " 20  cast                  4803 non-null   object \n",
      " 21  crew                  4803 non-null   object \n",
      "dtypes: float64(3), int64(4), object(15)\n",
      "memory usage: 825.6+ KB\n"
     ]
    }
   ],
   "source": [
    "data.info()"
   ]
  },
  {
   "cell_type": "code",
   "execution_count": 11,
   "id": "1e71c8c5",
   "metadata": {},
   "outputs": [
    {
     "data": {
      "text/plain": [
       "nan"
      ]
     },
     "execution_count": 11,
     "metadata": {},
     "output_type": "execute_result"
    }
   ],
   "source": [
    "data['homepage'][1201]"
   ]
  },
  {
   "cell_type": "code",
   "execution_count": 12,
   "id": "0b7d3e8d",
   "metadata": {},
   "outputs": [
    {
     "name": "stdout",
     "output_type": "stream",
     "text": [
      "budget\n",
      "0           1037\n",
      "20000000     144\n",
      "30000000     128\n",
      "25000000     126\n",
      "40000000     123\n",
      "            ... \n",
      "13200000       1\n",
      "14350531       1\n",
      "3100000        1\n",
      "12800000       1\n",
      "9000           1\n",
      "Name: count, Length: 436, dtype: int64\n",
      "-------------------\n",
      "genres\n",
      "[{\"id\": 18, \"name\": \"Drama\"}]                                                                                                            370\n",
      "[{\"id\": 35, \"name\": \"Comedy\"}]                                                                                                           282\n",
      "[{\"id\": 18, \"name\": \"Drama\"}, {\"id\": 10749, \"name\": \"Romance\"}]                                                                          164\n",
      "[{\"id\": 35, \"name\": \"Comedy\"}, {\"id\": 10749, \"name\": \"Romance\"}]                                                                         144\n",
      "[{\"id\": 35, \"name\": \"Comedy\"}, {\"id\": 18, \"name\": \"Drama\"}]                                                                              142\n",
      "                                                                                                                                        ... \n",
      "[{\"id\": 12, \"name\": \"Adventure\"}, {\"id\": 28, \"name\": \"Action\"}, {\"id\": 35, \"name\": \"Comedy\"}, {\"id\": 10749, \"name\": \"Romance\"}]            1\n",
      "[{\"id\": 28, \"name\": \"Action\"}, {\"id\": 14, \"name\": \"Fantasy\"}, {\"id\": 878, \"name\": \"Science Fiction\"}, {\"id\": 53, \"name\": \"Thriller\"}]      1\n",
      "[{\"id\": 878, \"name\": \"Science Fiction\"}, {\"id\": 35, \"name\": \"Comedy\"}, {\"id\": 12, \"name\": \"Adventure\"}]                                    1\n",
      "[{\"id\": 18, \"name\": \"Drama\"}, {\"id\": 53, \"name\": \"Thriller\"}, {\"id\": 27, \"name\": \"Horror\"}]                                                1\n",
      "[{\"id\": 35, \"name\": \"Comedy\"}, {\"id\": 18, \"name\": \"Drama\"}, {\"id\": 10749, \"name\": \"Romance\"}, {\"id\": 10770, \"name\": \"TV Movie\"}]           1\n",
      "Name: count, Length: 1175, dtype: int64\n",
      "-------------------\n",
      "homepage\n",
      "http://www.missionimpossible.com/                       4\n",
      "http://www.thehungergames.movie/                        4\n",
      "http://www.kungfupanda.com/                             3\n",
      "http://www.transformersmovie.com/                       3\n",
      "http://www.thehobbit.com/                               3\n",
      "                                                       ..\n",
      "http://www.ridealong.com/                               1\n",
      "http://www.theinternmovie.com/                          1\n",
      "http://www.miramax.com/movie/the-talented-mr-ripley/    1\n",
      "http://www.julieandjulia.com/                           1\n",
      "http://shanghaicalling.com/                             1\n",
      "Name: count, Length: 1691, dtype: int64\n",
      "-------------------\n",
      "movie_id\n",
      "19995     1\n",
      "333355    1\n",
      "71157     1\n",
      "43418     1\n",
      "11588     1\n",
      "         ..\n",
      "13156     1\n",
      "293863    1\n",
      "16871     1\n",
      "307081    1\n",
      "25975     1\n",
      "Name: count, Length: 4803, dtype: int64\n",
      "-------------------\n",
      "keywords\n",
      "[]                                                                                                                                                                                                                                                                                                                                                                                                                                                                                                                                                                                                                  412\n",
      "[{\"id\": 10183, \"name\": \"independent film\"}]                                                                                                                                                                                                                                                                                                                                                                                                                                                                                                                                                                          55\n",
      "[{\"id\": 187056, \"name\": \"woman director\"}]                                                                                                                                                                                                                                                                                                                                                                                                                                                                                                                                                                           42\n",
      "[{\"id\": 179431, \"name\": \"duringcreditsstinger\"}]                                                                                                                                                                                                                                                                                                                                                                                                                                                                                                                                                                     15\n",
      "[{\"id\": 6075, \"name\": \"sport\"}]                                                                                                                                                                                                                                                                                                                                                                                                                                                                                                                                                                                      13\n",
      "                                                                                                                                                                                                                                                                                                                                                                                                                                                                                                                                                                                                                   ... \n",
      "[{\"id\": 4530, \"name\": \"parking garage\"}, {\"id\": 181385, \"name\": \"freighter\"}, {\"id\": 195410, \"name\": \"fundraiser\"}]                                                                                                                                                                                                                                                                                                                                                                                                                                                                                                   1\n",
      "[{\"id\": 10175, \"name\": \"drug cartel\"}, {\"id\": 186281, \"name\": \"dea\"}]                                                                                                                                                                                                                                                                                                                                                                                                                                                                                                                                                 1\n",
      "[{\"id\": 483, \"name\": \"riddle\"}, {\"id\": 588, \"name\": \"rome\"}, {\"id\": 716, \"name\": \"vatican\"}, {\"id\": 3271, \"name\": \"secret organization\"}, {\"id\": 5340, \"name\": \"investigation\"}, {\"id\": 7412, \"name\": \"sin\"}, {\"id\": 10063, \"name\": \"repentance\"}, {\"id\": 10093, \"name\": \"priest\"}, {\"id\": 12565, \"name\": \"psychological thriller\"}, {\"id\": 14819, \"name\": \"violence\"}, {\"id\": 157008, \"name\": \"catholic church\"}, {\"id\": 172762, \"name\": \"sin eater\"}, {\"id\": 172772, \"name\": \"mentor prot\\u00e9g\\u00e9 relationship\"}, {\"id\": 172792, \"name\": \"reference to god\"}, {\"id\": 204017, \"name\": \"suspicious death\"}]      1\n",
      "[{\"id\": 10525, \"name\": \"broken neck\"}, {\"id\": 18525, \"name\": \"fbi agent\"}, {\"id\": 174947, \"name\": \"wall safe\"}, {\"id\": 174953, \"name\": \"trashed house\"}, {\"id\": 174954, \"name\": \"aerial shot\"}, {\"id\": 174959, \"name\": \"military dress uniform\"}, {\"id\": 174960, \"name\": \"vanity\"}, {\"id\": 174968, \"name\": \"flare\"}, {\"id\": 187056, \"name\": \"woman director\"}]                                                                                                                                                                                                                                                        1\n",
      "[{\"id\": 1523, \"name\": \"obsession\"}, {\"id\": 2249, \"name\": \"camcorder\"}, {\"id\": 9986, \"name\": \"crush\"}, {\"id\": 11223, \"name\": \"dream girl\"}]                                                                                                                                                                                                                                                                                                                                                                                                                                                                            1\n",
      "Name: count, Length: 4222, dtype: int64\n",
      "-------------------\n",
      "original_language\n",
      "en    4505\n",
      "fr      70\n",
      "es      32\n",
      "zh      27\n",
      "de      27\n",
      "hi      19\n",
      "ja      16\n",
      "it      14\n",
      "cn      12\n",
      "ru      11\n",
      "ko      11\n",
      "pt       9\n",
      "da       7\n",
      "sv       5\n",
      "nl       4\n",
      "fa       4\n",
      "th       3\n",
      "he       3\n",
      "ta       2\n",
      "cs       2\n",
      "ro       2\n",
      "id       2\n",
      "ar       2\n",
      "vi       1\n",
      "sl       1\n",
      "ps       1\n",
      "no       1\n",
      "ky       1\n",
      "hu       1\n",
      "pl       1\n",
      "af       1\n",
      "nb       1\n",
      "tr       1\n",
      "is       1\n",
      "xx       1\n",
      "te       1\n",
      "el       1\n",
      "Name: count, dtype: int64\n",
      "-------------------\n",
      "original_title\n",
      "Out of the Blue       2\n",
      "Batman                2\n",
      "Undiscovered          1\n",
      "Beneath Hill 60       1\n",
      "The I Inside          1\n",
      "                     ..\n",
      "Secondhand Lions      1\n",
      "The Age of Adaline    1\n",
      "Drag Me to Hell       1\n",
      "Southpaw              1\n",
      "My Date with Drew     1\n",
      "Name: count, Length: 4801, dtype: int64\n",
      "-------------------\n",
      "overview\n",
      "In the 22nd century, a paraplegic Marine is dispatched to the moon Pandora on a unique mission, but becomes torn between following orders and protecting an alien civilization.                                                                                                                                                                                                                                                                                            1\n",
      "While undergoing heart surgery, a man experiences a phenomenon called ‘anesthetic awareness’, which leaves him awake but paralyzed throughout the operation. As various obstacles present themselves, his wife must make life-altering decisions while wrestling with her own personal drama.                                                                                                                                                                              1\n",
      "The true story of Australia's cat-and-mouse underground mine warfare – one of the most misunderstood, misrepresented and mystifying conflicts of WW I. It was a secret struggle BENEATH the Western Front that combined daring engineering, technology and science, and few on the surface knew of the brave, claustrophobic and sometimes barbaric work of these tunnellers.                                                                                              1\n",
      "Simon Cable wakes up in a hospital bed, confused and disoriented. He soon discovers from doctors that he has amnesia and is unable to remember the last two years of his life. Cable investigates what has happened to him and slowly pieces together his enigmatic past.                                                                                                                                                                                                  1\n",
      "A squad of Ultramarines answer a distress call from an Imperial Shrine World. A full Company of Imperial Fists was stationed there, but there is no answer from them. The squad investigates to find out what has happened there.                                                                                                                                                                                                                                          1\n",
      "                                                                                                                                                                                                                                                                                                                                                                                                                                                                          ..\n",
      "After 29-year-old Adaline recovers from a nearly lethal accident, she inexplicably stops growing older. As the years stretch on and on, Adaline keeps her secret to herself  until she meets a man who changes her life.                                                                                                                                                                                                                                                   1\n",
      "After denying a woman the extension she needs to keep her home, loan officer Christine Brown sees her once-promising life take a startling turn for the worse. Christine is convinced she's been cursed by a Gypsy, but her boyfriend is skeptical. Her only hope seems to lie in a psychic who claims he can help her lift the curse and keep her soul from being dragged straight to hell.                                                                               1\n",
      "Billy \"The Great\" Hope, the reigning junior middleweight boxing champion, has an impressive career, a loving wife and daughter, and a lavish lifestyle. However, when tragedy strikes, Billy hits rock bottom, losing his family, his house and his manager. He soon finds an unlikely savior in Tick Willis, a former fighter who trains the city's toughest amateur boxers. With his future on the line, Hope fights to reclaim the trust of those he loves the most.    1\n",
      "A young female FBI agent joins a secret CIA operation to take down a Mexican cartel boss, a job that ends up pushing her ethical and moral values to the limit.                                                                                                                                                                                                                                                                                                            1\n",
      "Ever since the second grade when he first saw her in E.T. The Extraterrestrial, Brian Herzlinger has had a crush on Drew Barrymore. Now, 20 years later he's decided to try to fulfill his lifelong dream by asking her for a date. There's one small problem: She's Drew Barrymore and he's, well, Brian Herzlinger, a broke 27-year-old aspiring filmmaker from New Jersey.                                                                                              1\n",
      "Name: count, Length: 4800, dtype: int64\n",
      "-------------------\n",
      "popularity\n",
      "8.902102      2\n",
      "150.437577    1\n",
      "7.247023      1\n",
      "14.038703     1\n",
      "3.949796      1\n",
      "             ..\n",
      "15.011624     1\n",
      "82.052056     1\n",
      "45.083509     1\n",
      "65.364452     1\n",
      "1.929883      1\n",
      "Name: count, Length: 4802, dtype: int64\n",
      "-------------------\n",
      "production_companies\n",
      "[]                                                                                                                                                                                                                                                                                                                                                                                                                                                                                                                                                                              351\n",
      "[{\"name\": \"Paramount Pictures\", \"id\": 4}]                                                                                                                                                                                                                                                                                                                                                                                                                                                                                                                                        58\n",
      "[{\"name\": \"Universal Pictures\", \"id\": 33}]                                                                                                                                                                                                                                                                                                                                                                                                                                                                                                                                       45\n",
      "[{\"name\": \"New Line Cinema\", \"id\": 12}]                                                                                                                                                                                                                                                                                                                                                                                                                                                                                                                                          38\n",
      "[{\"name\": \"Columbia Pictures\", \"id\": 5}]                                                                                                                                                                                                                                                                                                                                                                                                                                                                                                                                         37\n",
      "                                                                                                                                                                                                                                                                                                                                                                                                                                                                                                                                                                               ... \n",
      "[{\"name\": \"New Line Cinema\", \"id\": 12}, {\"name\": \"Juno Pix\", \"id\": 4286}, {\"name\": \"Cecchi Gori Pictures\", \"id\": 65394}]                                                                                                                                                                                                                                                                                                                                                                                                                                                          1\n",
      "[{\"name\": \"WingNut Films\", \"id\": 11}, {\"name\": \"TriStar Pictures\", \"id\": 559}, {\"name\": \"Key Creatives\", \"id\": 2300}, {\"name\": \"Block / Hanson\", \"id\": 8504}, {\"name\": \"Canadian Film or Video Production Tax Credit (CPTC)\", \"id\": 8582}, {\"name\": \"The Department of Trade and Industry of South Africa\", \"id\": 10884}, {\"name\": \"QED International\", \"id\": 11029}, {\"name\": \"Province of British Columbia Production Services Tax Credit\", \"id\": 12200}, {\"name\": \"District 9\", \"id\": 20667}, {\"name\": \"New Zealand Post Digital and Visual Effects Grant\", \"id\": 20668}]      1\n",
      "[{\"name\": \"Paramount Pictures\", \"id\": 4}, {\"name\": \"Nickelodeon Movies\", \"id\": 2348}, {\"name\": \"United Plankton Pictures\", \"id\": 8921}, {\"name\": \"Paramount Animation\", \"id\": 24955}]                                                                                                                                                                                                                                                                                                                                                                                             1\n",
      "[{\"name\": \"Village Roadshow Pictures\", \"id\": 79}, {\"name\": \"Malpaso Productions\", \"id\": 171}, {\"name\": \"NPV Entertainment\", \"id\": 172}, {\"name\": \"Warner Bros.\", \"id\": 6194}]                                                                                                                                                                                                                                                                                                                                                                                                     1\n",
      "[{\"name\": \"rusty bear entertainment\", \"id\": 87986}, {\"name\": \"lucky crow films\", \"id\": 87987}]                                                                                                                                                                                                                                                                                                                                                                                                                                                                                    1\n",
      "Name: count, Length: 3697, dtype: int64\n",
      "-------------------\n",
      "production_countries\n",
      "[{\"iso_3166_1\": \"US\", \"name\": \"United States of America\"}]                                                                                                                                     2977\n",
      "[{\"iso_3166_1\": \"GB\", \"name\": \"United Kingdom\"}, {\"iso_3166_1\": \"US\", \"name\": \"United States of America\"}]                                                                                      181\n",
      "[]                                                                                                                                                                                              174\n",
      "[{\"iso_3166_1\": \"GB\", \"name\": \"United Kingdom\"}]                                                                                                                                                131\n",
      "[{\"iso_3166_1\": \"DE\", \"name\": \"Germany\"}, {\"iso_3166_1\": \"US\", \"name\": \"United States of America\"}]                                                                                             119\n",
      "                                                                                                                                                                                               ... \n",
      "[{\"iso_3166_1\": \"GB\", \"name\": \"United Kingdom\"}, {\"iso_3166_1\": \"FR\", \"name\": \"France\"}, {\"iso_3166_1\": \"US\", \"name\": \"United States of America\"}]                                                1\n",
      "[{\"iso_3166_1\": \"US\", \"name\": \"United States of America\"}, {\"iso_3166_1\": \"ZA\", \"name\": \"South Africa\"}]                                                                                          1\n",
      "[{\"iso_3166_1\": \"FR\", \"name\": \"France\"}, {\"iso_3166_1\": \"IS\", \"name\": \"Iceland\"}, {\"iso_3166_1\": \"GB\", \"name\": \"United Kingdom\"}, {\"iso_3166_1\": \"US\", \"name\": \"United States of America\"}]       1\n",
      "[{\"iso_3166_1\": \"CA\", \"name\": \"Canada\"}, {\"iso_3166_1\": \"KR\", \"name\": \"South Korea\"}]                                                                                                             1\n",
      "[{\"iso_3166_1\": \"US\", \"name\": \"United States of America\"}, {\"iso_3166_1\": \"CN\", \"name\": \"China\"}]                                                                                                 1\n",
      "Name: count, Length: 469, dtype: int64\n",
      "-------------------\n",
      "release_date\n",
      "2006-01-01    10\n",
      "2002-01-01     8\n",
      "2004-09-03     7\n",
      "1999-10-22     7\n",
      "2013-07-18     7\n",
      "              ..\n",
      "2002-12-30     1\n",
      "2002-08-20     1\n",
      "1987-11-05     1\n",
      "2004-11-11     1\n",
      "2012-05-03     1\n",
      "Name: count, Length: 3280, dtype: int64\n",
      "-------------------\n",
      "revenue\n",
      "0            1427\n",
      "7000000         6\n",
      "8000000         6\n",
      "6000000         5\n",
      "12000000        5\n",
      "             ... \n",
      "124827316       1\n",
      "75505856        1\n",
      "124731534       1\n",
      "158733820       1\n",
      "2040920         1\n",
      "Name: count, Length: 3297, dtype: int64\n",
      "-------------------\n",
      "runtime\n",
      "90.0     163\n",
      "100.0    149\n",
      "98.0     140\n",
      "97.0     133\n",
      "95.0     123\n",
      "        ... \n",
      "338.0      1\n",
      "216.0      1\n",
      "166.0      1\n",
      "194.0      1\n",
      "60.0       1\n",
      "Name: count, Length: 156, dtype: int64\n",
      "-------------------\n",
      "spoken_languages\n",
      "[{\"iso_639_1\": \"en\", \"name\": \"English\"}]                                                                                                                                                                                                                                                                                                                                           3171\n",
      "[{\"iso_639_1\": \"en\", \"name\": \"English\"}, {\"iso_639_1\": \"es\", \"name\": \"Espa\\u00f1ol\"}]                                                                                                                                                                                                                                                                                               127\n",
      "[{\"iso_639_1\": \"en\", \"name\": \"English\"}, {\"iso_639_1\": \"fr\", \"name\": \"Fran\\u00e7ais\"}]                                                                                                                                                                                                                                                                                              114\n",
      "[]                                                                                                                                                                                                                                                                                                                                                                                   86\n",
      "[{\"iso_639_1\": \"es\", \"name\": \"Espa\\u00f1ol\"}, {\"iso_639_1\": \"en\", \"name\": \"English\"}]                                                                                                                                                                                                                                                                                                54\n",
      "                                                                                                                                                                                                                                                                                                                                                                                   ... \n",
      "[{\"iso_639_1\": \"en\", \"name\": \"English\"}, {\"iso_639_1\": \"pl\", \"name\": \"Polski\"}, {\"iso_639_1\": \"pt\", \"name\": \"Portugu\\u00eas\"}]                                                                                                                                                                                                                                                        1\n",
      "[{\"iso_639_1\": \"en\", \"name\": \"English\"}, {\"iso_639_1\": \"es\", \"name\": \"Espa\\u00f1ol\"}, {\"iso_639_1\": \"ru\", \"name\": \"P\\u0443\\u0441\\u0441\\u043a\\u0438\\u0439\"}]                                                                                                                                                                                                                           1\n",
      "[{\"iso_639_1\": \"en\", \"name\": \"English\"}, {\"iso_639_1\": \"ar\", \"name\": \"\\u0627\\u0644\\u0639\\u0631\\u0628\\u064a\\u0629\"}, {\"iso_639_1\": \"fr\", \"name\": \"Fran\\u00e7ais\"}, {\"iso_639_1\": \"de\", \"name\": \"Deutsch\"}, {\"iso_639_1\": \"ru\", \"name\": \"P\\u0443\\u0441\\u0441\\u043a\\u0438\\u0439\"}, {\"iso_639_1\": \"cs\", \"name\": \"\\u010cesk\\u00fd\"}, {\"iso_639_1\": \"sk\", \"name\": \"Sloven\\u010dina\"}]       1\n",
      "[{\"iso_639_1\": \"en\", \"name\": \"English\"}, {\"iso_639_1\": \"de\", \"name\": \"Deutsch\"}, {\"iso_639_1\": \"tr\", \"name\": \"T\\u00fcrk\\u00e7e\"}, {\"iso_639_1\": \"ar\", \"name\": \"\\u0627\\u0644\\u0639\\u0631\\u0628\\u064a\\u0629\"}]                                                                                                                                                                          1\n",
      "[{\"iso_639_1\": \"en\", \"name\": \"English\"}, {\"iso_639_1\": \"de\", \"name\": \"Deutsch\"}, {\"iso_639_1\": \"mn\", \"name\": \"\"}]                                                                                                                                                                                                                                                                     1\n",
      "Name: count, Length: 544, dtype: int64\n",
      "-------------------\n",
      "status\n",
      "Released           4795\n",
      "Rumored               5\n",
      "Post Production       3\n",
      "Name: count, dtype: int64\n",
      "-------------------\n",
      "tagline\n",
      "Based on a true story.                          3\n",
      "From zero to hero.                              2\n",
      "The only way out is down.                       2\n",
      "Be careful what you wish for.                   2\n",
      "What could go wrong?                            2\n",
      "                                               ..\n",
      "Life is Not Child-Proof.                        1\n",
      "Every war has a beginning.                      1\n",
      "First came love... then came Reverend Frank.    1\n",
      "Get off the bench and get into the game.        1\n",
      "A New Yorker in Shanghai                        1\n",
      "Name: count, Length: 3944, dtype: int64\n",
      "-------------------\n",
      "title\n",
      "The Host                 2\n",
      "Batman                   2\n",
      "Out of the Blue          2\n",
      "Avatar                   1\n",
      "The Girl on the Train    1\n",
      "                        ..\n",
      "Step Up 3D               1\n",
      "Secondhand Lions         1\n",
      "The Age of Adaline       1\n",
      "Drag Me to Hell          1\n",
      "My Date with Drew        1\n",
      "Name: count, Length: 4800, dtype: int64\n",
      "-------------------\n",
      "vote_average\n",
      "6.5    216\n",
      "6.0    216\n",
      "6.7    213\n",
      "6.3    207\n",
      "6.1    201\n",
      "      ... \n",
      "2.7      1\n",
      "0.5      1\n",
      "2.2      1\n",
      "1.9      1\n",
      "2.4      1\n",
      "Name: count, Length: 71, dtype: int64\n",
      "-------------------\n",
      "vote_count\n",
      "0       62\n",
      "1       53\n",
      "2       46\n",
      "4       43\n",
      "3       41\n",
      "        ..\n",
      "648      1\n",
      "5862     1\n",
      "3583     1\n",
      "1174     1\n",
      "2078     1\n",
      "Name: count, Length: 1609, dtype: int64\n",
      "-------------------\n",
      "cast\n",
      "[]                                                                                                                                                                                                                                                                                                                                                                                                                                                                                                                                                                                                                                                                                                                                                                                                                                                                                                                                                                                                                                                                                                                                                                                                                                                                                                                                                                                                                                                                                                                                                                                                                                                                                                                                                                                                                                                                                                                                                                                                                                                                                                                                                                                                                                                                                                                                                                                                                                                                                                                                                                                                                                                                                                                                                                                                                                                                                                                                                                                                                                                                                                                                                                                                                                                                                                                                                                                                                                                                                                                                                                                                                                                                                                                                                                                                                                                                                                                                                                                                                                                                                                                                                                                                                                                                                                                                                                                                                                                                                                                                                                                                                                                                                                                                                                                                                                                                                                                                                                                                                                                                                                                                                                                                                                                                                                                                                                                                                                                                                                                                                                                                                                                                                                                                                                                                                                                                                                                                                                                                                                                                                                                                                                                                                                                                                                                                                                                                                                                                                                                                                                                                                                                                                                                                                                                                                                                                                                                                                                                                                                                                                                                                                                                                                                                                                                                                                                                                                                                                                                                                                                                                                                                                                                                                                                                                                                                                                                                                                                                                                                                                                                                                                                                                                                                                                                                                                                                                                                                                                                                                                                                                                                                                                                                                                                                                                                                                                                                                                                                                                                                                                                                                                                                                                                                                                                                                                                                                                                                                                                                                                                                                                                                                                                                                                                                                                                                                                                                                                                                                                                                                                                                                                                                                                                                                                                                                                                                                                                                                                                                                                                                                                                                                                                                                                                                                                                                                                                                                                                                                                                                                                                                                                                                                                                                                                                                                                                                                                                                                                                                                                                                                                                                                                                                                                                                                                                                                                                                                                                                                                                                                                                                                                                                                                                                                                                                                                                                                                                                                                                                                                                                                                                                                                                                                                                                                                                                                                                                                                                                                                                                                                                                                                                                                                                                                                                                                                                                                                                                         43\n",
      "[{\"cast_id\": 242, \"character\": \"Jake Sully\", \"credit_id\": \"5602a8a7c3a3685532001c9a\", \"gender\": 2, \"id\": 65731, \"name\": \"Sam Worthington\", \"order\": 0}, {\"cast_id\": 3, \"character\": \"Neytiri\", \"credit_id\": \"52fe48009251416c750ac9cb\", \"gender\": 1, \"id\": 8691, \"name\": \"Zoe Saldana\", \"order\": 1}, {\"cast_id\": 25, \"character\": \"Dr. Grace Augustine\", \"credit_id\": \"52fe48009251416c750aca39\", \"gender\": 1, \"id\": 10205, \"name\": \"Sigourney Weaver\", \"order\": 2}, {\"cast_id\": 4, \"character\": \"Col. Quaritch\", \"credit_id\": \"52fe48009251416c750ac9cf\", \"gender\": 2, \"id\": 32747, \"name\": \"Stephen Lang\", \"order\": 3}, {\"cast_id\": 5, \"character\": \"Trudy Chacon\", \"credit_id\": \"52fe48009251416c750ac9d3\", \"gender\": 1, \"id\": 17647, \"name\": \"Michelle Rodriguez\", \"order\": 4}, {\"cast_id\": 8, \"character\": \"Selfridge\", \"credit_id\": \"52fe48009251416c750ac9e1\", \"gender\": 2, \"id\": 1771, \"name\": \"Giovanni Ribisi\", \"order\": 5}, {\"cast_id\": 7, \"character\": \"Norm Spellman\", \"credit_id\": \"52fe48009251416c750ac9dd\", \"gender\": 2, \"id\": 59231, \"name\": \"Joel David Moore\", \"order\": 6}, {\"cast_id\": 9, \"character\": \"Moat\", \"credit_id\": \"52fe48009251416c750ac9e5\", \"gender\": 1, \"id\": 30485, \"name\": \"CCH Pounder\", \"order\": 7}, {\"cast_id\": 11, \"character\": \"Eytukan\", \"credit_id\": \"52fe48009251416c750ac9ed\", \"gender\": 2, \"id\": 15853, \"name\": \"Wes Studi\", \"order\": 8}, {\"cast_id\": 10, \"character\": \"Tsu'Tey\", \"credit_id\": \"52fe48009251416c750ac9e9\", \"gender\": 2, \"id\": 10964, \"name\": \"Laz Alonso\", \"order\": 9}, {\"cast_id\": 12, \"character\": \"Dr. Max Patel\", \"credit_id\": \"52fe48009251416c750ac9f1\", \"gender\": 2, \"id\": 95697, \"name\": \"Dileep Rao\", \"order\": 10}, {\"cast_id\": 13, \"character\": \"Lyle Wainfleet\", \"credit_id\": \"52fe48009251416c750ac9f5\", \"gender\": 2, \"id\": 98215, \"name\": \"Matt Gerald\", \"order\": 11}, {\"cast_id\": 32, \"character\": \"Private Fike\", \"credit_id\": \"52fe48009251416c750aca5b\", \"gender\": 2, \"id\": 154153, \"name\": \"Sean Anthony Moran\", \"order\": 12}, {\"cast_id\": 33, \"character\": \"Cryo Vault Med Tech\", \"credit_id\": \"52fe48009251416c750aca5f\", \"gender\": 2, \"id\": 397312, \"name\": \"Jason Whyte\", \"order\": 13}, {\"cast_id\": 34, \"character\": \"Venture Star Crew Chief\", \"credit_id\": \"52fe48009251416c750aca63\", \"gender\": 2, \"id\": 42317, \"name\": \"Scott Lawrence\", \"order\": 14}, {\"cast_id\": 35, \"character\": \"Lock Up Trooper\", \"credit_id\": \"52fe48009251416c750aca67\", \"gender\": 2, \"id\": 986734, \"name\": \"Kelly Kilgour\", \"order\": 15}, {\"cast_id\": 36, \"character\": \"Shuttle Pilot\", \"credit_id\": \"52fe48009251416c750aca6b\", \"gender\": 0, \"id\": 1207227, \"name\": \"James Patrick Pitt\", \"order\": 16}, {\"cast_id\": 37, \"character\": \"Shuttle Co-Pilot\", \"credit_id\": \"52fe48009251416c750aca6f\", \"gender\": 0, \"id\": 1180936, \"name\": \"Sean Patrick Murphy\", \"order\": 17}, {\"cast_id\": 38, \"character\": \"Shuttle Crew Chief\", \"credit_id\": \"52fe48009251416c750aca73\", \"gender\": 2, \"id\": 1019578, \"name\": \"Peter Dillon\", \"order\": 18}, {\"cast_id\": 39, \"character\": \"Tractor Operator / Troupe\", \"credit_id\": \"52fe48009251416c750aca77\", \"gender\": 0, \"id\": 91443, \"name\": \"Kevin Dorman\", \"order\": 19}, {\"cast_id\": 40, \"character\": \"Dragon Gunship Pilot\", \"credit_id\": \"52fe48009251416c750aca7b\", \"gender\": 2, \"id\": 173391, \"name\": \"Kelson Henderson\", \"order\": 20}, {\"cast_id\": 41, \"character\": \"Dragon Gunship Gunner\", \"credit_id\": \"52fe48009251416c750aca7f\", \"gender\": 0, \"id\": 1207236, \"name\": \"David Van Horn\", \"order\": 21}, {\"cast_id\": 42, \"character\": \"Dragon Gunship Navigator\", \"credit_id\": \"52fe48009251416c750aca83\", \"gender\": 0, \"id\": 215913, \"name\": \"Jacob Tomuri\", \"order\": 22}, {\"cast_id\": 43, \"character\": \"Suit #1\", \"credit_id\": \"52fe48009251416c750aca87\", \"gender\": 0, \"id\": 143206, \"name\": \"Michael Blain-Rozgay\", \"order\": 23}, {\"cast_id\": 44, \"character\": \"Suit #2\", \"credit_id\": \"52fe48009251416c750aca8b\", \"gender\": 2, \"id\": 169676, \"name\": \"Jon Curry\", \"order\": 24}, {\"cast_id\": 46, \"character\": \"Ambient Room Tech\", \"credit_id\": \"52fe48009251416c750aca8f\", \"gender\": 0, \"id\": 1048610, \"name\": \"Luke Hawker\", \"order\": 25}, {\"cast_id\": 47, \"character\": \"Ambient Room Tech / Troupe\", \"credit_id\": \"52fe48009251416c750aca93\", \"gender\": 0, \"id\": 42288, \"name\": \"Woody Schultz\", \"order\": 26}, {\"cast_id\": 48, \"character\": \"Horse Clan Leader\", \"credit_id\": \"52fe48009251416c750aca97\", \"gender\": 2, \"id\": 68278, \"name\": \"Peter Mensah\", \"order\": 27}, {\"cast_id\": 49, \"character\": \"Link Room Tech\", \"credit_id\": \"52fe48009251416c750aca9b\", \"gender\": 0, \"id\": 1207247, \"name\": \"Sonia Yee\", \"order\": 28}, {\"cast_id\": 50, \"character\": \"Basketball Avatar / Troupe\", \"credit_id\": \"52fe48009251416c750aca9f\", \"gender\": 1, \"id\": 1207248, \"name\": \"Jahnel Curfman\", \"order\": 29}, {\"cast_id\": 51, \"character\": \"Basketball Avatar\", \"credit_id\": \"52fe48009251416c750acaa3\", \"gender\": 0, \"id\": 89714, \"name\": \"Ilram Choi\", \"order\": 30}, {\"cast_id\": 52, \"character\": \"Na'vi Child\", \"credit_id\": \"52fe48009251416c750acaa7\", \"gender\": 0, \"id\": 1207249, \"name\": \"Kyla Warren\", \"order\": 31}, {\"cast_id\": 53, \"character\": \"Troupe\", \"credit_id\": \"52fe48009251416c750acaab\", \"gender\": 0, \"id\": 1207250, \"name\": \"Lisa Roumain\", \"order\": 32}, {\"cast_id\": 54, \"character\": \"Troupe\", \"credit_id\": \"52fe48009251416c750acaaf\", \"gender\": 1, \"id\": 83105, \"name\": \"Debra Wilson\", \"order\": 33}, {\"cast_id\": 57, \"character\": \"Troupe\", \"credit_id\": \"52fe48009251416c750acabb\", \"gender\": 0, \"id\": 1207253, \"name\": \"Chris Mala\", \"order\": 34}, {\"cast_id\": 55, \"character\": \"Troupe\", \"credit_id\": \"52fe48009251416c750acab3\", \"gender\": 0, \"id\": 1207251, \"name\": \"Taylor Kibby\", \"order\": 35}, {\"cast_id\": 56, \"character\": \"Troupe\", \"credit_id\": \"52fe48009251416c750acab7\", \"gender\": 0, \"id\": 1207252, \"name\": \"Jodie Landau\", \"order\": 36}, {\"cast_id\": 58, \"character\": \"Troupe\", \"credit_id\": \"52fe48009251416c750acabf\", \"gender\": 0, \"id\": 1207254, \"name\": \"Julie Lamm\", \"order\": 37}, {\"cast_id\": 59, \"character\": \"Troupe\", \"credit_id\": \"52fe48009251416c750acac3\", \"gender\": 0, \"id\": 1207257, \"name\": \"Cullen B. Madden\", \"order\": 38}, {\"cast_id\": 60, \"character\": \"Troupe\", \"credit_id\": \"52fe48009251416c750acac7\", \"gender\": 0, \"id\": 1207259, \"name\": \"Joseph Brady Madden\", \"order\": 39}, {\"cast_id\": 61, \"character\": \"Troupe\", \"credit_id\": \"52fe48009251416c750acacb\", \"gender\": 0, \"id\": 1207262, \"name\": \"Frankie Torres\", \"order\": 40}, {\"cast_id\": 62, \"character\": \"Troupe\", \"credit_id\": \"52fe48009251416c750acacf\", \"gender\": 1, \"id\": 1158600, \"name\": \"Austin Wilson\", \"order\": 41}, {\"cast_id\": 63, \"character\": \"Troupe\", \"credit_id\": \"52fe48019251416c750acad3\", \"gender\": 1, \"id\": 983705, \"name\": \"Sara Wilson\", \"order\": 42}, {\"cast_id\": 64, \"character\": \"Troupe\", \"credit_id\": \"52fe48019251416c750acad7\", \"gender\": 0, \"id\": 1207263, \"name\": \"Tamica Washington-Miller\", \"order\": 43}, {\"cast_id\": 65, \"character\": \"Op Center Staff\", \"credit_id\": \"52fe48019251416c750acadb\", \"gender\": 1, \"id\": 1145098, \"name\": \"Lucy Briant\", \"order\": 44}, {\"cast_id\": 66, \"character\": \"Op Center Staff\", \"credit_id\": \"52fe48019251416c750acadf\", \"gender\": 2, \"id\": 33305, \"name\": \"Nathan Meister\", \"order\": 45}, {\"cast_id\": 67, \"character\": \"Op Center Staff\", \"credit_id\": \"52fe48019251416c750acae3\", \"gender\": 0, \"id\": 1207264, \"name\": \"Gerry Blair\", \"order\": 46}, {\"cast_id\": 68, \"character\": \"Op Center Staff\", \"credit_id\": \"52fe48019251416c750acae7\", \"gender\": 2, \"id\": 33311, \"name\": \"Matthew Chamberlain\", \"order\": 47}, {\"cast_id\": 69, \"character\": \"Op Center Staff\", \"credit_id\": \"52fe48019251416c750acaeb\", \"gender\": 0, \"id\": 1207265, \"name\": \"Paul Yates\", \"order\": 48}, {\"cast_id\": 70, \"character\": \"Op Center Duty Officer\", \"credit_id\": \"52fe48019251416c750acaef\", \"gender\": 0, \"id\": 1207266, \"name\": \"Wray Wilson\", \"order\": 49}, {\"cast_id\": 71, \"character\": \"Op Center Staff\", \"credit_id\": \"52fe48019251416c750acaf3\", \"gender\": 2, \"id\": 54492, \"name\": \"James Gaylyn\", \"order\": 50}, {\"cast_id\": 72, \"character\": \"Dancer\", \"credit_id\": \"52fe48019251416c750acaf7\", \"gender\": 0, \"id\": 1207267, \"name\": \"Melvin Leno Clark III\", \"order\": 51}, {\"cast_id\": 73, \"character\": \"Dancer\", \"credit_id\": \"52fe48019251416c750acafb\", \"gender\": 0, \"id\": 1207268, \"name\": \"Carvon Futrell\", \"order\": 52}, {\"cast_id\": 74, \"character\": \"Dancer\", \"credit_id\": \"52fe48019251416c750acaff\", \"gender\": 0, \"id\": 1207269, \"name\": \"Brandon Jelkes\", \"order\": 53}, {\"cast_id\": 75, \"character\": \"Dancer\", \"credit_id\": \"52fe48019251416c750acb03\", \"gender\": 0, \"id\": 1207270, \"name\": \"Micah Moch\", \"order\": 54}, {\"cast_id\": 76, \"character\": \"Dancer\", \"credit_id\": \"52fe48019251416c750acb07\", \"gender\": 0, \"id\": 1207271, \"name\": \"Hanniyah Muhammad\", \"order\": 55}, {\"cast_id\": 77, \"character\": \"Dancer\", \"credit_id\": \"52fe48019251416c750acb0b\", \"gender\": 0, \"id\": 1207272, \"name\": \"Christopher Nolen\", \"order\": 56}, {\"cast_id\": 78, \"character\": \"Dancer\", \"credit_id\": \"52fe48019251416c750acb0f\", \"gender\": 0, \"id\": 1207273, \"name\": \"Christa Oliver\", \"order\": 57}, {\"cast_id\": 79, \"character\": \"Dancer\", \"credit_id\": \"52fe48019251416c750acb13\", \"gender\": 0, \"id\": 1207274, \"name\": \"April Marie Thomas\", \"order\": 58}, {\"cast_id\": 80, \"character\": \"Dancer\", \"credit_id\": \"52fe48019251416c750acb17\", \"gender\": 0, \"id\": 1207275, \"name\": \"Bravita A. Threatt\", \"order\": 59}, {\"cast_id\": 81, \"character\": \"Mining Chief (uncredited)\", \"credit_id\": \"52fe48019251416c750acb1b\", \"gender\": 0, \"id\": 1207276, \"name\": \"Colin Bleasdale\", \"order\": 60}, {\"cast_id\": 82, \"character\": \"Veteran Miner (uncredited)\", \"credit_id\": \"52fe48019251416c750acb1f\", \"gender\": 0, \"id\": 107969, \"name\": \"Mike Bodnar\", \"order\": 61}, {\"cast_id\": 83, \"character\": \"Richard (uncredited)\", \"credit_id\": \"52fe48019251416c750acb23\", \"gender\": 0, \"id\": 1207278, \"name\": \"Matt Clayton\", \"order\": 62}, {\"cast_id\": 84, \"character\": \"Nav'i (uncredited)\", \"credit_id\": \"52fe48019251416c750acb27\", \"gender\": 1, \"id\": 147898, \"name\": \"Nicole Dionne\", \"order\": 63}, {\"cast_id\": 85, \"character\": \"Trooper (uncredited)\", \"credit_id\": \"52fe48019251416c750acb2b\", \"gender\": 0, \"id\": 1207280, \"name\": \"Jamie Harrison\", \"order\": 64}, {\"cast_id\": 86, \"character\": \"Trooper (uncredited)\", \"credit_id\": \"52fe48019251416c750acb2f\", \"gender\": 0, \"id\": 1207281, \"name\": \"Allan Henry\", \"order\": 65}, {\"cast_id\": 87, \"character\": \"Ground Technician (uncredited)\", \"credit_id\": \"52fe48019251416c750acb33\", \"gender\": 2, \"id\": 1207282, \"name\": \"Anthony Ingruber\", \"order\": 66}, {\"cast_id\": 88, \"character\": \"Flight Crew Mechanic (uncredited)\", \"credit_id\": \"52fe48019251416c750acb37\", \"gender\": 0, \"id\": 1207283, \"name\": \"Ashley Jeffery\", \"order\": 67}, {\"cast_id\": 14, \"character\": \"Samson Pilot\", \"credit_id\": \"52fe48009251416c750ac9f9\", \"gender\": 0, \"id\": 98216, \"name\": \"Dean Knowsley\", \"order\": 68}, {\"cast_id\": 89, \"character\": \"Trooper (uncredited)\", \"credit_id\": \"52fe48019251416c750acb3b\", \"gender\": 0, \"id\": 1201399, \"name\": \"Joseph Mika-Hunt\", \"order\": 69}, {\"cast_id\": 90, \"character\": \"Banshee (uncredited)\", \"credit_id\": \"52fe48019251416c750acb3f\", \"gender\": 0, \"id\": 236696, \"name\": \"Terry Notary\", \"order\": 70}, {\"cast_id\": 91, \"character\": \"Soldier (uncredited)\", \"credit_id\": \"52fe48019251416c750acb43\", \"gender\": 0, \"id\": 1207287, \"name\": \"Kai Pantano\", \"order\": 71}, {\"cast_id\": 92, \"character\": \"Blast Technician (uncredited)\", \"credit_id\": \"52fe48019251416c750acb47\", \"gender\": 0, \"id\": 1207288, \"name\": \"Logan Pithyou\", \"order\": 72}, {\"cast_id\": 93, \"character\": \"Vindum Raah (uncredited)\", \"credit_id\": \"52fe48019251416c750acb4b\", \"gender\": 0, \"id\": 1207289, \"name\": \"Stuart Pollock\", \"order\": 73}, {\"cast_id\": 94, \"character\": \"Hero (uncredited)\", \"credit_id\": \"52fe48019251416c750acb4f\", \"gender\": 0, \"id\": 584868, \"name\": \"Raja\", \"order\": 74}, {\"cast_id\": 95, \"character\": \"Ops Centreworker (uncredited)\", \"credit_id\": \"52fe48019251416c750acb53\", \"gender\": 0, \"id\": 1207290, \"name\": \"Gareth Ruck\", \"order\": 75}, {\"cast_id\": 96, \"character\": \"Engineer (uncredited)\", \"credit_id\": \"52fe48019251416c750acb57\", \"gender\": 0, \"id\": 1062463, \"name\": \"Rhian Sheehan\", \"order\": 76}, {\"cast_id\": 97, \"character\": \"Col. Quaritch's Mech Suit (uncredited)\", \"credit_id\": \"52fe48019251416c750acb5b\", \"gender\": 0, \"id\": 60656, \"name\": \"T. J. Storm\", \"order\": 77}, {\"cast_id\": 98, \"character\": \"Female Marine (uncredited)\", \"credit_id\": \"52fe48019251416c750acb5f\", \"gender\": 0, \"id\": 1207291, \"name\": \"Jodie Taylor\", \"order\": 78}, {\"cast_id\": 99, \"character\": \"Ikran Clan Leader (uncredited)\", \"credit_id\": \"52fe48019251416c750acb63\", \"gender\": 1, \"id\": 1186027, \"name\": \"Alicia Vela-Bailey\", \"order\": 79}, {\"cast_id\": 100, \"character\": \"Geologist (uncredited)\", \"credit_id\": \"52fe48019251416c750acb67\", \"gender\": 0, \"id\": 1207292, \"name\": \"Richard Whiteside\", \"order\": 80}, {\"cast_id\": 101, \"character\": \"Na'vi (uncredited)\", \"credit_id\": \"52fe48019251416c750acb6b\", \"gender\": 0, \"id\": 103259, \"name\": \"Nikie Zambo\", \"order\": 81}, {\"cast_id\": 102, \"character\": \"Ambient Room Tech / Troupe\", \"credit_id\": \"52fe48019251416c750acb6f\", \"gender\": 1, \"id\": 42286, \"name\": \"Julene Renee\", \"order\": 82}]     1\n",
      "[{\"cast_id\": 1, \"character\": \"Sheldon Runyon\", \"credit_id\": \"52fe4458c3a36847f809072d\", \"gender\": 2, \"id\": 64, \"name\": \"Gary Oldman\", \"order\": 0}, {\"cast_id\": 2, \"character\": \"Laine Hanson\", \"credit_id\": \"52fe4458c3a36847f8090731\", \"gender\": 1, \"id\": 11148, \"name\": \"Joan Allen\", \"order\": 1}, {\"cast_id\": 3, \"character\": \"President Jackson Evans\", \"credit_id\": \"52fe4458c3a36847f8090735\", \"gender\": 2, \"id\": 1229, \"name\": \"Jeff Bridges\", \"order\": 2}, {\"cast_id\": 4, \"character\": \"Reginald Webster\", \"credit_id\": \"52fe4458c3a36847f8090739\", \"gender\": 2, \"id\": 2224, \"name\": \"Christian Slater\", \"order\": 3}, {\"cast_id\": 8, \"character\": \"Kermit Newman\", \"credit_id\": \"5467951c22136e1e1c0004b7\", \"gender\": 2, \"id\": 16431, \"name\": \"Sam Elliott\", \"order\": 4}, {\"cast_id\": 7, \"character\": \"Jack Hathaway\", \"credit_id\": \"5467950622136e1e0e000508\", \"gender\": 2, \"id\": 52267, \"name\": \"William Petersen\", \"order\": 5}, {\"cast_id\": 9, \"character\": \"Jerry Tolliver\", \"credit_id\": \"5467952ceaeb8118b700047e\", \"gender\": 2, \"id\": 3712, \"name\": \"Saul Rubinek\", \"order\": 6}, {\"cast_id\": 10, \"character\": \"Oscar Billings\", \"credit_id\": \"5467954822136e1e1f000494\", \"gender\": 2, \"id\": 4492, \"name\": \"Philip Baker Hall\", \"order\": 7}, {\"cast_id\": 11, \"character\": \"Lewis Hollis\", \"credit_id\": \"5467956422136e1e1300047b\", \"gender\": 2, \"id\": 24173, \"name\": \"Mike Binder\", \"order\": 8}, {\"cast_id\": 12, \"character\": \"Paige Willomina\", \"credit_id\": \"5467958e22136e1e13000480\", \"gender\": 1, \"id\": 2208, \"name\": \"Kathryn Morris\", \"order\": 9}, {\"cast_id\": 13, \"character\": \"\", \"credit_id\": \"5467b1f6eaeb8118bb0007af\", \"gender\": 1, \"id\": 10447, \"name\": \"Mariel Hemingway\", \"order\": 10}]                                                                                                                                                                                                                                                                                                                                                                                                                                                                                                                                                                                                                                                                                                                                                                                                                                                                                                                                                                                                                                                                                                                                                                                                                                                                                                                                                                                                                                                                                                                                                                                                                                                                                                                                                                                                                                                                                                                                                                                                                                                                                                                                                                                                                                                                                                                                                                                                                                                                                                                                                                                                                                                                                                                                                                                                                                                                                                                                                                                                                                                                                                                                                                                                                                                                                                                                                                                                                                                                                                                                                                                                                                                                                                                                                                                                                                                                                                                                                                                                                                                                                                                                                                                                                                                                                                                                                                                                                                                                                                                                                                                                                                                                                                                                                                                                                                                                                                                                                                                                                                                                                                                                                                                                                                                                                                                                                                                                                                                                                                                                                                                                                                                                                                                                                                                                                                                                                                                                                                                                                                                                                                                                                                                                                                                                                                                                                                                                                                                                                                                                                                                                                                                                                                                                                                                                                                                                                                                                                                                                                                                                                                                                                                                                                                                                                                                                                                                                                                                                                                                                                                                                                                                                                                                                                                                                                                                                                                                                                                                                                                                                                                                                                                                                                                                                                                                                                                                                                                                                                                                                                                                                                                                                                                                                                                                                                                                                                                                                                                                                                                                                                                                                                                                                                                                                                                                                                                                                                                                                                                                                                                                                                                                                                                                                                                                                                                                                                                                                                                                                                                                                                                                                                                                                                                                                                                                                                                                                                                                                                                                                                                                                                                                                                                                                                                                                                                                                                                                                                                                                                                                                                                                                                                                                                                                                                                                                                                                                                                                                                                                                                                                                                                                                                                                                       1\n",
      "[{\"cast_id\": 1, \"character\": \"Lorena\", \"credit_id\": \"52fe44a1c3a368484e02dcad\", \"gender\": 1, \"id\": 41901, \"name\": \"Roselyn S\\u00e1nchez\", \"order\": 0}, {\"cast_id\": 2, \"character\": \"Cici\", \"credit_id\": \"52fe44a1c3a368484e02dcb1\", \"gender\": 1, \"id\": 63522, \"name\": \"Sof\\u00eda Vergara\", \"order\": 1}, {\"cast_id\": 3, \"character\": \"Patricia\", \"credit_id\": \"52fe44a1c3a368484e02dcb5\", \"gender\": 1, \"id\": 231014, \"name\": \"Jaci Velasquez\", \"order\": 2}, {\"cast_id\": 4, \"character\": \"Thomas Fuentes\", \"credit_id\": \"52fe44a1c3a368484e02dcb9\", \"gender\": 0, \"id\": 72968, \"name\": \"Eduardo Ver\\u00e1stegui\", \"order\": 3}, {\"cast_id\": 5, \"character\": \"Carmen\", \"credit_id\": \"52fe44a1c3a368484e02dcbd\", \"gender\": 1, \"id\": 92774, \"name\": \"Lisa Vidal\", \"order\": 4}, {\"cast_id\": 6, \"character\": \"Victor\", \"credit_id\": \"52fe44a1c3a368484e02dcc1\", \"gender\": 2, \"id\": 6862, \"name\": \"Freddy Rodr\\u00edguez\", \"order\": 5}, {\"cast_id\": 7, \"character\": \"Maria\", \"credit_id\": \"52fe44a1c3a368484e02dcc5\", \"gender\": 1, \"id\": 2051, \"name\": \"Mar\\u00eda Conchita Alonso\", \"order\": 6}, {\"cast_id\": 8, \"character\": \"Rodrigo\", \"credit_id\": \"52fe44a1c3a368484e02dcc9\", \"gender\": 2, \"id\": 85931, \"name\": \"D. L. Hughley\", \"order\": 7}, {\"cast_id\": 12, \"character\": \"Guy at festival\", \"credit_id\": \"5798c7fcc3a3682b5b0004ab\", \"gender\": 2, \"id\": 543847, \"name\": \"Germ\\u00e1n Legarreta\", \"order\": 8}]                                                                                                                                                                                                                                                                                                                                                                                                                                                                                                                                                                                                                                                                                                                                                                                                                                                                                                                                                                                                                                                                                                                                                                                                                                                                                                                                                                                                                                                                                                                                                                                                                                                                                                                                                                                                                                                                                                                                                                                                                                                                                                                                                                                                                                                                                                                                                                                                                                                                                                                                                                                                                                                                                                                                                                                                                                                                                                                                                                                                                                                                                                                                                                                                                                                                                                                                                                                                                                                                                                                                                                                                                                                                                                                                                                                                                                                                                                                                                                                                                                                                                                                                                                                                                                                                                                                                                                                                                                                                                                                                                                                                                                                                                                                                                                                                                                                                                                                                                                                                                                                                                                                                                                                                                                                                                                                                                                                                                                                                                                                                                                                                                                                                                                                                                                                                                                                                                                                                                                                                                                                                                                                                                                                                                                                                                                                                                                                                                                                                                                                                                                                                                                                                                                                                                                                                                                                                                                                                                                                                                                                                                                                                                                                                                                                                                                                                                                                                                                                                                                                                                                                                                                                                                                                                                                                                                                                                                                                                                                                                                                                                                                                                                                                                                                                                                                                                                                                                                                                                                                                                                                                                                                                                                                                                                                                                                                                                                                                                                                                                                                                                                                                                                                                                                                                                                                                                                                                                                                                                                                                                                                                                                                                                                                                                                                                                                                                                                                                                                                                                                                                                                                                                                                                                                                                                                                                                                                                                                                                                                                                                                                                                                                                                                                                                                                                                                                                                                                                                                                                                                                                                                                                                                                                                                                                                                                                                                                                                                                                                                                                                                                                                                                                                                                                                                                                                                                                                                                                                                                                                                                                  1\n",
      "[{\"cast_id\": 19, \"character\": \"Wendy Savage\", \"credit_id\": \"52fe449ac3a36847f809f909\", \"gender\": 1, \"id\": 350, \"name\": \"Laura Linney\", \"order\": 0}, {\"cast_id\": 20, \"character\": \"Jon Savage\", \"credit_id\": \"52fe449ac3a36847f809f90d\", \"gender\": 2, \"id\": 1233, \"name\": \"Philip Seymour Hoffman\", \"order\": 1}, {\"cast_id\": 21, \"character\": \"Lenny Savage\", \"credit_id\": \"52fe449ac3a36847f809f911\", \"gender\": 2, \"id\": 6541, \"name\": \"Philip Bosco\", \"order\": 2}, {\"cast_id\": 22, \"character\": \"Kasia\", \"credit_id\": \"52fe449ac3a36847f809f915\", \"gender\": 1, \"id\": 2617, \"name\": \"Cara Seymour\", \"order\": 3}, {\"cast_id\": 23, \"character\": \"Larry\", \"credit_id\": \"52fe449ac3a36847f809f919\", \"gender\": 2, \"id\": 54246, \"name\": \"Peter Friedman\", \"order\": 4}, {\"cast_id\": 27, \"character\": \"Eduardo\", \"credit_id\": \"57f73dfd92514125550000e4\", \"gender\": 2, \"id\": 22821, \"name\": \"David Zayas\", \"order\": 5}, {\"cast_id\": 28, \"character\": \"Jimmy\", \"credit_id\": \"57f73e09c3a3683aa70000ce\", \"gender\": 2, \"id\": 81683, \"name\": \"Gbenga Akinnagbe\", \"order\": 6}, {\"cast_id\": 29, \"character\": \"Ms. Robinson\", \"credit_id\": \"57f73e1692514122bc000237\", \"gender\": 0, \"id\": 1214060, \"name\": \"Tonye Patano\", \"order\": 7}, {\"cast_id\": 30, \"character\": \"Bill Lachman\", \"credit_id\": \"57f73e2cc3a3687c68002560\", \"gender\": 2, \"id\": 19752, \"name\": \"Guy Boyd\", \"order\": 8}, {\"cast_id\": 31, \"character\": \"Nancy Lachman\", \"credit_id\": \"57f73e3fc3a3683aff000103\", \"gender\": 1, \"id\": 10386, \"name\": \"Debra Monk\", \"order\": 9}, {\"cast_id\": 32, \"character\": \"Doris Metzger\", \"credit_id\": \"57f73e60c3a3683aff00010f\", \"gender\": 1, \"id\": 8492, \"name\": \"Rosemary Murphy\", \"order\": 10}, {\"cast_id\": 33, \"character\": \"Burt\", \"credit_id\": \"57f73e68c3a3683b6f00010f\", \"gender\": 0, \"id\": 1690482, \"name\": \"Hal Blankenship\", \"order\": 11}, {\"cast_id\": 34, \"character\": \"Lizzie\", \"credit_id\": \"57f73e7fc3a3683aff00011e\", \"gender\": 0, \"id\": 1690483, \"name\": \"Joan Jaffe\", \"order\": 12}, {\"cast_id\": 35, \"character\": \"Mr. Sperry\", \"credit_id\": \"57f73e96c3a3683b2b00018a\", \"gender\": 2, \"id\": 137269, \"name\": \"Salem Ludwig\", \"order\": 13}, {\"cast_id\": 36, \"character\": \"Annie\", \"credit_id\": \"57f73ea5c3a3687c6800257f\", \"gender\": 1, \"id\": 121757, \"name\": \"Maddie Corman\", \"order\": 14}, {\"cast_id\": 37, \"character\": \"Roz\", \"credit_id\": \"57f73eb09251412427000182\", \"gender\": 1, \"id\": 452, \"name\": \"Margo Martindale\", \"order\": 15}, {\"cast_id\": 38, \"character\": \"Howard\", \"credit_id\": \"57f73ebec3a3683aa70001c1\", \"gender\": 0, \"id\": 205578, \"name\": \"Michael Blackson\", \"order\": 16}, {\"cast_id\": 39, \"character\": \"Simone\", \"credit_id\": \"57f73ecdc3a3687c68002589\", \"gender\": 0, \"id\": 1194969, \"name\": \"Sidn\\u00e9 Anderson\", \"order\": 17}, {\"cast_id\": 40, \"character\": \"Student\", \"credit_id\": \"57f73ed5c3a368397f000148\", \"gender\": 1, \"id\": 35028, \"name\": \"Zoe Kazan\", \"order\": 18}, {\"cast_id\": 25, \"character\": \"Manicurist #1\", \"credit_id\": \"53fc66010e0a267a7200a777\", \"gender\": 1, \"id\": 1154564, \"name\": \"Jennifer Lim\", \"order\": 19}]                                                                                                                                                                                                                                                                                                                                                                                                                                                                                                                                                                                                                                                                                                                                                                                                                                                                                                                                                                                                                                                                                                                                                                                                                                                                                                                                                                                                                                                                                                                                                                                                                                                                                                                                                                                                                                                                                                                                                                                                                                                                                                                                                                                                                                                                                                                                                                                                                                                                                                                                                                                                                                                                                                                                                                                                                                                                                                                                                                                                                                                                                                                                                                                                                                                                                                                                                                                                                                                                                                                                                                                                                                                                                                                                                                                                                                                                                                                                                                                                                                                                                                                                                                                                                                                                                                                                                                                                                                                                                                                                                                                                                                                                                                                                                                                                                                                                                                                                                                                                                                                                                                                                                                                                                                                                                                                                                                                                                                                                                                                                                                                                                                                                                                                                                                                                                                                                                                                                                                                                                                                                                                                                                                                                                                                                                                                                                                                                                                                                                                                                                                                                                                                                                                                                                                                                                                                                                                                                                                                                                                                                                                                                                                                                                                                                                                                                                                                                                                                                                                                                                                                                                                                                                                                                                                                                                                                                                                                                                                                                                                                                                                                                                                                                                                                                                                                                                                                                                                                                                                                                                                                                                                                                                                                                                                                                                                                                                                                                                                                                                                                                                                                                                                                                                                                                                                                                                                                                                                                                                                                                                                                                                                                                                                                                                                                                                                                                                                                                                                                                                                                                                                                                                                                                                                                                                                                                                                                         1\n",
      "                                                                                                                                                                                                                                                                                                                                                                                                                                                                                                                                                                                                                                                                                                                                                                                                                                                                                                                                                                                                                                                                                                                                                                                                                                                                                                                                                                                                                                                                                                                                                                                                                                                                                                                                                                                                                                                                                                                                                                                                                                                                                                                                                                                                                                                                                                                                                                                                                                                                                                                                                                                                                                                                                                                                                                                                                                                                                                                                                                                                                                                                                                                                                                                                                                                                                                                                                                                                                                                                                                                                                                                                                                                                                                                                                                                                                                                                                                                                                                                                                                                                                                                                                                                                                                                                                                                                                                                                                                                                                                                                                                                                                                                                                                                                                                                                                                                                                                                                                                                                                                                                                                                                                                                                                                                                                                                                                                                                                                                                                                                                                                                                                                                                                                                                                                                                                                                                                                                                                                                                                                                                                                                                                                                                                                                                                                                                                                                                                                                                                                                                                                                                                                                                                                                                                                                                                                                                                                                                                                                                                                                                                                                                                                                                                                                                                                                                                                                                                                                                                                                                                                                                                                                                                                                                                                                                                                                                                                                                                                                                                                                                                                                                                                                                                                                                                                                                                                                                                                                                                                                                                                                                                                                                                                                                                                                                                                                                                                                                                                                                                                                                                                                                                                                                                                                                                                                                                                                                                                                                                                                                                                                                                                                                                                                                                                                                                                                                                                                                                                                                                                                                                                                                                                                                                                                                                                                                                                                                                                                                                                                                                                                                                                                                                                                                                                                                                                                                                                                                                                                                                                                                                                                                                                                                                                                                                                                                                                                                                                                                                                                                                                                                                                                                                                                                                                                                                                                                                                                                                                                                                                                                                                                                                                                                                                                                                                                                                                                                                                                                                                                                                                                                                                                                                                                                                                                                                                                                                                                                                                                                                                                                                                                                                                                                                                                                                                                                                                                                                                                           ..\n",
      "[{\"cast_id\": 30, \"character\": \"Wallace / Hutch\", \"credit_id\": \"52fe424ec3a36847f8013f27\", \"gender\": 2, \"id\": 7317, \"name\": \"Peter Sallis\", \"order\": 0}, {\"cast_id\": 26, \"character\": \"Lady Campanula Tottington\", \"credit_id\": \"52fe424ec3a36847f8013f17\", \"gender\": 1, \"id\": 1283, \"name\": \"Helena Bonham Carter\", \"order\": 1}, {\"cast_id\": 27, \"character\": \"Victor Quartermaine\", \"credit_id\": \"52fe424ec3a36847f8013f1b\", \"gender\": 2, \"id\": 5469, \"name\": \"Ralph Fiennes\", \"order\": 2}, {\"cast_id\": 11, \"character\": \"Reverend Clement Hedges\", \"credit_id\": \"52fe424ec3a36847f8013edf\", \"gender\": 2, \"id\": 7319, \"name\": \"Nicholas Smith\", \"order\": 3}, {\"cast_id\": 12, \"character\": \"Mrs. Mulch\", \"credit_id\": \"52fe424ec3a36847f8013ee3\", \"gender\": 1, \"id\": 7320, \"name\": \"Liz Smith\", \"order\": 4}, {\"cast_id\": 13, \"character\": \"Mr. Windfall\", \"credit_id\": \"52fe424ec3a36847f8013ee7\", \"gender\": 2, \"id\": 7321, \"name\": \"John Thomson\", \"order\": 5}, {\"cast_id\": 15, \"character\": \"Mr. Caliche\", \"credit_id\": \"52fe424ec3a36847f8013eeb\", \"gender\": 2, \"id\": 127149, \"name\": \"Vincent Ebrahim\", \"order\": 6}, {\"cast_id\": 16, \"character\": \"Miss Thripp\", \"credit_id\": \"52fe424ec3a36847f8013eef\", \"gender\": 1, \"id\": 8326, \"name\": \"Geraldine McEwan\", \"order\": 7}, {\"cast_id\": 17, \"character\": \"Mr. Growbag\", \"credit_id\": \"52fe424ec3a36847f8013ef3\", \"gender\": 2, \"id\": 127150, \"name\": \"Edward Kelsey\", \"order\": 8}, {\"cast_id\": 18, \"character\": \"Mr. Mulch\", \"credit_id\": \"52fe424ec3a36847f8013ef7\", \"gender\": 2, \"id\": 127151, \"name\": \"Dicken Ashworth\", \"order\": 9}, {\"cast_id\": 19, \"character\": \"Mr. Dibber\", \"credit_id\": \"52fe424ec3a36847f8013efb\", \"gender\": 0, \"id\": 127152, \"name\": \"Robert Horvath\", \"order\": 10}, {\"cast_id\": 20, \"character\": \"Mr. Crock\", \"credit_id\": \"52fe424ec3a36847f8013eff\", \"gender\": 0, \"id\": 127153, \"name\": \"Pete Atkin\", \"order\": 11}, {\"cast_id\": 21, \"character\": \"Mrs. Girdling\", \"credit_id\": \"52fe424ec3a36847f8013f03\", \"gender\": 0, \"id\": 127154, \"name\": \"Noni Lewis\", \"order\": 12}, {\"cast_id\": 22, \"character\": \"Mr. Leaching\", \"credit_id\": \"52fe424ec3a36847f8013f07\", \"gender\": 0, \"id\": 127155, \"name\": \"Ben Whitehead\", \"order\": 13}, {\"cast_id\": 23, \"character\": \"Additional Voice\", \"credit_id\": \"52fe424ec3a36847f8013f0b\", \"gender\": 2, \"id\": 8399, \"name\": \"Christopher Fairbank\", \"order\": 14}, {\"cast_id\": 24, \"character\": \"Additional Voice\", \"credit_id\": \"52fe424ec3a36847f8013f0f\", \"gender\": 2, \"id\": 11351, \"name\": \"James Mather\", \"order\": 15}, {\"cast_id\": 25, \"character\": \"Additional Voice\", \"credit_id\": \"52fe424ec3a36847f8013f13\", \"gender\": 0, \"id\": 127156, \"name\": \"William Vanderpuye\", \"order\": 16}, {\"cast_id\": 28, \"character\": \"Miss Blight\", \"credit_id\": \"52fe424ec3a36847f8013f1f\", \"gender\": 2, \"id\": 34546, \"name\": \"Mark Gatiss\", \"order\": 17}, {\"cast_id\": 29, \"character\": \"PC Mackintosh\", \"credit_id\": \"52fe424ec3a36847f8013f23\", \"gender\": 2, \"id\": 7318, \"name\": \"Peter Kay\", \"order\": 18}, {\"cast_id\": 88, \"character\": \"Various (uncredited)\", \"credit_id\": \"571ac5fdc3a368707a0006a9\", \"gender\": 0, \"id\": 214477, \"name\": \"Nigel Pilkington\", \"order\": 19}]                                                                                                                                                                                                                                                                                                                                                                                                                                                                                                                                                                                                                                                                                                                                                                                                                                                                                                                                                                                                                                                                                                                                                                                                                                                                                                                                                                                                                                                                                                                                                                                                                                                                                                                                                                                                                                                                                                                                                                                                                                                                                                                                                                                                                                                                                                                                                                                                                                                                                                                                                                                                                                                                                                                                                                                                                                                                                                                                                                                                                                                                                                                                                                                                                                                                                                                                                                                                                                                                                                                                                                                                                                                                                                                                                                                                                                                                                                                                                                                                                                                                                                                                                                                                                                                                                                                                                                                                                                                                                                                                                                                                                                                                                                                                                                                                                                                                                                                                                                                                                                                                                                                                                                                                                                                                                                                                                                                                                                                                                                                                                                                                                                                                                                                                                                                                                                                                                                                                                                                                                                                                                                                                                                                                                                                                                                                                                                                                                                                                                                                                                                                                                                                                                                                                                                                                                                                                                                                                                                                                                                                                                                                                                                                                                                                                                                                                                                                                                                                                                                                                                                                                                                                                                                                                                                                                                                                                                                                                                                                                                                                                                                                                                                                                                                                                                                                                                                                                                                                                                                                                                                                                                                                                                                                                                                                                                                                                                                                                                                                                                                                                                                                                                                                                                                                                                                                                                                                                                                                                                                                                                                                                                                                                                                                                                                                                                                                                                                                                                                                                                                                                                                                                                                                                                                                                    1\n",
      "[{\"cast_id\": 16, \"character\": \"James Bond\", \"credit_id\": \"52fe426dc3a36847f801debf\", \"gender\": 2, \"id\": 10222, \"name\": \"Roger Moore\", \"order\": 0}, {\"cast_id\": 17, \"character\": \"Max Zorin\", \"credit_id\": \"52fe426dc3a36847f801dec3\", \"gender\": 2, \"id\": 4690, \"name\": \"Christopher Walken\", \"order\": 1}, {\"cast_id\": 18, \"character\": \"Stacey Sutton\", \"credit_id\": \"52fe426dc3a36847f801dec7\", \"gender\": 1, \"id\": 10660, \"name\": \"Tanya Roberts\", \"order\": 2}, {\"cast_id\": 19, \"character\": \"May Day\", \"credit_id\": \"52fe426dc3a36847f801decb\", \"gender\": 1, \"id\": 10661, \"name\": \"Grace Jones\", \"order\": 3}, {\"cast_id\": 20, \"character\": \"Tibbett\", \"credit_id\": \"52fe426dc3a36847f801decf\", \"gender\": 2, \"id\": 10662, \"name\": \"Patrick Macnee\", \"order\": 4}, {\"cast_id\": 21, \"character\": \"Scarpine\", \"credit_id\": \"52fe426ec3a36847f801ded3\", \"gender\": 0, \"id\": 5274, \"name\": \"Patrick Bauchau\", \"order\": 5}, {\"cast_id\": 22, \"character\": \"Chuck Lee\", \"credit_id\": \"52fe426ec3a36847f801ded7\", \"gender\": 0, \"id\": 696, \"name\": \"David Yip\", \"order\": 6}, {\"cast_id\": 23, \"character\": \"Pola Ivanova\", \"credit_id\": \"52fe426ec3a36847f801dedb\", \"gender\": 1, \"id\": 10663, \"name\": \"Fiona Fullerton\", \"order\": 7}, {\"cast_id\": 32, \"character\": \"Bob Conley\", \"credit_id\": \"5401059e0e0a2658e600326a\", \"gender\": 0, \"id\": 99366, \"name\": \"Manning Redwood\", \"order\": 8}, {\"cast_id\": 33, \"character\": \"Jenny Flex\", \"credit_id\": \"540105bf0e0a2658f100309d\", \"gender\": 1, \"id\": 739, \"name\": \"Alison Doody\", \"order\": 9}, {\"cast_id\": 24, \"character\": \"Dr. Carl Mortner\", \"credit_id\": \"52fe426ec3a36847f801dedf\", \"gender\": 2, \"id\": 10664, \"name\": \"Willoughby Gray\", \"order\": 10}, {\"cast_id\": 25, \"character\": \"Q\", \"credit_id\": \"52fe426ec3a36847f801dee3\", \"gender\": 2, \"id\": 9906, \"name\": \"Desmond Llewelyn\", \"order\": 11}, {\"cast_id\": 29, \"character\": \"M\", \"credit_id\": \"52fe426ec3a36847f801def3\", \"gender\": 2, \"id\": 10513, \"name\": \"Robert Brown\", \"order\": 12}, {\"cast_id\": 26, \"character\": \"Miss Moneypenny\", \"credit_id\": \"52fe426ec3a36847f801dee7\", \"gender\": 1, \"id\": 9878, \"name\": \"Lois Maxwell\", \"order\": 13}, {\"cast_id\": 27, \"character\": \"General Gogol\", \"credit_id\": \"52fe426ec3a36847f801deeb\", \"gender\": 0, \"id\": 6610, \"name\": \"Walter Gotell\", \"order\": 14}, {\"cast_id\": 28, \"character\": \"Minister of Defence\", \"credit_id\": \"52fe426ec3a36847f801deef\", \"gender\": 2, \"id\": 10462, \"name\": \"Geoffrey Keen\", \"order\": 15}, {\"cast_id\": 34, \"character\": \"Aubergine\", \"credit_id\": \"540105ef0e0a2658db003202\", \"gender\": 0, \"id\": 35881, \"name\": \"Jean Rougerie\", \"order\": 16}, {\"cast_id\": 35, \"character\": \"Howe\", \"credit_id\": \"5401062a0e0a2658e9003215\", \"gender\": 2, \"id\": 58663, \"name\": \"Daniel Benzali\", \"order\": 17}, {\"cast_id\": 40, \"character\": \"Klotkoff\", \"credit_id\": \"5947f555c3a368171b03dc8c\", \"gender\": 0, \"id\": 1327765, \"name\": \"Bogdan Kominowski\", \"order\": 18}, {\"cast_id\": 36, \"character\": \"Pah Ho (as Papillon Soo Soo)\", \"credit_id\": \"540106420e0a2658f10030ac\", \"gender\": 0, \"id\": 8668, \"name\": \"Papillon Soo\", \"order\": 19}, {\"cast_id\": 37, \"character\": \"Kimberley Jones\", \"credit_id\": \"540106940e0a2658d8003173\", \"gender\": 1, \"id\": 147290, \"name\": \"Mary Stavin\", \"order\": 20}, {\"cast_id\": 41, \"character\": \"Butterfly Act Compere\", \"credit_id\": \"5947f5a99251413fc203fd22\", \"gender\": 0, \"id\": 1835883, \"name\": \"Dominique Risbourg\", \"order\": 21}, {\"cast_id\": 42, \"character\": \"Whistling Girl\", \"credit_id\": \"5947f5d49251413fb60418bd\", \"gender\": 0, \"id\": 1225724, \"name\": \"Carole Ashby\", \"order\": 22}, {\"cast_id\": 43, \"character\": \"Taiwanese Tycoon (as Anthony Chin)\", \"credit_id\": \"5947f61cc3a36816f60439a0\", \"gender\": 0, \"id\": 1211876, \"name\": \"Anthony Chinn\", \"order\": 23}, {\"cast_id\": 44, \"character\": \"Paris Taxi Driver (as Lucien Jerome)\", \"credit_id\": \"5947f677c3a368265f021cdb\", \"gender\": 0, \"id\": 550424, \"name\": \"Lucien J\\u00e9r\\u00f4me\", \"order\": 24}, {\"cast_id\": 45, \"character\": \"U.S. Police Captain\", \"credit_id\": \"5947f698c3a36816e4040faf\", \"gender\": 0, \"id\": 169910, \"name\": \"Joe Flood\", \"order\": 25}, {\"cast_id\": 46, \"character\": \"Auctioneer\", \"credit_id\": \"5947f6e1c3a36816c5042f5d\", \"gender\": 0, \"id\": 1835885, \"name\": \"Gerard B\\u00fchr\", \"order\": 26}, {\"cast_id\": 47, \"character\": \"Venz\", \"credit_id\": \"5947f6f99251413ff404229d\", \"gender\": 2, \"id\": 16644, \"name\": \"Dolph Lundgren\", \"order\": 27}, {\"cast_id\": 48, \"character\": \"Mine Foreman\", \"credit_id\": \"5947f7269251413fbb0413e5\", \"gender\": 0, \"id\": 126536, \"name\": \"Tony Sibbald\", \"order\": 28}, {\"cast_id\": 49, \"character\": \"O'Rourke\", \"credit_id\": \"5947f73cc3a368265f021d81\", \"gender\": 0, \"id\": 548088, \"name\": \"Bill Ackridge\", \"order\": 29}, {\"cast_id\": 50, \"character\": \"Guard I\", \"credit_id\": \"5947f7549251413ff40422f3\", \"gender\": 2, \"id\": 1490615, \"name\": \"Ron Tarr\", \"order\": 30}, {\"cast_id\": 51, \"character\": \"Guard II\", \"credit_id\": \"5947f7669251413fdd0417ee\", \"gender\": 0, \"id\": 1835886, \"name\": \"Taylor McAuley\", \"order\": 31}, {\"cast_id\": 52, \"character\": \"Tycoon\", \"credit_id\": \"5947f772c3a36816c5042fe1\", \"gender\": 0, \"id\": 1835887, \"name\": \"Peter Ensor\", \"order\": 32}, {\"cast_id\": 53, \"character\": \"Helicopter Pilot\", \"credit_id\": \"5947f795c3a368171b03de5e\", \"gender\": 0, \"id\": 1646963, \"name\": \"Seva Novgorodtsev\", \"order\": 33}, {\"cast_id\": 54, \"character\": \"The Girls\", \"credit_id\": \"5947f7d5c3a368170f044198\", \"gender\": 0, \"id\": 1835888, \"name\": \"Sian Adey-Jones\", \"order\": 34}, {\"cast_id\": 55, \"character\": \"The Girls\", \"credit_id\": \"5947f7e2c3a368111502e59d\", \"gender\": 0, \"id\": 1835889, \"name\": \"Caroline Hallett\", \"order\": 35}, {\"cast_id\": 56, \"character\": \"The Girls\", \"credit_id\": \"5947f7eac3a368261901e9e6\", \"gender\": 0, \"id\": 1835890, \"name\": \"Nike Clark\", \"order\": 36}, {\"cast_id\": 57, \"character\": \"The Girls\", \"credit_id\": \"5947f7f1c3a368170f0441b5\", \"gender\": 0, \"id\": 1835891, \"name\": \"Paula Thomas\", \"order\": 37}, {\"cast_id\": 58, \"character\": \"The Girls\", \"credit_id\": \"5947f7f89251413fdd041896\", \"gender\": 0, \"id\": 1835892, \"name\": \"Gloria Douse\", \"order\": 38}, {\"cast_id\": 59, \"character\": \"The Girls\", \"credit_id\": \"5947f802c3a36816f6043b59\", \"gender\": 0, \"id\": 1835893, \"name\": \"Lou-Anne Ronchi\", \"order\": 39}, {\"cast_id\": 60, \"character\": \"The Girls\", \"credit_id\": \"5947f80a9251413fb1044c9f\", \"gender\": 0, \"id\": 1835894, \"name\": \"Elke Ritschel\", \"order\": 40}, {\"cast_id\": 61, \"character\": \"The Girls\", \"credit_id\": \"5947f814c3a368265f021e50\", \"gender\": 0, \"id\": 1835895, \"name\": \"Mayako Torigai\", \"order\": 41}]                                                                                                                                                                                                                                                                                                                                                                                                                                                                                                                                                                                                                                                                                                                                                                                                                                                                                                                                                                                                                                                                                                                                                                                                                                                                                                                                                                                                                                                                                                                                                                                                                                                                                                                                                                                                                                                                                                                                                                                                                                                                                                                                                                                                                                                                                                                                                                                                                                                                                                                                                                                                                                                                                                                                                                                                                                                                                                                                                                                                                                                                                                                                                                                                                                                                                                                                                                                                                                                                                                                                                                                                                                                                                                                                                                                                                                                                                                                                                                                                                                                                                                                                                                                                                                                                                                                                                                                                                                                                                                                                                                                                                                                                                                                                                                                                                                                                                                                                                                                                                                                                                                                                                                                                                                                                                                                                                                                                                                                                                                                                                                                                                                                                                                                                                                                                                                                                                                                                                                                                                                                                                                                                                                                                                                                                                                                                                                                                                                                                                                                                                                                                                                                                                                                                                                                                                          1\n",
      "[{\"cast_id\": 4, \"character\": \"Lt. Frank Drebin\", \"credit_id\": \"52fe45f69251416c910447f1\", \"gender\": 2, \"id\": 7633, \"name\": \"Leslie Nielsen\", \"order\": 0}, {\"cast_id\": 5, \"character\": \"Jane Spencer\", \"credit_id\": \"52fe45f69251416c910447f5\", \"gender\": 1, \"id\": 12949, \"name\": \"Priscilla Presley\", \"order\": 1}, {\"cast_id\": 10, \"character\": \"Ed Hocken\", \"credit_id\": \"52fe45f79251416c91044809\", \"gender\": 2, \"id\": 12950, \"name\": \"George Kennedy\", \"order\": 2}, {\"cast_id\": 6, \"character\": \"Nordberg\", \"credit_id\": \"52fe45f69251416c910447f9\", \"gender\": 2, \"id\": 12951, \"name\": \"O.J. Simpson\", \"order\": 3}, {\"cast_id\": 8, \"character\": \"Rocco\", \"credit_id\": \"52fe45f69251416c91044801\", \"gender\": 2, \"id\": 10430, \"name\": \"Fred Ward\", \"order\": 4}, {\"cast_id\": 9, \"character\": \"Muriel\", \"credit_id\": \"52fe45f79251416c91044805\", \"gender\": 1, \"id\": 7210, \"name\": \"Kathleen Freeman\", \"order\": 5}, {\"cast_id\": 7, \"character\": \"Tanya\", \"credit_id\": \"52fe45f69251416c910447fd\", \"gender\": 1, \"id\": 115654, \"name\": \"Anna Nicole Smith\", \"order\": 6}, {\"cast_id\": 18, \"character\": \"Dr. Roberts\", \"credit_id\": \"52fe45f79251416c91044837\", \"gender\": 1, \"id\": 24293, \"name\": \"Doris Belack\", \"order\": 7}, {\"cast_id\": 19, \"character\": \"Carjacker\", \"credit_id\": \"52fe45f79251416c9104483b\", \"gender\": 2, \"id\": 11915, \"name\": \"Nigel Gibbs\", \"order\": 8}, {\"cast_id\": 20, \"character\": \"Corridor Guard\", \"credit_id\": \"52fe45f79251416c9104483f\", \"gender\": 2, \"id\": 95061, \"name\": \"Andre Rosey Brown\", \"order\": 9}, {\"cast_id\": 21, \"character\": \"Himself\", \"credit_id\": \"5562fa2d92514116cb000dc4\", \"gender\": 0, \"id\": 15152, \"name\": \"James Earl Jones\", \"order\": 10}, {\"cast_id\": 22, \"character\": \"Pia Zadora\", \"credit_id\": \"56687f3a92514173fc003635\", \"gender\": 1, \"id\": 21992, \"name\": \"Pia Zadora\", \"order\": 11}, {\"cast_id\": 23, \"character\": \"Louise\", \"credit_id\": \"57a52cb39251412e72006f8e\", \"gender\": 1, \"id\": 13420, \"name\": \"Ellen Greene\", \"order\": 12}, {\"cast_id\": 24, \"character\": \"Papshmir\", \"credit_id\": \"57a52cc9c3a36868ee004ca8\", \"gender\": 2, \"id\": 13422, \"name\": \"Raye Birk\", \"order\": 13}, {\"cast_id\": 25, \"character\": \"Defense Attorney\", \"credit_id\": \"57a52cd69251412ee3006e5d\", \"gender\": 0, \"id\": 1319670, \"name\": \"Wylie Small\", \"order\": 14}, {\"cast_id\": 26, \"character\": \"Big Hairy Con\", \"credit_id\": \"57a52cf5925141332d006bab\", \"gender\": 0, \"id\": 5177, \"name\": \"Randall 'Tex' Cobb\", \"order\": 15}, {\"cast_id\": 27, \"character\": \"Ann B. Davis\", \"credit_id\": \"57a52d00c3a368615a0071bd\", \"gender\": 1, \"id\": 125110, \"name\": \"Ann B. Davis\", \"order\": 16}, {\"cast_id\": 28, \"character\": \"Vanna White\", \"credit_id\": \"57a52d0ec3a368615a0071ce\", \"gender\": 1, \"id\": 97752, \"name\": \"Vanna White\", \"order\": 17}, {\"cast_id\": 29, \"character\": \"'Weird Al' Yankovic\", \"credit_id\": \"57a52d19c3a36807cb00249e\", \"gender\": 0, \"id\": 71041, \"name\": \"\\\"Weird Al\\\" Yankovic\", \"order\": 18}, {\"cast_id\": 30, \"character\": \"Mary Lou Retton\", \"credit_id\": \"57a52d26c3a36807cb0024a9\", \"gender\": 0, \"id\": 1224933, \"name\": \"Mary Lou Retton\", \"order\": 19}, {\"cast_id\": 31, \"character\": \"Teleprompter Guy\", \"credit_id\": \"57a52d5fc3a368615a0071fa\", \"gender\": 2, \"id\": 12987, \"name\": \"David Zucker\", \"order\": 20}, {\"cast_id\": 32, \"character\": \"Dominatrix\", \"credit_id\": \"57a52d71c3a368615a007209\", \"gender\": 1, \"id\": 80116, \"name\": \"Julie Strain\", \"order\": 21}, {\"cast_id\": 33, \"character\": \"Florence Henderson\", \"credit_id\": \"57a52d8392514132fa006bf4\", \"gender\": 1, \"id\": 75343, \"name\": \"Florence Henderson\", \"order\": 22}, {\"cast_id\": 34, \"character\": \"Mourner\", \"credit_id\": \"57a52da0c3a368615a007220\", \"gender\": 0, \"id\": 64445, \"name\": \"Elisa Gabrielli\", \"order\": 23}, {\"cast_id\": 35, \"character\": \"Shannen Doherty\", \"credit_id\": \"57a52db892514131a700197e\", \"gender\": 1, \"id\": 19144, \"name\": \"Shannen Doherty\", \"order\": 24}, {\"cast_id\": 36, \"character\": \"Morgan Fairchild\", \"credit_id\": \"57a52dc4c3a36866d9007297\", \"gender\": 1, \"id\": 14990, \"name\": \"Morgan Fairchild\", \"order\": 25}, {\"cast_id\": 37, \"character\": \"Elliott Gould\", \"credit_id\": \"57a52dcd92514117650048d7\", \"gender\": 2, \"id\": 827, \"name\": \"Elliott Gould\", \"order\": 26}, {\"cast_id\": 38, \"character\": \"Mariel Hemingway\", \"credit_id\": \"57a52ddb92514110020025bc\", \"gender\": 1, \"id\": 10447, \"name\": \"Mariel Hemingway\", \"order\": 27}, {\"cast_id\": 39, \"character\": \"James Earl Jones\", \"credit_id\": \"57a52de6c3a3684917007894\", \"gender\": 0, \"id\": 15152, \"name\": \"James Earl Jones\", \"order\": 28}, {\"cast_id\": 40, \"character\": \"Raquel Welch\", \"credit_id\": \"57a52df6c3a368615a007262\", \"gender\": 1, \"id\": 21462, \"name\": \"Raquel Welch\", \"order\": 29}, {\"cast_id\": 41, \"character\": \"Oscar Guest in Birdcage Skirt\", \"credit_id\": \"57a52e03c3a368615a007271\", \"gender\": 0, \"id\": 1190129, \"name\": \"Symba\", \"order\": 30}]                                                                                                                                                                                                                                                                                                                                                                                                                                                                                                                                                                                                                                                                                                                                                                                                                                                                                                                                                                                                                                                                                                                                                                                                                                                                                                                                                                                                                                                                                                                                                                                                                                                                                                                                                                                                                                                                                                                                                                                                                                                                                                                                                                                                                                                                                                                                                                                                                                                                                                                                                                                                                                                                                                                                                                                                                                                                                                                                                                                                                                                                                                                                                                                                                                                                                                                                                                                                                                                                                                                                                                                                                                                                                                                                                                                                                                                                                                                                                                                                                                                                                                                                                                                                                                                                                                                                                                                                                                                                                                                                                                                                                                                                                                                                                                                                                                                                                                                                                                                                                                                                                                                                                                                                                                                                                                                                                                                                                                                                                                                                                                                                                                                                                                                                                                                                                                                                                                                                                                                                                                                                                                                                                                                                                                                                                                                                                                                                                                                                                                                                                                                                                                                                                                                                                                                                                                                                                                                                                                                                                                                                                                                                                                                                                                                                                                                                                                                                                                                                                                                                                                                                                                                                                                                                                                                                                                                                                                                                                                                                                                                                                                                                                                                                                                                                                                                                                                                                                                                                                                                                                                   1\n",
      "[{\"cast_id\": 1, \"character\": \"Calvin Cambridge\", \"credit_id\": \"52fe442fc3a368484e01451b\", \"gender\": 0, \"id\": 58197, \"name\": \"Shad Moss\", \"order\": 0}, {\"cast_id\": 2, \"character\": \"Tracey Reynolds\", \"credit_id\": \"52fe442fc3a368484e01451f\", \"gender\": 2, \"id\": 9779, \"name\": \"Morris Chestnut\", \"order\": 1}, {\"cast_id\": 3, \"character\": \"Murph\", \"credit_id\": \"52fe442fc3a368484e014523\", \"gender\": 2, \"id\": 67778, \"name\": \"Jonathan Lipnicki\", \"order\": 2}, {\"cast_id\": 4, \"character\": \"Reg Stevens\", \"credit_id\": \"52fe442fc3a368484e014527\", \"gender\": 1, \"id\": 88123, \"name\": \"Brenda Song\", \"order\": 3}, {\"cast_id\": 5, \"character\": \"Ox\", \"credit_id\": \"52fe442fc3a368484e01452b\", \"gender\": 2, \"id\": 88124, \"name\": \"Jesse Plemons\", \"order\": 4}, {\"cast_id\": 6, \"character\": \"Marlon\", \"credit_id\": \"52fe442fc3a368484e01452f\", \"gender\": 0, \"id\": 88125, \"name\": \"Julius Ritter\", \"order\": 5}, {\"cast_id\": 7, \"character\": \"Stan Bittleman\", \"credit_id\": \"52fe442fc3a368484e014533\", \"gender\": 2, \"id\": 1064, \"name\": \"Crispin Glover\", \"order\": 6}, {\"cast_id\": 8, \"character\": \"Sister Theresa\", \"credit_id\": \"52fe442fc3a368484e014537\", \"gender\": 1, \"id\": 32394, \"name\": \"Anne Meara\", \"order\": 7}, {\"cast_id\": 9, \"character\": \"Coach Wagner\", \"credit_id\": \"52fe442fc3a368484e01453b\", \"gender\": 2, \"id\": 5694, \"name\": \"Robert Forster\", \"order\": 8}, {\"cast_id\": 10, \"character\": \"Frank Bernard\", \"credit_id\": \"52fe442fc3a368484e01453f\", \"gender\": 2, \"id\": 26510, \"name\": \"Eugene Levy\", \"order\": 9}, {\"cast_id\": 11, \"character\": \"Marvin Joad\", \"credit_id\": \"52fe442fc3a368484e014543\", \"gender\": 0, \"id\": 88126, \"name\": \"Roger Morrissey\", \"order\": 10}, {\"cast_id\": 12, \"character\": \"Henderson\", \"credit_id\": \"52fe442fc3a368484e014547\", \"gender\": 0, \"id\": 88127, \"name\": \"Timon Kyle\", \"order\": 11}, {\"cast_id\": 34, \"character\": \"Jones\", \"credit_id\": \"59bcb148c3a3681b580083ae\", \"gender\": 0, \"id\": 1653176, \"name\": \"David Brown\", \"order\": 12}]                                                                                                                                                                                                                                                                                                                                                                                                                                                                                                                                                                                                                                                                                                                                                                                                                                                                                                                                                                                                                                                                                                                                                                                                                                                                                                                                                                                                                                                                                                                                                                                                                                                                                                                                                                                                                                                                                                                                                                                                                                                                                                                                                                                                                                                                                                                                                                                                                                                                                                                                                                                                                                                                                                                                                                                                                                                                                                                                                                                                                                                                                                                                                                                                                                                                                                                                                                                                                                                                                                                                                                                                                                                                                                                                                                                                                                                                                                                                                                                                                                                                                                                                                                                                                                                                                                                                                                                                                                                                                                                                                                                                                                                                                                                                                                                                                                                                                                                                                                                                                                                                                                                                                                                                                                                                                                                                                                                                                                                                                                                                                                                                                                                                                                                                                                                                                                                                                                                                                                                                                                                                                                                                                                                                                                                                                                                                                                                                                                                                                                                                                                                                                                                                                                                                                                                                                                                                                                                                                                                                                                                                                                                                                                                                                                                                                                                                                                                                                                                                                                                                                                                                                                                                                                                                                                                                                                                                                                                                                                                                                                                                                                                                                                                                                                                                                                                                                                                                                                                                                                                                                                                                                                                                                                                                                                                                                                                                                                                                                                                                                                                                                                                                                                                                                                                                                                                                                                                                                                                                                                                                                                                                                                                                                                                                                                                                                                                                                                                                                                                                                                                                                                                                                                                                                                                                                                                                                                                                                                                                                                                                                                                                                                                                                                                                                                                                                                                                                                                                                                                                                                                                                                                                                                                                                                                                                                                                                                                                                                                                  1\n",
      "[{\"cast_id\": 3, \"character\": \"Herself\", \"credit_id\": \"52fe44e8c3a368484e03da91\", \"gender\": 1, \"id\": 69597, \"name\": \"Drew Barrymore\", \"order\": 0}, {\"cast_id\": 5, \"character\": \"Himself\", \"credit_id\": \"58ce01169251415a3901648f\", \"gender\": 2, \"id\": 85563, \"name\": \"Brian Herzlinger\", \"order\": 1}, {\"cast_id\": 6, \"character\": \"Himself\", \"credit_id\": \"58ce01339251415a410167f0\", \"gender\": 2, \"id\": 3034, \"name\": \"Corey Feldman\", \"order\": 2}, {\"cast_id\": 8, \"character\": \"Himself\", \"credit_id\": \"58ce018c9251415a7d016e36\", \"gender\": 2, \"id\": 21315, \"name\": \"Eric Roberts\", \"order\": 3}, {\"cast_id\": 9, \"character\": \"Himself\", \"credit_id\": \"58ce01b99251415a7d016e7d\", \"gender\": 0, \"id\": 2171, \"name\": \"Griffin Dunne\", \"order\": 4}, {\"cast_id\": 10, \"character\": \"Himself\", \"credit_id\": \"58ce01d19251415a8b0168be\", \"gender\": 2, \"id\": 2231, \"name\": \"Samuel L. Jackson\", \"order\": 5}, {\"cast_id\": 11, \"character\": \"Himself\", \"credit_id\": \"58ce01dd9251415a39016580\", \"gender\": 2, \"id\": 14407, \"name\": \"Matt LeBlanc\", \"order\": 6}, {\"cast_id\": 7, \"character\": \"Himself\", \"credit_id\": \"58ce0164c3a3685104015b28\", \"gender\": 2, \"id\": 155007, \"name\": \"Bill D'Elia\", \"order\": 7}]                                                                                                                                                                                                                                                                                                                                                                                                                                                                                                                                                                                                                                                                                                                                                                                                                                                                                                                                                                                                                                                                                                                                                                                                                                                                                                                                                                                                                                                                                                                                                                                                                                                                                                                                                                                                                                                                                                                                                                                                                                                                                                                                                                                                                                                                                                                                                                                                                                                                                                                                                                                                                                                                                                                                                                                                                                                                                                                                                                                                                                                                                                                                                                                                                                                                                                                                                                                                                                                                                                                                                                                                                                                                                                                                                                                                                                                                                                                                                                                                                                                                                                                                                                                                                                                                                                                                                                                                                                                                                                                                                                                                                                                                                                                                                                                                                                                                                                                                                                                                                                                                                                                                                                                                                                                                                                                                                                                                                                                                                                                                                                                                                                                                                                                                                                                                                                                                                                                                                                                                                                                                                                                                                                                                                                                                                                                                                                                                                                                                                                                                                                                                                                                                                                                                                                                                                                                                                                                                                                                                                                                                                                                                                                                                                                                                                                                                                                                                                                                                                                                                                                                                                                                                                                                                                                                                                                                                                                                                                                                                                                                                                                                                                                                                                                                                                                                                                                                                                                                                                                                                                                                                                                                                                                                                                                                                                                                                                                                                                                                                                                                                                                                                                                                                                                                                                                                                                                                                                                                                                                                                                                                                                                                                                                                                                                                                                                                                                                                                                                                                                                                                                                                                                                                                                                                                                                                                                                                                                                                                                                                                                                                                                                                                                                                                                                                                                                                                                                                                                                                                                                                                                                                                                                                                                                                                                                                                                                                                                                                                                                                                                                                                                                                                                                                                                                                                                                                                                                                                                                                                                                                                                                                                                                                                                                                        1\n",
      "Name: count, Length: 4761, dtype: int64\n",
      "-------------------\n",
      "crew\n",
      "[]                                                                                                                                                                                                                                                                                                                                                                                                                                                                                                                                                                                                                                                                                                                                                                                                                                                                                                                                                                                                                                                                                                                                                                                                                                                                                                                                                                                                                                                                                                                                                                                                                                                                                                                                                                                                                                                                                                                                                                                                                                                                                                                                                                                                                                                                                                                                                                                                                                                                                                                                                                                                                                                                                                                                                                                                                                                                                                                                                                                                                                                                                                                                                                                                                                                                                                                                                                                                                                                                                                                                                                                                                                                                                                                                                                                                                                                                                                                                                                                                                                                                                                                                                                                                                                                                                                                                                                                                                                                                                                                                                                                                                                                                                                                                                                                                                                                                                                                                                                                                                                                                                                                                                                                                                                                                                                                                                                                                                                                                                                                                                                                                                                                                                                                                                                                                                                                                                                                                                                                                                                                                                                                                                                                                                                                                                                                                                                                                                                                                                                                                                                                                                                                                                                                                                                                                                                                                                                                                                                                                                                                                                                                                                                                                                                                                                                                                                                                                                                                                                                                                                                                                                                                                                                                                                                                                                                                                                                                                                                                                                                                                                                                                                                                                                                                                                                                                                                                                                                                                                                                                                                                                                                                                                                                                                                                                                                                                                                                                                                                                                                                                                                                                                                                                                                                                                                                                                                                                                                                                                                                                                                                                                                                                                                                                                                                                                                                                                                                                                                                                                                                                                                                                                                                                                                                                                                                                                                                                                                                                                                                                                                                                                                                                                                                                                                                                                                                                                                                                                                                                                                                                                                                                                                                                                                                                                                                                                                                                                                                                                                                                                                                                                                                                                                                                                                                                                                                                                                                                                                                                                                                                                                                                                                                                                                                                                                                                                                                                                                                                                                                                                                                                                                                                                                                                                                                                                                                                                                                                                                                                                                                                                                                                                                                                                                                                                                                                                                                                                                                                                                                                                                                                                                                                                                                                                                                                                                                                                                                                                                                                                                                                                                                                                                                                                                                                                                                                                                                                                                                                                                                                                                                                                                                                                                                                                                                                                                                                                                                                                                                                                                                                                                                                                                                                                                                                                                                                                                                                                                                                                                                                                                                                                                                                                                                                                                                                                                                                                                                                                                                                                                                                                                                                                                                                                                                                                                                                                                                                                                                                                                                                                                                                                                                                                                                                                                                                                                                                                                                                                                                                                                                                                                                                                                                                                                                                                                                                                                                                                                                                                                                                                                                                                                                                                                                                                                                                                                                                                                                                                                                                                                                                                                                                                                                                                                                                                                                                                                                                                                                                                                                                                                                                                                                                                                                                                                                                                                                                                                                                                                                                                                                                                                                                                                                                                                                                                                                                                                                                                                                                                                                                                                                                                                                                                                                                                                                                                                                                                                                                                                                                                                                                                                                                                                                                                                                                                                                                                                                                                                                                                                                                                                                                                                                                                                                                                                                                                                                                                                                                                                                                                                                                                                                                                                                                                                                                                                                                                                                                                                                                                                                                                                                                                                                                                                                                                                                                                                                                                                                                                                                                                                                                                                                                                                                                                                                                                                                                                                                                                                                                                                                                                                                                                                                                                                                                                                                                                                                                                                                                                                                                                                                                                                                                                                                                                                                                                                                                                                                                                                                                                                                                                                                                                                                                                                                                                                                 28\n",
      "[{\"credit_id\": \"52fe48009251416c750aca23\", \"department\": \"Editing\", \"gender\": 0, \"id\": 1721, \"job\": \"Editor\", \"name\": \"Stephen E. Rivkin\"}, {\"credit_id\": \"539c47ecc3a36810e3001f87\", \"department\": \"Art\", \"gender\": 2, \"id\": 496, \"job\": \"Production Design\", \"name\": \"Rick Carter\"}, {\"credit_id\": \"54491c89c3a3680fb4001cf7\", \"department\": \"Sound\", \"gender\": 0, \"id\": 900, \"job\": \"Sound Designer\", \"name\": \"Christopher Boyes\"}, {\"credit_id\": \"54491cb70e0a267480001bd0\", \"department\": \"Sound\", \"gender\": 0, \"id\": 900, \"job\": \"Supervising Sound Editor\", \"name\": \"Christopher Boyes\"}, {\"credit_id\": \"539c4a4cc3a36810c9002101\", \"department\": \"Production\", \"gender\": 1, \"id\": 1262, \"job\": \"Casting\", \"name\": \"Mali Finn\"}, {\"credit_id\": \"5544ee3b925141499f0008fc\", \"department\": \"Sound\", \"gender\": 2, \"id\": 1729, \"job\": \"Original Music Composer\", \"name\": \"James Horner\"}, {\"credit_id\": \"52fe48009251416c750ac9c3\", \"department\": \"Directing\", \"gender\": 2, \"id\": 2710, \"job\": \"Director\", \"name\": \"James Cameron\"}, {\"credit_id\": \"52fe48009251416c750ac9d9\", \"department\": \"Writing\", \"gender\": 2, \"id\": 2710, \"job\": \"Writer\", \"name\": \"James Cameron\"}, {\"credit_id\": \"52fe48009251416c750aca17\", \"department\": \"Editing\", \"gender\": 2, \"id\": 2710, \"job\": \"Editor\", \"name\": \"James Cameron\"}, {\"credit_id\": \"52fe48009251416c750aca29\", \"department\": \"Production\", \"gender\": 2, \"id\": 2710, \"job\": \"Producer\", \"name\": \"James Cameron\"}, {\"credit_id\": \"52fe48009251416c750aca3f\", \"department\": \"Writing\", \"gender\": 2, \"id\": 2710, \"job\": \"Screenplay\", \"name\": \"James Cameron\"}, {\"credit_id\": \"539c4987c3a36810ba0021a4\", \"department\": \"Art\", \"gender\": 2, \"id\": 7236, \"job\": \"Art Direction\", \"name\": \"Andrew Menzies\"}, {\"credit_id\": \"549598c3c3a3686ae9004383\", \"department\": \"Visual Effects\", \"gender\": 0, \"id\": 6690, \"job\": \"Visual Effects Producer\", \"name\": \"Jill Brooks\"}, {\"credit_id\": \"52fe48009251416c750aca4b\", \"department\": \"Production\", \"gender\": 1, \"id\": 6347, \"job\": \"Casting\", \"name\": \"Margery Simkin\"}, {\"credit_id\": \"570b6f419251417da70032fe\", \"department\": \"Art\", \"gender\": 2, \"id\": 6878, \"job\": \"Supervising Art Director\", \"name\": \"Kevin Ishioka\"}, {\"credit_id\": \"5495a0fac3a3686ae9004468\", \"department\": \"Sound\", \"gender\": 0, \"id\": 6883, \"job\": \"Music Editor\", \"name\": \"Dick Bernstein\"}, {\"credit_id\": \"54959706c3a3686af3003e81\", \"department\": \"Sound\", \"gender\": 0, \"id\": 8159, \"job\": \"Sound Effects Editor\", \"name\": \"Shannon Mills\"}, {\"credit_id\": \"54491d58c3a3680fb1001ccb\", \"department\": \"Sound\", \"gender\": 0, \"id\": 8160, \"job\": \"Foley\", \"name\": \"Dennie Thorpe\"}, {\"credit_id\": \"54491d6cc3a3680fa5001b2c\", \"department\": \"Sound\", \"gender\": 0, \"id\": 8163, \"job\": \"Foley\", \"name\": \"Jana Vance\"}, {\"credit_id\": \"52fe48009251416c750aca57\", \"department\": \"Costume & Make-Up\", \"gender\": 1, \"id\": 8527, \"job\": \"Costume Design\", \"name\": \"Deborah Lynn Scott\"}, {\"credit_id\": \"52fe48009251416c750aca2f\", \"department\": \"Production\", \"gender\": 2, \"id\": 8529, \"job\": \"Producer\", \"name\": \"Jon Landau\"}, {\"credit_id\": \"539c4937c3a36810ba002194\", \"department\": \"Art\", \"gender\": 0, \"id\": 9618, \"job\": \"Art Direction\", \"name\": \"Sean Haworth\"}, {\"credit_id\": \"539c49b6c3a36810c10020e6\", \"department\": \"Art\", \"gender\": 1, \"id\": 12653, \"job\": \"Set Decoration\", \"name\": \"Kim Sinclair\"}, {\"credit_id\": \"570b6f2f9251413a0e00020d\", \"department\": \"Art\", \"gender\": 1, \"id\": 12653, \"job\": \"Supervising Art Director\", \"name\": \"Kim Sinclair\"}, {\"credit_id\": \"54491a6c0e0a26748c001b19\", \"department\": \"Art\", \"gender\": 2, \"id\": 14350, \"job\": \"Set Designer\", \"name\": \"Richard F. Mays\"}, {\"credit_id\": \"56928cf4c3a3684cff0025c4\", \"department\": \"Production\", \"gender\": 1, \"id\": 20294, \"job\": \"Executive Producer\", \"name\": \"Laeta Kalogridis\"}, {\"credit_id\": \"52fe48009251416c750aca51\", \"department\": \"Costume & Make-Up\", \"gender\": 0, \"id\": 17675, \"job\": \"Costume Design\", \"name\": \"Mayes C. Rubeo\"}, {\"credit_id\": \"52fe48009251416c750aca11\", \"department\": \"Camera\", \"gender\": 2, \"id\": 18265, \"job\": \"Director of Photography\", \"name\": \"Mauro Fiore\"}, {\"credit_id\": \"5449194d0e0a26748f001b39\", \"department\": \"Art\", \"gender\": 0, \"id\": 42281, \"job\": \"Set Designer\", \"name\": \"Scott Herbertson\"}, {\"credit_id\": \"52fe48009251416c750aca05\", \"department\": \"Crew\", \"gender\": 0, \"id\": 42288, \"job\": \"Stunts\", \"name\": \"Woody Schultz\"}, {\"credit_id\": \"5592aefb92514152de0010f5\", \"department\": \"Costume & Make-Up\", \"gender\": 0, \"id\": 29067, \"job\": \"Makeup Artist\", \"name\": \"Linda DeVetta\"}, {\"credit_id\": \"5592afa492514152de00112c\", \"department\": \"Costume & Make-Up\", \"gender\": 0, \"id\": 29067, \"job\": \"Hairstylist\", \"name\": \"Linda DeVetta\"}, {\"credit_id\": \"54959ed592514130fc002e5d\", \"department\": \"Camera\", \"gender\": 2, \"id\": 33302, \"job\": \"Camera Operator\", \"name\": \"Richard Bluck\"}, {\"credit_id\": \"539c4891c3a36810ba002147\", \"department\": \"Art\", \"gender\": 2, \"id\": 33303, \"job\": \"Art Direction\", \"name\": \"Simon Bright\"}, {\"credit_id\": \"54959c069251417a81001f3a\", \"department\": \"Visual Effects\", \"gender\": 0, \"id\": 113145, \"job\": \"Visual Effects Supervisor\", \"name\": \"Richard Martin\"}, {\"credit_id\": \"54959a0dc3a3680ff5002c8d\", \"department\": \"Crew\", \"gender\": 2, \"id\": 58188, \"job\": \"Visual Effects Editor\", \"name\": \"Steve R. Moore\"}, {\"credit_id\": \"52fe48009251416c750aca1d\", \"department\": \"Editing\", \"gender\": 2, \"id\": 58871, \"job\": \"Editor\", \"name\": \"John Refoua\"}, {\"credit_id\": \"54491a4dc3a3680fc30018ca\", \"department\": \"Art\", \"gender\": 0, \"id\": 92359, \"job\": \"Set Designer\", \"name\": \"Karl J. Martin\"}, {\"credit_id\": \"52fe48009251416c750aca35\", \"department\": \"Camera\", \"gender\": 1, \"id\": 72201, \"job\": \"Director of Photography\", \"name\": \"Chiling Lin\"}, {\"credit_id\": \"52fe48009251416c750ac9ff\", \"department\": \"Crew\", \"gender\": 0, \"id\": 89714, \"job\": \"Stunts\", \"name\": \"Ilram Choi\"}, {\"credit_id\": \"54959c529251416e2b004394\", \"department\": \"Visual Effects\", \"gender\": 2, \"id\": 93214, \"job\": \"Visual Effects Supervisor\", \"name\": \"Steven Quale\"}, {\"credit_id\": \"54491edf0e0a267489001c37\", \"department\": \"Crew\", \"gender\": 1, \"id\": 122607, \"job\": \"Dialect Coach\", \"name\": \"Carla Meyer\"}, {\"credit_id\": \"539c485bc3a368653d001a3a\", \"department\": \"Art\", \"gender\": 2, \"id\": 132585, \"job\": \"Art Direction\", \"name\": \"Nick Bassett\"}, {\"credit_id\": \"539c4903c3a368653d001a74\", \"department\": \"Art\", \"gender\": 0, \"id\": 132596, \"job\": \"Art Direction\", \"name\": \"Jill Cormack\"}, {\"credit_id\": \"539c4967c3a368653d001a94\", \"department\": \"Art\", \"gender\": 0, \"id\": 132604, \"job\": \"Art Direction\", \"name\": \"Andy McLaren\"}, {\"credit_id\": \"52fe48009251416c750aca45\", \"department\": \"Crew\", \"gender\": 0, \"id\": 236696, \"job\": \"Motion Capture Artist\", \"name\": \"Terry Notary\"}, {\"credit_id\": \"54959e02c3a3680fc60027d2\", \"department\": \"Crew\", \"gender\": 2, \"id\": 956198, \"job\": \"Stunt Coordinator\", \"name\": \"Garrett Warren\"}, {\"credit_id\": \"54959ca3c3a3686ae300438c\", \"department\": \"Visual Effects\", \"gender\": 2, \"id\": 957874, \"job\": \"Visual Effects Supervisor\", \"name\": \"Jonathan Rothbart\"}, {\"credit_id\": \"570b6f519251412c74001b2f\", \"department\": \"Art\", \"gender\": 0, \"id\": 957889, \"job\": \"Supervising Art Director\", \"name\": \"Stefan Dechant\"}, {\"credit_id\": \"570b6f62c3a3680b77007460\", \"department\": \"Art\", \"gender\": 2, \"id\": 959555, \"job\": \"Supervising Art Director\", \"name\": \"Todd Cherniawsky\"}, {\"credit_id\": \"539c4a3ac3a36810da0021cc\", \"department\": \"Production\", \"gender\": 0, \"id\": 1016177, \"job\": \"Casting\", \"name\": \"Miranda Rivers\"}, {\"credit_id\": \"539c482cc3a36810c1002062\", \"department\": \"Art\", \"gender\": 0, \"id\": 1032536, \"job\": \"Production Design\", \"name\": \"Robert Stromberg\"}, {\"credit_id\": \"539c4b65c3a36810c9002125\", \"department\": \"Costume & Make-Up\", \"gender\": 2, \"id\": 1071680, \"job\": \"Costume Design\", \"name\": \"John Harding\"}, {\"credit_id\": \"54959e6692514130fc002e4e\", \"department\": \"Camera\", \"gender\": 0, \"id\": 1177364, \"job\": \"Steadicam Operator\", \"name\": \"Roberto De Angelis\"}, {\"credit_id\": \"539c49f1c3a368653d001aac\", \"department\": \"Costume & Make-Up\", \"gender\": 2, \"id\": 1202850, \"job\": \"Makeup Department Head\", \"name\": \"Mike Smithson\"}, {\"credit_id\": \"5495999ec3a3686ae100460c\", \"department\": \"Visual Effects\", \"gender\": 0, \"id\": 1204668, \"job\": \"Visual Effects Producer\", \"name\": \"Alain Lalanne\"}, {\"credit_id\": \"54959cdfc3a3681153002729\", \"department\": \"Visual Effects\", \"gender\": 0, \"id\": 1206410, \"job\": \"Visual Effects Supervisor\", \"name\": \"Lucas Salton\"}, {\"credit_id\": \"549596239251417a81001eae\", \"department\": \"Crew\", \"gender\": 0, \"id\": 1234266, \"job\": \"Post Production Supervisor\", \"name\": \"Janace Tashjian\"}, {\"credit_id\": \"54959c859251416e1e003efe\", \"department\": \"Visual Effects\", \"gender\": 0, \"id\": 1271932, \"job\": \"Visual Effects Supervisor\", \"name\": \"Stephen Rosenbaum\"}, {\"credit_id\": \"5592af28c3a368775a00105f\", \"department\": \"Costume & Make-Up\", \"gender\": 0, \"id\": 1310064, \"job\": \"Makeup Artist\", \"name\": \"Frankie Karena\"}, {\"credit_id\": \"539c4adfc3a36810e300203b\", \"department\": \"Costume & Make-Up\", \"gender\": 1, \"id\": 1319844, \"job\": \"Costume Supervisor\", \"name\": \"Lisa Lovaas\"}, {\"credit_id\": \"54959b579251416e2b004371\", \"department\": \"Visual Effects\", \"gender\": 0, \"id\": 1327028, \"job\": \"Visual Effects Supervisor\", \"name\": \"Jonathan Fawkner\"}, {\"credit_id\": \"539c48a7c3a36810b5001fa7\", \"department\": \"Art\", \"gender\": 0, \"id\": 1330561, \"job\": \"Art Direction\", \"name\": \"Robert Bavin\"}, {\"credit_id\": \"539c4a71c3a36810da0021e0\", \"department\": \"Costume & Make-Up\", \"gender\": 0, \"id\": 1330567, \"job\": \"Costume Supervisor\", \"name\": \"Anthony Almaraz\"}, {\"credit_id\": \"539c4a8ac3a36810ba0021e4\", \"department\": \"Costume & Make-Up\", \"gender\": 0, \"id\": 1330570, \"job\": \"Costume Supervisor\", \"name\": \"Carolyn M. Fenton\"}, {\"credit_id\": \"539c4ab6c3a36810da0021f0\", \"department\": \"Costume & Make-Up\", \"gender\": 0, \"id\": 1330574, \"job\": \"Costume Supervisor\", \"name\": \"Beth Koenigsberg\"}, {\"credit_id\": \"54491ab70e0a267480001ba2\", \"department\": \"Art\", \"gender\": 0, \"id\": 1336191, \"job\": \"Set Designer\", \"name\": \"Sam Page\"}, {\"credit_id\": \"544919d9c3a3680fc30018bd\", \"department\": \"Art\", \"gender\": 0, \"id\": 1339441, \"job\": \"Set Designer\", \"name\": \"Tex Kadonaga\"}, {\"credit_id\": \"54491cf50e0a267483001b0c\", \"department\": \"Editing\", \"gender\": 0, \"id\": 1352422, \"job\": \"Dialogue Editor\", \"name\": \"Kim Foscato\"}, {\"credit_id\": \"544919f40e0a26748c001b09\", \"department\": \"Art\", \"gender\": 0, \"id\": 1352962, \"job\": \"Set Designer\", \"name\": \"Tammy S. Lee\"}, {\"credit_id\": \"5495a115c3a3680ff5002d71\", \"department\": \"Crew\", \"gender\": 0, \"id\": 1357070, \"job\": \"Transportation Coordinator\", \"name\": \"Denny Caira\"}, {\"credit_id\": \"5495a12f92514130fc002e94\", \"department\": \"Crew\", \"gender\": 0, \"id\": 1357071, \"job\": \"Transportation Coordinator\", \"name\": \"James Waitkus\"}, {\"credit_id\": \"5495976fc3a36811530026b0\", \"department\": \"Sound\", \"gender\": 0, \"id\": 1360103, \"job\": \"Supervising Sound Editor\", \"name\": \"Addison Teague\"}, {\"credit_id\": \"54491837c3a3680fb1001c5a\", \"department\": \"Art\", \"gender\": 2, \"id\": 1376887, \"job\": \"Set Designer\", \"name\": \"C. Scott Baker\"}, {\"credit_id\": \"54491878c3a3680fb4001c9d\", \"department\": \"Art\", \"gender\": 0, \"id\": 1376888, \"job\": \"Set Designer\", \"name\": \"Luke Caska\"}, {\"credit_id\": \"544918dac3a3680fa5001ae0\", \"department\": \"Art\", \"gender\": 0, \"id\": 1376889, \"job\": \"Set Designer\", \"name\": \"David Chow\"}, {\"credit_id\": \"544919110e0a267486001b68\", \"department\": \"Art\", \"gender\": 0, \"id\": 1376890, \"job\": \"Set Designer\", \"name\": \"Jonathan Dyer\"}, {\"credit_id\": \"54491967c3a3680faa001b5e\", \"department\": \"Art\", \"gender\": 0, \"id\": 1376891, \"job\": \"Set Designer\", \"name\": \"Joseph Hiura\"}, {\"credit_id\": \"54491997c3a3680fb1001c8a\", \"department\": \"Art\", \"gender\": 0, \"id\": 1376892, \"job\": \"Art Department Coordinator\", \"name\": \"Rebecca Jellie\"}, {\"credit_id\": \"544919ba0e0a26748f001b42\", \"department\": \"Art\", \"gender\": 0, \"id\": 1376893, \"job\": \"Set Designer\", \"name\": \"Robert Andrew Johnson\"}, {\"credit_id\": \"54491b1dc3a3680faa001b8c\", \"department\": \"Art\", \"gender\": 0, \"id\": 1376895, \"job\": \"Assistant Art Director\", \"name\": \"Mike Stassi\"}, {\"credit_id\": \"54491b79c3a3680fbb001826\", \"department\": \"Art\", \"gender\": 0, \"id\": 1376897, \"job\": \"Construction Coordinator\", \"name\": \"John Villarino\"}, {\"credit_id\": \"54491baec3a3680fb4001ce6\", \"department\": \"Art\", \"gender\": 2, \"id\": 1376898, \"job\": \"Assistant Art Director\", \"name\": \"Jeffrey Wisniewski\"}, {\"credit_id\": \"54491d2fc3a3680fb4001d07\", \"department\": \"Editing\", \"gender\": 0, \"id\": 1376899, \"job\": \"Dialogue Editor\", \"name\": \"Cheryl Nardi\"}, {\"credit_id\": \"54491d86c3a3680fa5001b2f\", \"department\": \"Editing\", \"gender\": 0, \"id\": 1376901, \"job\": \"Dialogue Editor\", \"name\": \"Marshall Winn\"}, {\"credit_id\": \"54491d9dc3a3680faa001bb0\", \"department\": \"Sound\", \"gender\": 0, \"id\": 1376902, \"job\": \"Supervising Sound Editor\", \"name\": \"Gwendolyn Yates Whittle\"}, {\"credit_id\": \"54491dc10e0a267486001bce\", \"department\": \"Sound\", \"gender\": 0, \"id\": 1376903, \"job\": \"Sound Re-Recording Mixer\", \"name\": \"William Stein\"}, {\"credit_id\": \"54491f500e0a26747c001c07\", \"department\": \"Crew\", \"gender\": 0, \"id\": 1376909, \"job\": \"Choreographer\", \"name\": \"Lula Washington\"}, {\"credit_id\": \"549599239251412c4e002a2e\", \"department\": \"Visual Effects\", \"gender\": 0, \"id\": 1391692, \"job\": \"Visual Effects Producer\", \"name\": \"Chris Del Conte\"}, {\"credit_id\": \"54959d54c3a36831b8001d9a\", \"department\": \"Visual Effects\", \"gender\": 2, \"id\": 1391695, \"job\": \"Visual Effects Supervisor\", \"name\": \"R. Christopher White\"}, {\"credit_id\": \"54959bdf9251412c4e002a66\", \"department\": \"Visual Effects\", \"gender\": 0, \"id\": 1394070, \"job\": \"Visual Effects Supervisor\", \"name\": \"Dan Lemmon\"}, {\"credit_id\": \"5495971d92514132ed002922\", \"department\": \"Sound\", \"gender\": 0, \"id\": 1394129, \"job\": \"Sound Effects Editor\", \"name\": \"Tim Nielsen\"}, {\"credit_id\": \"5592b25792514152cc0011aa\", \"department\": \"Crew\", \"gender\": 0, \"id\": 1394286, \"job\": \"CG Supervisor\", \"name\": \"Michael Mulholland\"}, {\"credit_id\": \"54959a329251416e2b004355\", \"department\": \"Crew\", \"gender\": 0, \"id\": 1394750, \"job\": \"Visual Effects Editor\", \"name\": \"Thomas Nittmann\"}, {\"credit_id\": \"54959d6dc3a3686ae9004401\", \"department\": \"Visual Effects\", \"gender\": 0, \"id\": 1394755, \"job\": \"Visual Effects Supervisor\", \"name\": \"Edson Williams\"}, {\"credit_id\": \"5495a08fc3a3686ae300441c\", \"department\": \"Editing\", \"gender\": 0, \"id\": 1394953, \"job\": \"Digital Intermediate\", \"name\": \"Christine Carr\"}, {\"credit_id\": \"55402d659251413d6d000249\", \"department\": \"Visual Effects\", \"gender\": 0, \"id\": 1395269, \"job\": \"Visual Effects Supervisor\", \"name\": \"John Bruno\"}, {\"credit_id\": \"54959e7b9251416e1e003f3e\", \"department\": \"Camera\", \"gender\": 0, \"id\": 1398970, \"job\": \"Steadicam Operator\", \"name\": \"David Emmerichs\"}, {\"credit_id\": \"54959734c3a3686ae10045e0\", \"department\": \"Sound\", \"gender\": 0, \"id\": 1400906, \"job\": \"Sound Effects Editor\", \"name\": \"Christopher Scarabosio\"}, {\"credit_id\": \"549595dd92514130fc002d79\", \"department\": \"Production\", \"gender\": 0, \"id\": 1401784, \"job\": \"Production Supervisor\", \"name\": \"Jennifer Teves\"}, {\"credit_id\": \"549596009251413af70028cc\", \"department\": \"Production\", \"gender\": 0, \"id\": 1401785, \"job\": \"Production Manager\", \"name\": \"Brigitte Yorke\"}, {\"credit_id\": \"549596e892514130fc002d99\", \"department\": \"Sound\", \"gender\": 0, \"id\": 1401786, \"job\": \"Sound Effects Editor\", \"name\": \"Ken Fischer\"}, {\"credit_id\": \"549598229251412c4e002a1c\", \"department\": \"Crew\", \"gender\": 0, \"id\": 1401787, \"job\": \"Special Effects Coordinator\", \"name\": \"Iain Hutton\"}, {\"credit_id\": \"549598349251416e2b00432b\", \"department\": \"Crew\", \"gender\": 0, \"id\": 1401788, \"job\": \"Special Effects Coordinator\", \"name\": \"Steve Ingram\"}, {\"credit_id\": \"54959905c3a3686ae3004324\", \"department\": \"Visual Effects\", \"gender\": 0, \"id\": 1401789, \"job\": \"Visual Effects Producer\", \"name\": \"Joyce Cox\"}, {\"credit_id\": \"5495994b92514132ed002951\", \"department\": \"Visual Effects\", \"gender\": 0, \"id\": 1401790, \"job\": \"Visual Effects Producer\", \"name\": \"Jenny Foster\"}, {\"credit_id\": \"549599cbc3a3686ae1004613\", \"department\": \"Crew\", \"gender\": 0, \"id\": 1401791, \"job\": \"Visual Effects Editor\", \"name\": \"Christopher Marino\"}, {\"credit_id\": \"549599f2c3a3686ae100461e\", \"department\": \"Crew\", \"gender\": 0, \"id\": 1401792, \"job\": \"Visual Effects Editor\", \"name\": \"Jim Milton\"}, {\"credit_id\": \"54959a51c3a3686af3003eb5\", \"department\": \"Visual Effects\", \"gender\": 0, \"id\": 1401793, \"job\": \"Visual Effects Producer\", \"name\": \"Cyndi Ochs\"}, {\"credit_id\": \"54959a7cc3a36811530026f4\", \"department\": \"Crew\", \"gender\": 0, \"id\": 1401794, \"job\": \"Visual Effects Editor\", \"name\": \"Lucas Putnam\"}, {\"credit_id\": \"54959b91c3a3680ff5002cb4\", \"department\": \"Visual Effects\", \"gender\": 0, \"id\": 1401795, \"job\": \"Visual Effects Supervisor\", \"name\": \"Anthony 'Max' Ivins\"}, {\"credit_id\": \"54959bb69251412c4e002a5f\", \"department\": \"Visual Effects\", \"gender\": 0, \"id\": 1401796, \"job\": \"Visual Effects Supervisor\", \"name\": \"John Knoll\"}, {\"credit_id\": \"54959cbbc3a3686ae3004391\", \"department\": \"Visual Effects\", \"gender\": 2, \"id\": 1401799, \"job\": \"Visual Effects Supervisor\", \"name\": \"Eric Saindon\"}, {\"credit_id\": \"54959d06c3a3686ae90043f6\", \"department\": \"Visual Effects\", \"gender\": 0, \"id\": 1401800, \"job\": \"Visual Effects Supervisor\", \"name\": \"Wayne Stables\"}, {\"credit_id\": \"54959d259251416e1e003f11\", \"department\": \"Visual Effects\", \"gender\": 0, \"id\": 1401801, \"job\": \"Visual Effects Supervisor\", \"name\": \"David Stinnett\"}, {\"credit_id\": \"54959db49251413af7002975\", \"department\": \"Visual Effects\", \"gender\": 0, \"id\": 1401803, \"job\": \"Visual Effects Supervisor\", \"name\": \"Guy Williams\"}, {\"credit_id\": \"54959de4c3a3681153002750\", \"department\": \"Crew\", \"gender\": 0, \"id\": 1401804, \"job\": \"Stunt Coordinator\", \"name\": \"Stuart Thorp\"}, {\"credit_id\": \"54959ef2c3a3680fc60027f2\", \"department\": \"Lighting\", \"gender\": 0, \"id\": 1401805, \"job\": \"Best Boy Electric\", \"name\": \"Giles Coburn\"}, {\"credit_id\": \"54959f07c3a3680fc60027f9\", \"department\": \"Camera\", \"gender\": 2, \"id\": 1401806, \"job\": \"Still Photographer\", \"name\": \"Mark Fellman\"}, {\"credit_id\": \"54959f47c3a3681153002774\", \"department\": \"Lighting\", \"gender\": 0, \"id\": 1401807, \"job\": \"Lighting Technician\", \"name\": \"Scott Sprague\"}, {\"credit_id\": \"54959f8cc3a36831b8001df2\", \"department\": \"Visual Effects\", \"gender\": 0, \"id\": 1401808, \"job\": \"Animation Director\", \"name\": \"Jeremy Hollobon\"}, {\"credit_id\": \"54959fa0c3a36831b8001dfb\", \"department\": \"Visual Effects\", \"gender\": 0, \"id\": 1401809, \"job\": \"Animation Director\", \"name\": \"Orlando Meunier\"}, {\"credit_id\": \"54959fb6c3a3686af3003f54\", \"department\": \"Visual Effects\", \"gender\": 0, \"id\": 1401810, \"job\": \"Animation Director\", \"name\": \"Taisuke Tanimura\"}, {\"credit_id\": \"54959fd2c3a36831b8001e02\", \"department\": \"Costume & Make-Up\", \"gender\": 0, \"id\": 1401812, \"job\": \"Set Costumer\", \"name\": \"Lilia Mishel Acevedo\"}, {\"credit_id\": \"54959ff9c3a3686ae300440c\", \"department\": \"Costume & Make-Up\", \"gender\": 0, \"id\": 1401814, \"job\": \"Set Costumer\", \"name\": \"Alejandro M. Hernandez\"}, {\"credit_id\": \"5495a0ddc3a3686ae10046fe\", \"department\": \"Editing\", \"gender\": 0, \"id\": 1401815, \"job\": \"Digital Intermediate\", \"name\": \"Marvin Hall\"}, {\"credit_id\": \"5495a1f7c3a3686ae3004443\", \"department\": \"Production\", \"gender\": 0, \"id\": 1401816, \"job\": \"Publicist\", \"name\": \"Judy Alley\"}, {\"credit_id\": \"5592b29fc3a36869d100002f\", \"department\": \"Crew\", \"gender\": 0, \"id\": 1418381, \"job\": \"CG Supervisor\", \"name\": \"Mike Perry\"}, {\"credit_id\": \"5592b23a9251415df8001081\", \"department\": \"Crew\", \"gender\": 0, \"id\": 1426854, \"job\": \"CG Supervisor\", \"name\": \"Andrew Morley\"}, {\"credit_id\": \"55491e1192514104c40002d8\", \"department\": \"Art\", \"gender\": 0, \"id\": 1438901, \"job\": \"Conceptual Design\", \"name\": \"Seth Engstrom\"}, {\"credit_id\": \"5525d5809251417276002b06\", \"department\": \"Crew\", \"gender\": 0, \"id\": 1447362, \"job\": \"Visual Effects Art Director\", \"name\": \"Eric Oliver\"}, {\"credit_id\": \"554427ca925141586500312a\", \"department\": \"Visual Effects\", \"gender\": 0, \"id\": 1447503, \"job\": \"Modeling\", \"name\": \"Matsune Suzuki\"}, {\"credit_id\": \"551906889251415aab001c88\", \"department\": \"Art\", \"gender\": 0, \"id\": 1447524, \"job\": \"Art Department Manager\", \"name\": \"Paul Tobin\"}, {\"credit_id\": \"5592af8492514152cc0010de\", \"department\": \"Costume & Make-Up\", \"gender\": 0, \"id\": 1452643, \"job\": \"Hairstylist\", \"name\": \"Roxane Griffin\"}, {\"credit_id\": \"553d3c109251415852001318\", \"department\": \"Lighting\", \"gender\": 0, \"id\": 1453938, \"job\": \"Lighting Artist\", \"name\": \"Arun Ram-Mohan\"}, {\"credit_id\": \"5592af4692514152d5001355\", \"department\": \"Costume & Make-Up\", \"gender\": 0, \"id\": 1457305, \"job\": \"Makeup Artist\", \"name\": \"Georgia Lockhart-Adams\"}, {\"credit_id\": \"5592b2eac3a36877470012a5\", \"department\": \"Crew\", \"gender\": 0, \"id\": 1466035, \"job\": \"CG Supervisor\", \"name\": \"Thrain Shadbolt\"}, {\"credit_id\": \"5592b032c3a36877450015f1\", \"department\": \"Crew\", \"gender\": 0, \"id\": 1483220, \"job\": \"CG Supervisor\", \"name\": \"Brad Alexander\"}, {\"credit_id\": \"5592b05592514152d80012f6\", \"department\": \"Crew\", \"gender\": 0, \"id\": 1483221, \"job\": \"CG Supervisor\", \"name\": \"Shadi Almassizadeh\"}, {\"credit_id\": \"5592b090c3a36877570010b5\", \"department\": \"Crew\", \"gender\": 0, \"id\": 1483222, \"job\": \"CG Supervisor\", \"name\": \"Simon Clutterbuck\"}, {\"credit_id\": \"5592b0dbc3a368774b00112c\", \"department\": \"Crew\", \"gender\": 0, \"id\": 1483223, \"job\": \"CG Supervisor\", \"name\": \"Graeme Demmocks\"}, {\"credit_id\": \"5592b0fe92514152db0010c1\", \"department\": \"Crew\", \"gender\": 0, \"id\": 1483224, \"job\": \"CG Supervisor\", \"name\": \"Adrian Fernandes\"}, {\"credit_id\": \"5592b11f9251415df8001059\", \"department\": \"Crew\", \"gender\": 0, \"id\": 1483225, \"job\": \"CG Supervisor\", \"name\": \"Mitch Gates\"}, {\"credit_id\": \"5592b15dc3a3687745001645\", \"department\": \"Crew\", \"gender\": 0, \"id\": 1483226, \"job\": \"CG Supervisor\", \"name\": \"Jerry Kung\"}, {\"credit_id\": \"5592b18e925141645a0004ae\", \"department\": \"Crew\", \"gender\": 0, \"id\": 1483227, \"job\": \"CG Supervisor\", \"name\": \"Andy Lomas\"}, {\"credit_id\": \"5592b1bfc3a368775d0010e7\", \"department\": \"Crew\", \"gender\": 0, \"id\": 1483228, \"job\": \"CG Supervisor\", \"name\": \"Sebastian Marino\"}, {\"credit_id\": \"5592b2049251415df8001078\", \"department\": \"Crew\", \"gender\": 0, \"id\": 1483229, \"job\": \"CG Supervisor\", \"name\": \"Matthias Menz\"}, {\"credit_id\": \"5592b27b92514152d800136a\", \"department\": \"Crew\", \"gender\": 0, \"id\": 1483230, \"job\": \"CG Supervisor\", \"name\": \"Sergei Nevshupov\"}, {\"credit_id\": \"5592b2c3c3a36869e800003c\", \"department\": \"Crew\", \"gender\": 0, \"id\": 1483231, \"job\": \"CG Supervisor\", \"name\": \"Philippe Rebours\"}, {\"credit_id\": \"5592b317c3a36877470012af\", \"department\": \"Crew\", \"gender\": 0, \"id\": 1483232, \"job\": \"CG Supervisor\", \"name\": \"Michael Takarangi\"}, {\"credit_id\": \"5592b345c3a36877470012bb\", \"department\": \"Crew\", \"gender\": 0, \"id\": 1483233, \"job\": \"CG Supervisor\", \"name\": \"David Weitzberg\"}, {\"credit_id\": \"5592b37cc3a368775100113b\", \"department\": \"Crew\", \"gender\": 0, \"id\": 1483234, \"job\": \"CG Supervisor\", \"name\": \"Ben White\"}, {\"credit_id\": \"573c8e2f9251413f5d000094\", \"department\": \"Crew\", \"gender\": 1, \"id\": 1621932, \"job\": \"Stunts\", \"name\": \"Min Windle\"}]     1\n",
      "[{\"credit_id\": \"52fe451bc3a36847f80bcdd1\", \"department\": \"Editing\", \"gender\": 2, \"id\": 2705, \"job\": \"Editor\", \"name\": \"William M. Anderson\"}, {\"credit_id\": \"52fe451bc3a36847f80bcdad\", \"department\": \"Production\", \"gender\": 2, \"id\": 5490, \"job\": \"Executive Producer\", \"name\": \"David Rubin\"}, {\"credit_id\": \"52fe451bc3a36847f80bcdbf\", \"department\": \"Production\", \"gender\": 2, \"id\": 15366, \"job\": \"Producer\", \"name\": \"Marco Weber\"}, {\"credit_id\": \"52fe451bc3a36847f80bcdcb\", \"department\": \"Camera\", \"gender\": 2, \"id\": 15367, \"job\": \"Director of Photography\", \"name\": \"Wedigo von Schultzendorff\"}, {\"credit_id\": \"52fe451bc3a36847f80bcdb3\", \"department\": \"Production\", \"gender\": 0, \"id\": 32344, \"job\": \"Executive Producer\", \"name\": \"Lee Solomon\"}, {\"credit_id\": \"52fe451bc3a36847f80bcddd\", \"department\": \"Editing\", \"gender\": 0, \"id\": 36619, \"job\": \"Editor\", \"name\": \"Padraic McKinley\"}, {\"credit_id\": \"52fe451bc3a36847f80bcd9b\", \"department\": \"Directing\", \"gender\": 0, \"id\": 58552, \"job\": \"Director\", \"name\": \"Burr Steers\"}, {\"credit_id\": \"52fe451bc3a36847f80bcde3\", \"department\": \"Writing\", \"gender\": 0, \"id\": 58552, \"job\": \"Author\", \"name\": \"Burr Steers\"}, {\"credit_id\": \"52fe451bc3a36847f80bcda1\", \"department\": \"Production\", \"gender\": 1, \"id\": 65845, \"job\": \"Executive Producer\", \"name\": \"Helen Beadleston\"}, {\"credit_id\": \"52fe451bc3a36847f80bcda7\", \"department\": \"Production\", \"gender\": 0, \"id\": 65846, \"job\": \"Executive Producer\", \"name\": \"Fran Lucci\"}, {\"credit_id\": \"52fe451bc3a36847f80bcdb9\", \"department\": \"Production\", \"gender\": 1, \"id\": 65847, \"job\": \"Producer\", \"name\": \"Lisa Tornell\"}, {\"credit_id\": \"52fe451bc3a36847f80bcdc5\", \"department\": \"Sound\", \"gender\": 0, \"id\": 65848, \"job\": \"Music\", \"name\": \"J\\u00f6rn-Uwe Fahrenkrog-Petersen\"}, {\"credit_id\": \"52fe451bc3a36847f80bcdd7\", \"department\": \"Editing\", \"gender\": 2, \"id\": 65849, \"job\": \"Editor\", \"name\": \"Robert Frazen\"}]                                                                                                                                                                                                                                                                                                                                                                                                                                                                                                                                                                                                                                                                                                                                                                                                                                                                                                                                                                                                                                                                                                                                                                                                                                                                                                                                                                                                                                                                                                                                                                                                                                                                                                                                                                                                                                                                                                                                                                                                                                                                                                                                                                                                                                                                                                                                                                                                                                                                                                                                                                                                                                                                                                                                                                                                                                                                                                                                                                                                                                                                                                                                                                                                                                                                                                                                                                                                                                                                                                                                                                                                                                                                                                                                                                                                                                                                                                                                                                                                                                                                                                                                                                                                                                                                                                                                                                                                                                                                                                                                                                                                                                                                                                                                                                                                                                                                                                                                                                                                                                                                                                                                                                                                                                                                                                                                                                                                                                                                                                                                                                                                                                                                                                                                                                                                                                                                                                                                                                                                                                                                                                                                                                                                                                                                                                                                                                                                                                                                                                                                                                                                                                                                                                                                                                                                                                                                                                                                                                                                                                                                                                                                                                                                                                                                                                                                                                                                                                                                                                                                                                                                                                                                                                                                                                                                                                                                                                                                                                                                                                                                                                                                                                                                                                                                                                                                                                                                                                                                                                                                                                                                                                                                                                                                                                                                                                                                                                                                                                                                                                                                                                                                                                                                                                                                                                                                                                                                                                                                                                                                                                                                                                                                                                                                                                                                                                                                                                                                                                                                                                                                                                                                                                                                                                                                                                                                                                                                                                                                                                                                                                                                                                                                                                                                                                                                                                                                                                                                                                                                                                                                                                                                                                                                                                                                                                                                                                                                                                                                                                                                                                                                                                                                                                                                                                                                                                                                                                                                                                                                                                                                                                                                                                                                                                                                                                                                                                                                                                                                                                                                                                                                                                                                                                                                                                                                                                                                                                                                                                                                                                                                                                                                                                                                                                                                                                                                                                                                                                                                                                                                                                                                                                                                                                                                                                                                                                                                                                                                                                                                                                                                                                                                                                                                                                                                                                                                                                                                                                                                                                                                                                                                                                                                                                                                                                                                                                                                                                                                                                                                                                                                                                                                                                                                                                                                                                                                                                                                                                                                                                                                                                                                                                                                                                                                                                                                                                                                                                                                                                                                                                                                                                                                                                                                                                                                                                                                                                                                                                                                                                                                                                                                                                                                                                                                                                                                                                                                                                                                                                                                                                                                                                                                                                                                                                                                                                                                                                                                                                                                                                                                                                                                                                                                                                                                                                                                                                                                                                                                                                                                                                                                                                                                                                                                                                                                                                                                                                                                                                                                                                                                                                                                                                                                                                                                                                                                                                                                                                                                                                                                                                                                                                                                                                                                                                                                                                                                                                                                                                                                                                                                                                                                                                                                                                                                                                                                                                                                                                                                                                                                                                                                                                                                                                                                                                                                                                                                                                                                                                                                                                                                                                                                                                                                                                                                                                                                                                                                                                                                                                                                                                                                                                                                                                                                                                                                                                                                                                                                                                                                                                                                                                                                                                                                                                                                                                                                                         1\n",
      "[{\"credit_id\": \"52fe4316c3a36847f803946d\", \"department\": \"Sound\", \"gender\": 2, \"id\": 1225, \"job\": \"Original Music Composer\", \"name\": \"Carter Burwell\"}, {\"credit_id\": \"52fe4316c3a36847f8039479\", \"department\": \"Production\", \"gender\": 1, \"id\": 1302, \"job\": \"Casting\", \"name\": \"Susie Figgis\"}, {\"credit_id\": \"52fe4316c3a36847f8039467\", \"department\": \"Production\", \"gender\": 2, \"id\": 1307, \"job\": \"Producer\", \"name\": \"Bob Weinstein\"}, {\"credit_id\": \"52fe4316c3a36847f8039461\", \"department\": \"Production\", \"gender\": 2, \"id\": 59839, \"job\": \"Producer\", \"name\": \"Harvey Weinstein\"}, {\"credit_id\": \"56452a9fc3a36870e3007459\", \"department\": \"Editing\", \"gender\": 2, \"id\": 5337, \"job\": \"Dialogue Editor\", \"name\": \"Dan Korintus\"}, {\"credit_id\": \"52fe4316c3a36847f803949f\", \"department\": \"Costume & Make-Up\", \"gender\": 0, \"id\": 9027, \"job\": \"Costume Design\", \"name\": \"Sandy Powell\"}, {\"credit_id\": \"52fe4316c3a36847f803945b\", \"department\": \"Directing\", \"gender\": 2, \"id\": 16863, \"job\": \"Director\", \"name\": \"Todd Haynes\"}, {\"credit_id\": \"56452a1dc3a36870ec00690d\", \"department\": \"Writing\", \"gender\": 2, \"id\": 16863, \"job\": \"Screenplay\", \"name\": \"Todd Haynes\"}, {\"credit_id\": \"56452a259251410a47006d52\", \"department\": \"Writing\", \"gender\": 2, \"id\": 16863, \"job\": \"Story\", \"name\": \"Todd Haynes\"}, {\"credit_id\": \"52fe4316c3a36847f8039473\", \"department\": \"Editing\", \"gender\": 2, \"id\": 17234, \"job\": \"Editor\", \"name\": \"James Lyons\"}, {\"credit_id\": \"56452a31c3a36870d6006ebd\", \"department\": \"Writing\", \"gender\": 2, \"id\": 17234, \"job\": \"Story\", \"name\": \"James Lyons\"}, {\"credit_id\": \"564528f7c3a36870d6006e56\", \"department\": \"Sound\", \"gender\": 0, \"id\": 17990, \"job\": \"Music Editor\", \"name\": \"Todd Kasow\"}, {\"credit_id\": \"52fe4316c3a36847f803947f\", \"department\": \"Camera\", \"gender\": 1, \"id\": 33678, \"job\": \"Director of Photography\", \"name\": \"Maryse Alberti\"}, {\"credit_id\": \"564528ab9251410a3f006b1c\", \"department\": \"Sound\", \"gender\": 2, \"id\": 52161, \"job\": \"Music Supervisor\", \"name\": \"Randall Poster\"}, {\"credit_id\": \"56452912c3a36870ef006dad\", \"department\": \"Art\", \"gender\": 0, \"id\": 206531, \"job\": \"Production Design\", \"name\": \"Christopher Hobbs\"}, {\"credit_id\": \"564528e99251410a47006cfa\", \"department\": \"Sound\", \"gender\": 0, \"id\": 1427381, \"job\": \"Music Editor\", \"name\": \"Annette Kudrak\"}, {\"credit_id\": \"564528dbc3a36870ef006d9b\", \"department\": \"Directing\", \"gender\": 0, \"id\": 1535092, \"job\": \"Script Supervisor\", \"name\": \"June McDonald\"}]                                                                                                                                                                                                                                                                                                                                                                                                                                                                                                                                                                                                                                                                                                                                                                                                                                                                                                                                                                                                                                                                                                                                                                                                                                                                                                                                                                                                                                                                                                                                                                                                                                                                                                                                                                                                                                                                                                                                                                                                                                                                                                                                                                                                                                                                                                                                                                                                                                                                                                                                                                                                                                                                                                                                                                                                                                                                                                                                                                                                                                                                                                                                                                                                                                                                                                                                                                                                                                                                                                                                                                                                                                                                                                                                                                                                                                                                                                                                                                                                                                                                                                                                                                                                                                                                                                                                                                                                                                                                                                                                                                                                                                                                                                                                                                                                                                                                                                                                                                                                                                                                                                                                                                                                                                                                                                                                                                                                                                                                                                                                                                                                                                                                                                                                                                                                                                                                                                                                                                                                                                                                                                                                                                                                                                                                                                                                                                                                                                                                                                                                                                                                                                                                                                                                                                                                                                                                                                                                                                                                                                                                                                                                                                                                                                                                                                                                                                                                                                                                                                                                                                                                                                                                                                                                                                                                                                                                                                                                                                                                                                                                                                                                                                                                                                                                                                                                                                                                                                                                                                                                                                                                                                                                                                                                                                                                                                                                                                                                                                                                                                                                                                                                                                                                                                                                                                                                                                                                                                                                                                                                                                                                                                                                                                                                                                                                                                                                                                                                                                                                                                                                                                                                                                                                                                                                                                                                                                                                                                                                                                                                                                                                                                                                                                                                                                                                                                                                                                                                                                                                                                                                                                                                                                                                                                                                                                                                                                                                                                                                                                                                                                                                                                                                                                                                                                                                                                                                                                                                                                                                                                                                                                                                                                                                                                                                                                                                                                                                                                                                                                                                                                                                                                                                                                                                                                                                                                                                                                                                                                                                                                                                                                                                                                                                                                                                                                                                                                                                                                                                                                                                                                                                                                                                                                                                                                                                                                                                                                                                                                                                                                                                                                                                                                                                                                                                                                                                                                                                                                                                                                                                                                                                                                                                                                                                                                                                                                                                                                                                                                                                                                                                                                                                                                                                                                                                                                                                                                                                                                                                                                                                                                                                                                                                                                                                                                                                                                                                                                                                                                                                                                                                                                                                                                                                                                                                                                                                                                                                                                                                                                                                                                                                                                                                                                                                                                                                                                                                                                                                                                                                                                                                                                                                                                                                                                                                                                                                                                                                                                                                                                                                                                                                                                                                                                                                                                                                                                                                                                                                                                                                                                                                                                                                                                                                                                                                                                                                                                                                                                                                                                                                                                                                                                                                                                                                                                                                                                                                                                                                                                                                                                                                                                                                                                                                                                                                                                                                                                                                                                                                                                                                                                                                                                                                                                                                                                                                                                                                                                                                                                                                                                                                                                                                                                                                                                                                                                                                                                                                                                                                                                                                                                                                                                                                                                                                                                                                                                                                                                                                                                                                                                                                                                                                                                                                                                                               1\n",
      "[{\"credit_id\": \"52fe45099251416c75049843\", \"department\": \"Production\", \"gender\": 2, \"id\": 554, \"job\": \"Producer\", \"name\": \"Aaron Ryder\"}, {\"credit_id\": \"52fe45099251416c75049855\", \"department\": \"Production\", \"gender\": 2, \"id\": 17172, \"job\": \"Executive Producer\", \"name\": \"Albert Berger\"}, {\"credit_id\": \"52fe45099251416c7504985b\", \"department\": \"Production\", \"gender\": 2, \"id\": 17173, \"job\": \"Executive Producer\", \"name\": \"Ron Yerxa\"}, {\"credit_id\": \"52fe45099251416c7504986d\", \"department\": \"Editing\", \"gender\": 2, \"id\": 11876, \"job\": \"Editor\", \"name\": \"Jeff Freeman\"}, {\"credit_id\": \"52fe45099251416c75049873\", \"department\": \"Production\", \"gender\": 1, \"id\": 18457, \"job\": \"Casting\", \"name\": \"Pam Dixon\"}, {\"credit_id\": \"52fe45099251416c75049867\", \"department\": \"Camera\", \"gender\": 2, \"id\": 33651, \"job\": \"Director of Photography\", \"name\": \"Alexander Gruszynski\"}, {\"credit_id\": \"52fe45099251416c750497fb\", \"department\": \"Writing\", \"gender\": 1, \"id\": 34522, \"job\": \"Screenplay\", \"name\": \"Pam Brady\"}, {\"credit_id\": \"52fe45099251416c750497ef\", \"department\": \"Directing\", \"gender\": 2, \"id\": 41549, \"job\": \"Director\", \"name\": \"Andrew Fleming\"}, {\"credit_id\": \"52fe45099251416c750497f5\", \"department\": \"Writing\", \"gender\": 2, \"id\": 41549, \"job\": \"Screenplay\", \"name\": \"Andrew Fleming\"}, {\"credit_id\": \"52fe45099251416c7504983d\", \"department\": \"Production\", \"gender\": 2, \"id\": 73135, \"job\": \"Producer\", \"name\": \"Eric Eisner\"}, {\"credit_id\": \"52fe45099251416c75049849\", \"department\": \"Production\", \"gender\": 2, \"id\": 73136, \"job\": \"Producer\", \"name\": \"Leonid Rozhetskin\"}, {\"credit_id\": \"52fe45099251416c75049861\", \"department\": \"Sound\", \"gender\": 2, \"id\": 73137, \"job\": \"Original Music Composer\", \"name\": \"Ralph Sall\"}, {\"credit_id\": \"55a6d74c9251411e060004f3\", \"department\": \"Production\", \"gender\": 0, \"id\": 1382732, \"job\": \"Executive Producer\", \"name\": \"Michael Flynn\"}]                                                                                                                                                                                                                                                                                                                                                                                                                                                                                                                                                                                                                                                                                                                                                                                                                                                                                                                                                                                                                                                                                                                                                                                                                                                                                                                                                                                                                                                                                                                                                                                                                                                                                                                                                                                                                                                                                                                                                                                                                                                                                                                                                                                                                                                                                                                                                                                                                                                                                                                                                                                                                                                                                                                                                                                                                                                                                                                                                                                                                                                                                                                                                                                                                                                                                                                                                                                                                                                                                                                                                                                                                                                                                                                                                                                                                                                                                                                                                                                                                                                                                                                                                                                                                                                                                                                                                                                                                                                                                                                                                                                                                                                                                                                                                                                                                                                                                                                                                                                                                                                                                                                                                                                                                                                                                                                                                                                                                                                                                                                                                                                                                                                                                                                                                                                                                                                                                                                                                                                                                                                                                                                                                                                                                                                                                                                                                                                                                                                                                                                                                                                                                                                                                                                                                                                                                                                                                                                                                                                                                                                                                                                                                                                                                                                                                                                                                                                                                                                                                                                                                                                                                                                                                                                                                                                                                                                                                                                                                                                                                                                                                                                                                                                                                                                                                                                                                                                                                                                                                                                                                                                                                                                                                                                                                                                                                                                                                                                                                                                                                                                                                                                                                                                                                                                                                                                                                                                                                                                                                                                                                                                                                                                                                                                                                                                                                                                                                                                                                                                                                                                                                                                                                                                                                                                                                                                                                                                                                                                                                                                                                                                                                                                                                                                                                                                                                                                                                                                                                                                                                                                                                                                                                                                                                                                                                                                                                                                                                                                                                                                                                                                                                                                                                                                                                                                                                                                                                                                                                                                                                                                                                                                                                                                                                                                                                                                                                                                                                                                                                                                                                                                                                                                                                                                                                                                                                                                                                                                                                                                                                                                                                                                                                                                                                                                                                                                                                                                                                                                                                                                                                                                                                                                                                                                                                                                                                                                                                                                                                                                                                                                                                                                                                                                                                                                                                                                                                                                                                                                                                                                                                                                                                                                                                                                                                                                                                                                                                                                                                                                                                                                                                                                                                                                                                                                                                                                                                                                                                                                                                                                                                                                                                                                                                                                                                                                                                                                                                                                                                                                                                                                                                                                                                                                                                                                                                                                                                                                                                                                                                                                                                                                                                                                                                                                                                                                                                                                                                                                                                                                                                                                                                                                                                                                                                                                                                                                                                                                                                                                                                                                                                                                                                                                                                                                                                                                                                                                                                                                                                                                                                                                                                                                                                                                                                                                                                                                                                                                                                                                                                                                                                                                                                                                                                                                                                                                                                                                                                                                                                                                                                                                                                                                                                                                                                                                                                                                                                                                                                                                                                                                                                                                                                                                                                                                                                                                                                                                                                                                                                                                                                                                                                                                                                                                                                                                                                                                                                                                                                                                                                                                                                                                                                                                                                                                                                                                                                                                                                                                                                                                                                                                                                                                                                                                                                                                                                                                                                                                                                                                                                                                                                                                                                                                                                                                                                                                                                                        1\n",
      "                                                                                                                                                                                                                                                                                                                                                                                                                                                                                                                                                                                                                                                                                                                                                                                                                                                                                                                                                                                                                                                                                                                                                                                                                                                                                                                                                                                                                                                                                                                                                                                                                                                                                                                                                                                                                                                                                                                                                                                                                                                                                                                                                                                                                                                                                                                                                                                                                                                                                                                                                                                                                                                                                                                                                                                                                                                                                                                                                                                                                                                                                                                                                                                                                                                                                                                                                                                                                                                                                                                                                                                                                                                                                                                                                                                                                                                                                                                                                                                                                                                                                                                                                                                                                                                                                                                                                                                                                                                                                                                                                                                                                                                                                                                                                                                                                                                                                                                                                                                                                                                                                                                                                                                                                                                                                                                                                                                                                                                                                                                                                                                                                                                                                                                                                                                                                                                                                                                                                                                                                                                                                                                                                                                                                                                                                                                                                                                                                                                                                                                                                                                                                                                                                                                                                                                                                                                                                                                                                                                                                                                                                                                                                                                                                                                                                                                                                                                                                                                                                                                                                                                                                                                                                                                                                                                                                                                                                                                                                                                                                                                                                                                                                                                                                                                                                                                                                                                                                                                                                                                                                                                                                                                                                                                                                                                                                                                                                                                                                                                                                                                                                                                                                                                                                                                                                                                                                                                                                                                                                                                                                                                                                                                                                                                                                                                                                                                                                                                                                                                                                                                                                                                                                                                                                                                                                                                                                                                                                                                                                                                                                                                                                                                                                                                                                                                                                                                                                                                                                                                                                                                                                                                                                                                                                                                                                                                                                                                                                                                                                                                                                                                                                                                                                                                                                                                                                                                                                                                                                                                                                                                                                                                                                                                                                                                                                                                                                                                                                                                                                                                                                                                                                                                                                                                                                                                                                                                                                                                                                                                                                                                                                                                                                                                                                                                                                                                                                                                                                                                                                                                                                                                                                                                                                                                                                                                                                                                                                                                                                                                                                                                                                                                                                                                                                                                                                                                                                                                                                                                                                                                                                                                                                                                                                                                                                                                                                                                                                                                                                                                                                                                                                                                                                                                                                                                                                                                                                                                                                                                                                                                                                                                                                                                                                                                                                                                                                                                                                                                                                                                                                                                                                                                                                                                                                                                                                                                                                                                                                                                                                                                                                                                                                                                                                                                                                                                                                                                                                                                                                                                                                                                                                                                                                                                                                                                                                                                                                                                                                                                                                                                                                                                                                                                                                                                                                                                                                                                                                                                                                                                                                                                                                                                                                                                                                                                                                                                                                                                                                                                                                                                                                                                                                                                                                                                                                                                                                                                                                                                                                                                                                                                                                                                                                                                                                                                                                                                                                                                                                                                                                                                                                                                                                                                                                                                                                                                                                                                                                                                                                                                                                                                                                                                                                                                                                                                                                                                                                                                                                                                                                                                                                                                                                                                                                                                                                                                                                                                                                                                                                                                                                                                                                                                                                                                                                                                                                                                                                                                                                                                                                                                                                                                                                                                                                                                                                                                                                                                                                                                                                                                                                                                                                                                                                                                                                                                                                                                                                                                                                                                                                                                                                                                                                                                                                                                                                                                                                                                                                                                                                                                                                                                                                                                                                                                                                                                                                                                                                                                                                                                                                                                                                                                                                                                                                                                                                                                   ..\n",
      "[{\"credit_id\": \"575ca5e89251412b68000667\", \"department\": \"Sound\", \"gender\": 2, \"id\": 947, \"job\": \"Original Music Composer\", \"name\": \"Hans Zimmer\"}, {\"credit_id\": \"52fe43adc3a36847f8066ff9\", \"department\": \"Directing\", \"gender\": 2, \"id\": 578, \"job\": \"Director\", \"name\": \"Ridley Scott\"}, {\"credit_id\": \"575ca68cc3a36831a4000e00\", \"department\": \"Art\", \"gender\": 2, \"id\": 796, \"job\": \"Set Decoration\", \"name\": \"John M. Dwyer\"}, {\"credit_id\": \"575ca6529251415dd2000158\", \"department\": \"Editing\", \"gender\": 2, \"id\": 1047, \"job\": \"Editor\", \"name\": \"Tom Rolf\"}, {\"credit_id\": \"52fe43adc3a36847f8067023\", \"department\": \"Production\", \"gender\": 1, \"id\": 1221, \"job\": \"Casting\", \"name\": \"Dianne Crittenden\"}, {\"credit_id\": \"575ca66ec3a3685e030014fd\", \"department\": \"Art\", \"gender\": 2, \"id\": 2083, \"job\": \"Art Direction\", \"name\": \"Herman F. Zimmerman\"}, {\"credit_id\": \"52fe43adc3a36847f8067037\", \"department\": \"Camera\", \"gender\": 2, \"id\": 2209, \"job\": \"Director of Photography\", \"name\": \"Jan de Bont\"}, {\"credit_id\": \"575ca668c3a3683118000d90\", \"department\": \"Art\", \"gender\": 2, \"id\": 2999, \"job\": \"Art Direction\", \"name\": \"John Jay Moore\"}, {\"credit_id\": \"575ca6a09251412b0c00069e\", \"department\": \"Costume & Make-Up\", \"gender\": 1, \"id\": 7735, \"job\": \"Costume Design\", \"name\": \"Ellen Mirojnick\"}, {\"credit_id\": \"575ca686c3a3685e03001507\", \"department\": \"Art\", \"gender\": 0, \"id\": 4188, \"job\": \"Set Decoration\", \"name\": \"Leslie Bloom\"}, {\"credit_id\": \"575ca693925141786f000c4f\", \"department\": \"Art\", \"gender\": 2, \"id\": 14342, \"job\": \"Set Decoration\", \"name\": \"Richard C. Goddard\"}, {\"credit_id\": \"52fe43adc3a36847f8067029\", \"department\": \"Art\", \"gender\": 2, \"id\": 17400, \"job\": \"Production Design\", \"name\": \"Norris Spencer\"}, {\"credit_id\": \"590355e6c3a368286600abf5\", \"department\": \"Production\", \"gender\": 2, \"id\": 17630, \"job\": \"Unit Production Manager\", \"name\": \"Michael Tadross\"}, {\"credit_id\": \"575ca6999251417835000ced\", \"department\": \"Art\", \"gender\": 2, \"id\": 17877, \"job\": \"Set Decoration\", \"name\": \"Alan Hicks\"}, {\"credit_id\": \"52fe43adc3a36847f8066ff3\", \"department\": \"Writing\", \"gender\": 2, \"id\": 19893, \"job\": \"Author\", \"name\": \"Warren Lewis\"}, {\"credit_id\": \"52fe43adc3a36847f8066fed\", \"department\": \"Writing\", \"gender\": 2, \"id\": 34692, \"job\": \"Author\", \"name\": \"Craig Bolotin\"}, {\"credit_id\": \"52fe43adc3a36847f8066fff\", \"department\": \"Production\", \"gender\": 2, \"id\": 34692, \"job\": \"Executive Producer\", \"name\": \"Craig Bolotin\"}, {\"credit_id\": \"52fe43adc3a36847f8067005\", \"department\": \"Production\", \"gender\": 2, \"id\": 34693, \"job\": \"Producer\", \"name\": \"Stanley R. Jaffe\"}, {\"credit_id\": \"52fe43adc3a36847f806700b\", \"department\": \"Production\", \"gender\": 1, \"id\": 34694, \"job\": \"Executive Producer\", \"name\": \"Julie Kirkham\"}, {\"credit_id\": \"52fe43adc3a36847f8067011\", \"department\": \"Production\", \"gender\": 1, \"id\": 34695, \"job\": \"Producer\", \"name\": \"Sherry Lansing\"}, {\"credit_id\": \"52fe43adc3a36847f8067017\", \"department\": \"Production\", \"gender\": 0, \"id\": 34696, \"job\": \"Line Producer\", \"name\": \"Yosuke Mizuno\"}, {\"credit_id\": \"5903565ac3a368288b00ac11\", \"department\": \"Production\", \"gender\": 1, \"id\": 35491, \"job\": \"Casting Associate\", \"name\": \"Joy Dickson\"}, {\"credit_id\": \"59037369c3a3683b6000108d\", \"department\": \"Production\", \"gender\": 1, \"id\": 25830, \"job\": \"Casting Assistant\", \"name\": \"Debi Manwiller\"}, {\"credit_id\": \"575ca5d9925141786f000bed\", \"department\": \"Production\", \"gender\": 2, \"id\": 76160, \"job\": \"Unit Production Manager\", \"name\": \"Mel Dellar\"}, {\"credit_id\": \"5903753bc3a3683b9600147e\", \"department\": \"Crew\", \"gender\": 0, \"id\": 91042, \"job\": \"Pilot\", \"name\": \"Al Cerullo\"}, {\"credit_id\": \"5903556d9251413e3800ba46\", \"department\": \"Production\", \"gender\": 2, \"id\": 113225, \"job\": \"Associate Producer\", \"name\": \"Alan Poul\"}, {\"credit_id\": \"59037528c3a3683bfe001207\", \"department\": \"Production\", \"gender\": 0, \"id\": 553347, \"job\": \"Location Manager\", \"name\": \"Atsushi Takayama\"}, {\"credit_id\": \"5903755bc3a3683bfe001234\", \"department\": \"Directing\", \"gender\": 1, \"id\": 1262129, \"job\": \"Script Supervisor\", \"name\": \"Luca Kouimelis\"}, {\"credit_id\": \"590375f292514177f4001348\", \"department\": \"Crew\", \"gender\": 2, \"id\": 1278542, \"job\": \"Pilot\", \"name\": \"Robert 'Bobby Z' Zajonc\"}, {\"credit_id\": \"59037504c3a3683b850012a5\", \"department\": \"Production\", \"gender\": 0, \"id\": 1453320, \"job\": \"Location Manager\", \"name\": \"Eric Klosterman\"}, {\"credit_id\": \"590355d99251413e1500c459\", \"department\": \"Production\", \"gender\": 0, \"id\": 1551963, \"job\": \"Unit Production Manager\", \"name\": \"David Salven\"}, {\"credit_id\": \"590374e192514177ee00128a\", \"department\": \"Production\", \"gender\": 0, \"id\": 1645977, \"job\": \"Location Manager\", \"name\": \"Ken Haber\"}, {\"credit_id\": \"59037496c3a3683b85001254\", \"department\": \"Production\", \"gender\": 0, \"id\": 1685817, \"job\": \"Casting\", \"name\": \"Nobuaki Murooka\"}, {\"credit_id\": \"59035614c3a368291d00b749\", \"department\": \"Art\", \"gender\": 0, \"id\": 1691936, \"job\": \"Set Designer\", \"name\": \"James R. Bayliss\"}, {\"credit_id\": \"590355fe9251413e2100b9e8\", \"department\": \"Production\", \"gender\": 0, \"id\": 1782974, \"job\": \"Unit Production Manager\", \"name\": \"William Watkins\"}, {\"credit_id\": \"59035623c3a368289800b889\", \"department\": \"Art\", \"gender\": 0, \"id\": 1805997, \"job\": \"Set Designer\", \"name\": \"Alan S. Kaye\"}, {\"credit_id\": \"590356309251413e2100ba0d\", \"department\": \"Art\", \"gender\": 0, \"id\": 1805998, \"job\": \"Set Designer\", \"name\": \"Robert Maddy\"}, {\"credit_id\": \"590374b492514177fb001247\", \"department\": \"Production\", \"gender\": 0, \"id\": 1806126, \"job\": \"Location Manager\", \"name\": \"Robert Doyle\"}, {\"credit_id\": \"590374c7925141782100124f\", \"department\": \"Production\", \"gender\": 0, \"id\": 1806127, \"job\": \"Location Manager\", \"name\": \"Susumu Ejima\"}, {\"credit_id\": \"590374d392514177fb00125f\", \"department\": \"Production\", \"gender\": 0, \"id\": 1806128, \"job\": \"Location Manager\", \"name\": \"Kazuaki Enomoto\"}, {\"credit_id\": \"590374f0925141784400127b\", \"department\": \"Production\", \"gender\": 0, \"id\": 1806129, \"job\": \"Location Manager\", \"name\": \"Kenichi Horii\"}, {\"credit_id\": \"590375139251417844001296\", \"department\": \"Production\", \"gender\": 0, \"id\": 1806130, \"job\": \"Location Manager\", \"name\": \"Steven Shkolnik\"}, {\"credit_id\": \"5903754bc3a3683b600011a5\", \"department\": \"Art\", \"gender\": 2, \"id\": 1806132, \"job\": \"Title Designer\", \"name\": \"Anthony Goldschmidt\"}]                                                                                                                                                                                                                                                                                                                                                                                                                                                                                                                                                                                                                                                                                                                                                                                                                                                                                                                                                                                                                                                                                                                                                                                                                                                                                                                                                                                                                                                                                                                                                                                                                                                                                                                                                                                                                                                                                                                                                                                                                                                                                                                                                                                                                                                                                                                                                                                                                                                                                                                                                                                                                                                                                                                                                                                                                                                                                                                                                                                                                                                                                                                                                                                                                                                                                                                                                                                                                                                                                                                                                                                                                                                                                                                                                                                                                                                                                                                                                                                                                                                                                                                                                                                                                                                                                                                                                                                                                                                                                                                                                                                                                                                                                                                                                                                                                                                                                                                                                                                                                                                                                                                                                                                                                                                                                                                                                                                                                                                                                                                                                                                                                                                                                                                                                                                                                                                                                                                                                                                                                                                                                                                                                                                                                                                                                                                                                                                                                                                                                                                                                                                                                                                                                                                                                                                                                                                                                                                                                                                                                                                                                                                                                                                                                                                                                                                                                                                                                                                                                                                                                                                                                                                                                                                                                                                                                                                                                                                                                                                                                                                                                                                                                                                                                                                                                                                                                                                                                                                                                                                                                                                                                                                                                                                                                                                                                                                                                                                                                                                                                                                                                                                                                                                                                                                                                                                                                                                                                                                                                                                                                                                                                                                                                                                                                                                                                                                                                                                                                                                                                                                                                                                                                                                                                                                                                                                                                                                                                                                                                                                                                                                                                                                                                                                                                                                                                                                                                                                                                                                                                                                                                                                                                                                                                                                                                                                                                                                                                                                                                                                                                                                                                                                                                                                                                                                                                                                                                                                                                                                                                                                                                                                                                                                                                                                                                                                                                                                                                                                                                                                                                                                                                                                                                                                                                                                                                                                                                                                                                                                                                                                                                                                                                                                                                                                                                                                                                                                                                                                                                                                                                                                                                                                                                                                                                                                                                                                                                                                                                                                                                                                                                                                                                                                                                                                                                                                                                                                                                                                                                                                                                                                                                                                                                                                                                                                                                                                                                                                                                                                                                                                                                                                                                                                                                                                                                                                                                                                                                                                                                                                                                                                                                                                                                                                                                                                                                                                                                                                                                                                                                                                                                                                                                                                                                                                                                                                                                                                                                                                                                                                                                                                                                                                                                                                                                                                                                                                                                                                                                                                                                                                                                                                                                                                                                                                  1\n",
      "[{\"credit_id\": \"52fe46269251416c9104acd1\", \"department\": \"Editing\", \"gender\": 2, \"id\": 1264, \"job\": \"Editor\", \"name\": \"Bill Pankow\"}, {\"credit_id\": \"52fe46269251416c9104acdd\", \"department\": \"Production\", \"gender\": 1, \"id\": 2242, \"job\": \"Casting\", \"name\": \"Ellen Lewis\"}, {\"credit_id\": \"52fe46259251416c9104ac9b\", \"department\": \"Production\", \"gender\": 1, \"id\": 6913, \"job\": \"Producer\", \"name\": \"Ellen Barkin\"}, {\"credit_id\": \"56a94021c3a36872e9001f1b\", \"department\": \"Art\", \"gender\": 0, \"id\": 5672, \"job\": \"Supervising Art Director\", \"name\": \"Stefano Maria Ortolani\"}, {\"credit_id\": \"52fe46269251416c9104acad\", \"department\": \"Production\", \"gender\": 1, \"id\": 6511, \"job\": \"Producer\", \"name\": \"Caroline Kaplan\"}, {\"credit_id\": \"52fe46269251416c9104acbf\", \"department\": \"Production\", \"gender\": 2, \"id\": 11696, \"job\": \"Producer\", \"name\": \"Patrick Wachsberger\"}, {\"credit_id\": \"52fe46269251416c9104ad13\", \"department\": \"Crew\", \"gender\": 0, \"id\": 15911, \"job\": \"Stunt Coordinator\", \"name\": \"Franco Maria Salamon\"}, {\"credit_id\": \"52fe46269251416c9104acc5\", \"department\": \"Sound\", \"gender\": 1, \"id\": 20648, \"job\": \"Original Music Composer\", \"name\": \"Andrea Guerra\"}, {\"credit_id\": \"52fe46259251416c9104ac6d\", \"department\": \"Directing\", \"gender\": 2, \"id\": 17046, \"job\": \"Director\", \"name\": \"Gary Winick\"}, {\"credit_id\": \"52fe46259251416c9104ac73\", \"department\": \"Writing\", \"gender\": 2, \"id\": 18492, \"job\": \"Screenplay\", \"name\": \"Jos\\u00e9 Rivera\"}, {\"credit_id\": \"52fe46259251416c9104ac79\", \"department\": \"Writing\", \"gender\": 2, \"id\": 20773, \"job\": \"Screenplay\", \"name\": \"Tim Sullivan\"}, {\"credit_id\": \"52fe46269251416c9104ace9\", \"department\": \"Art\", \"gender\": 0, \"id\": 21379, \"job\": \"Production Design\", \"name\": \"Stuart Wurtzel\"}, {\"credit_id\": \"52fe46269251416c9104acfb\", \"department\": \"Art\", \"gender\": 0, \"id\": 25063, \"job\": \"Set Decoration\", \"name\": \"Alessandra Querzola\"}, {\"credit_id\": \"52fe46269251416c9104aca1\", \"department\": \"Production\", \"gender\": 2, \"id\": 46088, \"job\": \"Producer\", \"name\": \"Mark Canton\"}, {\"credit_id\": \"52fe46269251416c9104accb\", \"department\": \"Camera\", \"gender\": 2, \"id\": 59984, \"job\": \"Director of Photography\", \"name\": \"Marco Pontecorvo\"}, {\"credit_id\": \"52fe46269251416c9104acb9\", \"department\": \"Production\", \"gender\": 2, \"id\": 63291, \"job\": \"Executive Producer\", \"name\": \"Ron Schmidt\"}, {\"credit_id\": \"52fe46269251416c9104aca7\", \"department\": \"Production\", \"gender\": 0, \"id\": 119176, \"job\": \"Producer\", \"name\": \"Eric Feig\"}, {\"credit_id\": \"52fe46269251416c9104acb3\", \"department\": \"Production\", \"gender\": 0, \"id\": 119177, \"job\": \"Line Producer\", \"name\": \"Marco Valerio Pugini\"}, {\"credit_id\": \"52fe46269251416c9104acd7\", \"department\": \"Production\", \"gender\": 0, \"id\": 119178, \"job\": \"Casting\", \"name\": \"B\\u00e9atrice Kruger\"}, {\"credit_id\": \"52fe46269251416c9104ace3\", \"department\": \"Production\", \"gender\": 1, \"id\": 119179, \"job\": \"Casting\", \"name\": \"Cindy Tolan\"}, {\"credit_id\": \"56a9405a9251417dd1001f27\", \"department\": \"Art\", \"gender\": 0, \"id\": 119180, \"job\": \"Art Direction\", \"name\": \"Saverio Sammali\"}, {\"credit_id\": \"52fe46269251416c9104ad01\", \"department\": \"Costume & Make-Up\", \"gender\": 0, \"id\": 119181, \"job\": \"Costume Design\", \"name\": \"Nicoletta Ercole\"}, {\"credit_id\": \"52fe46269251416c9104ad07\", \"department\": \"Costume & Make-Up\", \"gender\": 0, \"id\": 119182, \"job\": \"Makeup Artist\", \"name\": \"Carla Vicenzino\"}, {\"credit_id\": \"52fe46269251416c9104ad0d\", \"department\": \"Actors\", \"gender\": 0, \"id\": 119183, \"job\": \"Stunt Double\", \"name\": \"Giorgio Antonini\"}, {\"credit_id\": \"56a94079c3a36872d80020a0\", \"department\": \"Directing\", \"gender\": 0, \"id\": 1455279, \"job\": \"Script Supervisor\", \"name\": \"Charlotte Fontijn\"}]                                                                                                                                                                                                                                                                                                                                                                                                                                                                                                                                                                                                                                                                                                                                                                                                                                                                                                                                                                                                                                                                                                                                                                                                                                                                                                                                                                                                                                                                                                                                                                                                                                                                                                                                                                                                                                                                                                                                                                                                                                                                                                                                                                                                                                                                                                                                                                                                                                                                                                                                                                                                                                                                                                                                                                                                                                                                                                                                                                                                                                                                                                                                                                                                                                                                                                                                                                                                                                                                                                                                                                                                                                                                                                                                                                                                                                                                                                                                                                                                                                                                                                                                                                                                                                                                                                                                                                                                                                                                                                                                                                                                                                                                                                                                                                                                                                                                                                                                                                                                                                                                                                                                                                                                                                                                                                                                                                                                                                                                                                                                                                                                                                                                                                                                                                                                                                                                                                                                                                                                                                                                                                                                                                                                                                                                                                                                                                                                                                                                                                                                                                                                                                                                                                                                                                                                                                                                                                                                                                                                                                                                                                                                                                                                                                                                                                                                                                                                                                                                                                                                                                                                                                                                                                                                                                                                                                                                                                                                                                                                                                                                                                                                                                                                                                                                                                                                                                                                                                                                                                                                                                                                                                                                                                                                                                                                                                                                                                                                                                                                                                                                                                                                                                                                                                                                                                                                                                                                                                                                                                                                                                                                                                                                                                                                                                                                                                                                                                                                                                                                                                                                                                                                                                                                                                                                                                                                                                                                                                                                                                                                                                                                                                                                                                                                                                                                                                                                                                                                                                                                                                                                                                                                                                                                                                                                                                                                                                                                                                                                                                                                                                                                                                                                                                                                                                                                                                                                                                                                                                                                                                                                                                                                                                                                                                                                                                                                                                                                                                                                                                                                                                                                                                                                                                                                                                                                                                                                                                                                                                                                                                                                                                                                                                                                                                                                                                                                                                                                                                                                                                                                                                                                                                                                                                                                                                                                                                                                                                                                                                                                                                                                                                                                                                                                                                                                                                                                                                                                                                                                                                                                                                                                                                                                                                                                                                                                                                                                                                                                                                                                                                                                                                                                                                                                                                                                                                                                                                                                                                                                                                                                                                                                                                                                                                                                                                                                                                                                                                                                                                                                                                                                                                                                                                                                                                                                                                                                                                                                                                                                                                                                                                                                                                                                                                                                                                                                                                                                                                                                                                                                                                                                                                                                                                                                                                                                                                                                                                                                                                                                                                                                                                                                                                                                                                                                                                                                                                                                                                                                                                                                                                                                                                                                                                                                                                                                                                                                                                                                                                                                                                                                                                                                                                                                                                                                                                                                                                                                                                                                                                                                                                                                                                                                                                                                                                                                                                                                                                                                                                                                                                                                                                                                                                                                                                                                                                                                                                                                                                                                                                                      1\n",
      "[{\"credit_id\": \"52fe43bbc3a36847f806b5a7\", \"department\": \"Production\", \"gender\": 1, \"id\": 474, \"job\": \"Casting\", \"name\": \"Jina Jay\"}, {\"credit_id\": \"52fe43bbc3a36847f806b57d\", \"department\": \"Production\", \"gender\": 2, \"id\": 2236, \"job\": \"Producer\", \"name\": \"Tim Bevan\"}, {\"credit_id\": \"52fe43bbc3a36847f806b58f\", \"department\": \"Production\", \"gender\": 2, \"id\": 2238, \"job\": \"Producer\", \"name\": \"Eric Fellner\"}, {\"credit_id\": \"52fe43bbc3a36847f806b59b\", \"department\": \"Camera\", \"gender\": 0, \"id\": 3285, \"job\": \"Director of Photography\", \"name\": \"Seamus McGarvey\"}, {\"credit_id\": \"52fe43bbc3a36847f806b595\", \"department\": \"Sound\", \"gender\": 0, \"id\": 11269, \"job\": \"Original Music Composer\", \"name\": \"Dario Marianelli\"}, {\"credit_id\": \"52fe43bbc3a36847f806b589\", \"department\": \"Writing\", \"gender\": 2, \"id\": 12952, \"job\": \"Screenplay\", \"name\": \"Christopher Hampton\"}, {\"credit_id\": \"52fe43bbc3a36847f806b577\", \"department\": \"Directing\", \"gender\": 2, \"id\": 36588, \"job\": \"Director\", \"name\": \"Joe Wright\"}, {\"credit_id\": \"52fe43bbc3a36847f806b583\", \"department\": \"Writing\", \"gender\": 2, \"id\": 36589, \"job\": \"Novel\", \"name\": \"Ian McEwan\"}, {\"credit_id\": \"52fe43bbc3a36847f806b5a1\", \"department\": \"Editing\", \"gender\": 2, \"id\": 36590, \"job\": \"Editor\", \"name\": \"Paul Tothill\"}, {\"credit_id\": \"52fe43bbc3a36847f806b5ad\", \"department\": \"Costume & Make-Up\", \"gender\": 1, \"id\": 36591, \"job\": \"Costume Design\", \"name\": \"Jacqueline Durran\"}, {\"credit_id\": \"56aa5002c3a36872cb006da2\", \"department\": \"Art\", \"gender\": 1, \"id\": 36656, \"job\": \"Production Design\", \"name\": \"Sarah Greenwood\"}, {\"credit_id\": \"56aa506ac3a36872cf007254\", \"department\": \"Art\", \"gender\": 0, \"id\": 36657, \"job\": \"Art Direction\", \"name\": \"Nick Gottschalk\"}, {\"credit_id\": \"56aa50cf92514159a5001c2f\", \"department\": \"Art\", \"gender\": 0, \"id\": 36658, \"job\": \"Set Decoration\", \"name\": \"Katie Spencer\"}, {\"credit_id\": \"56a973bec3a36872db002691\", \"department\": \"Crew\", \"gender\": 1, \"id\": 10882, \"job\": \"Thanks\", \"name\": \"Rosamund Pike\"}, {\"credit_id\": \"56aa555dc3a36872d8006dda\", \"department\": \"Crew\", \"gender\": 2, \"id\": 57569, \"job\": \"Stunt Coordinator\", \"name\": \"Lee Sheward\"}, {\"credit_id\": \"57af4e6e925141728c003548\", \"department\": \"Production\", \"gender\": 0, \"id\": 142097, \"job\": \"Production Accountant\", \"name\": \"Tarn Harper\"}, {\"credit_id\": \"56aa509c92514159a5001c29\", \"department\": \"Art\", \"gender\": 0, \"id\": 1027825, \"job\": \"Art Direction\", \"name\": \"Niall Moroney\"}, {\"credit_id\": \"56aa52799251410e2d0066c1\", \"department\": \"Production\", \"gender\": 0, \"id\": 1108835, \"job\": \"Casting\", \"name\": \"Dixie Chassay\"}, {\"credit_id\": \"56aa54cdc3a36872d8006dbc\", \"department\": \"Directing\", \"gender\": 2, \"id\": 1127893, \"job\": \"Assistant Director\", \"name\": \"Josh Robertson\"}, {\"credit_id\": \"56aa5033c3a36872d8006cee\", \"department\": \"Art\", \"gender\": 2, \"id\": 1173302, \"job\": \"Supervising Art Director\", \"name\": \"Ian Bailie\"}, {\"credit_id\": \"56b38d43c3a36806ec00258c\", \"department\": \"Camera\", \"gender\": 2, \"id\": 1229106, \"job\": \"Other\", \"name\": \"Terry Richards\"}, {\"credit_id\": \"572938dac3a36809050001b3\", \"department\": \"Sound\", \"gender\": 0, \"id\": 1343898, \"job\": \"Sound Re-Recording Mixer\", \"name\": \"Paul Hamblin\"}, {\"credit_id\": \"57d58794c3a368587200169a\", \"department\": \"Editing\", \"gender\": 0, \"id\": 1349076, \"job\": \"Color Timer\", \"name\": \"Adam Inglis\"}, {\"credit_id\": \"580e483cc3a368598c001932\", \"department\": \"Sound\", \"gender\": 0, \"id\": 1409764, \"job\": \"Supervising Sound Editor\", \"name\": \"Catherine Hodgson\"}, {\"credit_id\": \"56aa5485c3a36872db0066ac\", \"department\": \"Costume & Make-Up\", \"gender\": 0, \"id\": 1415951, \"job\": \"Makeup Artist\", \"name\": \"Norma Webb\"}, {\"credit_id\": \"58212dac9251413c93000b46\", \"department\": \"Editing\", \"gender\": 0, \"id\": 1416481, \"job\": \"Digital Intermediate\", \"name\": \"Marcus Alexander\"}, {\"credit_id\": \"56aa53b09251416fd8000eb0\", \"department\": \"Costume & Make-Up\", \"gender\": 0, \"id\": 1525892, \"job\": \"Hairstylist\", \"name\": \"Deborah Jarvis\"}, {\"credit_id\": \"56aa511a9251416fd8000e2e\", \"department\": \"Production\", \"gender\": 0, \"id\": 1539834, \"job\": \"Unit Manager\", \"name\": \"Erica Bensly\"}, {\"credit_id\": \"56aa52139251414dd30024d9\", \"department\": \"Production\", \"gender\": 0, \"id\": 1564277, \"job\": \"Executive In Charge Of Production\", \"name\": \"Michelle Wright\"}, {\"credit_id\": \"56aa51829251414dd30024c1\", \"department\": \"Production\", \"gender\": 0, \"id\": 1569472, \"job\": \"Production Manager\", \"name\": \"Simon Fraser\"}, {\"credit_id\": \"56aa51db9251414dd30024d1\", \"department\": \"Crew\", \"gender\": 1, \"id\": 1569473, \"job\": \"Post Production Supervisor\", \"name\": \"Deborah Harding\"}]                                                                                                                                                                                                                                                                                                                                                                                                                                                                                                                                                                                                                                                                                                                                                                                                                                                                                                                                                                                                                                                                                                                                                                                                                                                                                                                                                                                                                                                                                                                                                                                                                                                                                                                                                                                                                                                                                                                                                                                                                                                                                                                                                                                                                                                                                                                                                                                                                                                                                                                                                                                                                                                                                                                                                                                                                                                                                                                                                                                                                                                                                                                                                                                                                                                                                                                                                                                                                                                                                                                                                                                                                                                                                                                                                                                                                                                                                                                                                                                                                                                                                                                                                                                                                                                                                                                                                                                                                                                                                                                                                                                                                                                                                                                                                                                                                                                                                                                                                                                                                                                                                                                                                                                                                                                                                                                                                                                                                                                                                                                                                                                                                                                                                                                                                                                                                                                                                                                                                                                                                                                                                                                                                                                                                                                                                                                                                                                                                                                                                                                                                                                                                                                                                                                                                                                                                                                                                                                                                                                                                                                                                                                                                                                                                                                                                                                                                                                                                                                                                                                                                                                                                                                                                                                                                                                                                                                                                                                                                                                                                                                                                                                                                                                                                                                                                                                                                                                                                                                                                                                                                                                                                                                                                                                                                                                                                                                                                                                                                                                                                                                                                                                                                                                                                                                                                                                                                                                                                                                                                                                                                                                                                                                                                                                                                                                                                                                                                                                                                                                                                                                                                                                                                                                                                                                                                                                                                                                                                                                                                                                                                                                                                                                                                                                                                                                                                                                                                                                                                                                                                                                                                                                                                                                                                                                                                                                                                                                                                                                                                                                                                                                                                                                                                                                                                                                                                                                                                                                                                                                                                                                                                                                                                                                                                                                                                                                                                                                                                                                                                                                                                                                                                                                                                                                                                                                                                                                                                                                                                                                                                                                                                                                                                                                                                                                                                                                                                                                                                                                                                                                                                                                                                                                                                                                                                                                                                                                                                                                                                                                                                                                                                                                                                                                                                                                                                                                                                                                                                                                                                                                                                                                                                                                                                                                                                                                                                                                                                                                                                                                                                                                                                                                                                                                                                                                                                                                                                                                                                                                                                                                                                                                                                                                                                                                                                                                                                                                                                                                                                                                                                                                                                                                                                                                                                                                                                                                                                                                                                                                                                                                                                                                                                                                                                                                                                                                                                                                                                                                                                                                                                                                                                                                                                                                                                                                                                                                                                                                                                                                                                                                                                                                                                                                                                                                                                                                                                                                                                                                                                                                                                                                                                                                                                                                                                                                                                                                                                                                                                                                                                                                                                                                                                                                                                                                                                                                                                                                                                                                                                                                                                                                           1\n",
      "[{\"credit_id\": \"52fe4451c3a36847f808ef7b\", \"department\": \"Sound\", \"gender\": 2, \"id\": 4140, \"job\": \"Original Music Composer\", \"name\": \"Mark Isham\"}, {\"credit_id\": \"52fe4451c3a36847f808ef81\", \"department\": \"Camera\", \"gender\": 0, \"id\": 28240, \"job\": \"Director of Photography\", \"name\": \"David Eggby\"}, {\"credit_id\": \"52fe4451c3a36847f808ef75\", \"department\": \"Production\", \"gender\": 2, \"id\": 47285, \"job\": \"Producer\", \"name\": \"Broderick Johnson\"}, {\"credit_id\": \"52fe4451c3a36847f808ef5d\", \"department\": \"Directing\", \"gender\": 2, \"id\": 50582, \"job\": \"Director\", \"name\": \"Frederik Du Chau\"}, {\"credit_id\": \"52fe4451c3a36847f808ef69\", \"department\": \"Writing\", \"gender\": 2, \"id\": 50582, \"job\": \"Author\", \"name\": \"Frederik Du Chau\"}, {\"credit_id\": \"52fe4451c3a36847f808ef6f\", \"department\": \"Writing\", \"gender\": 2, \"id\": 51700, \"job\": \"Screenplay\", \"name\": \"David Schmidt\"}, {\"credit_id\": \"52fe4451c3a36847f808ef63\", \"department\": \"Writing\", \"gender\": 2, \"id\": 51700, \"job\": \"Author\", \"name\": \"David Schmidt\"}, {\"credit_id\": \"52fe4451c3a36847f808ef87\", \"department\": \"Editing\", \"gender\": 2, \"id\": 51701, \"job\": \"Editor\", \"name\": \"Tom Finan\"}]                                                                                                                                                                                                                                                                                                                                                                                                                                                                                                                                                                                                                                                                                                                                                                                                                                                                                                                                                                                                                                                                                                                                                                                                                                                                                                                                                                                                                                                                                                                                                                                                                                                                                                                                                                                                                                                                                                                                                                                                                                                                                                                                                                                                                                                                                                                                                                                                                                                                                                                                                                                                                                                                                                                                                                                                                                                                                                                                                                                                                                                                                                                                                                                                                                                                                                                                                                                                                                                                                                                                                                                                                                                                                                                                                                                                                                                                                                                                                                                                                                                                                                                                                                                                                                                                                                                                                                                                                                                                                                                                                                                                                                                                                                                                                                                                                                                                                                                                                                                                                                                                                                                                                                                                                                                                                                                                                                                                                                                                                                                                                                                                                                                                                                                                                                                                                                                                                                                                                                                                                                                                                                                                                                                                                                                                                                                                                                                                                                                                                                                                                                                                                                                                                                                                                                                                                                                                                                                                                                                                                                                                                                                                                                                                                                                                                                                                                                                                                                                                                                                                                                                                                                                                                                                                                                                                                                                                                                                                                                                                                                                                                                                                                                                                                                                                                                                                                                                                                                                                                                                                                                                                                                                                                                                                                                                                                                                                                                                                                                                                                                                                                                                                                                                                                                                                                                                                                                                                                                                                                                                                                                                                                                                                                                                                                                                                                                                                                                                                                                                                                                                                                                                                                                                                                                                                                                                                                                                                                                                                                                                                                                                                                                                                                                                                                                                                                                                                                                                                                                                                                                                                                                                                                                                                                                                                                                                                                                                                                                                                                                                                                                                                                                                                                                                                                                                                                                                                                                                                                                                                                                                                                                                                                                                                                                                                                                                                                                                                                                                                                                                                                                                                                                                                                                                                                                                                                                                                                                                                                                                                                                                                                                                                                                                                                                                                                                                                                                                                                                                                                                                                                                                                                                                                                                                                                                                                                                                                                                                                                                                                                                                                                                                                                                                                                                                                                                                                                                                                                                                                                                                                                                                                                                                                                                                                                                                                                                                                                                                                                                                                                                                                                                                                                                                                                                                                                                                                                                                                                                                                                                                                                                                                                                                                                                                                                                                                                                                                                                                                                                                                                                                                                                                                                                                                                                                                                                                                                                                                                                                                                                                                                                                                                                                                                                                                                                                                                                                                                                                                                                                                                                                                                                                                                                                                                                                                                                                                                                                                                                                                                                                                                                                                                                                                                                                                                                                                                                                                                                                                                                                                                                                                                                                                                                                                                                                                                                                                                                                                                                                                                                                                                                                                                                                                                                                                                                                                                                                                                                                                                                                                                                                                                                                                                                                                                                                                                                                                                                                                                                                                                                                                                                                                                                                                                                                                                                                                                                                                                                                                                                                                                                                                                                                                                                                                                                                                                                                                                                                                                                                                                                                                                                                                                                                                                                                                                                                                                                                                                                                                                                                                                                                                                                                                                                                                                                                                                                                                                                                                                                                                                                                                                                                                                                                                                                                                                                                                                                                                                                                                                                                                                                                                                                                                                                                                                                                                                                                                                                                                                                                                                                                                                                                                        1\n",
      "[{\"credit_id\": \"58ce021b9251415a390165d9\", \"department\": \"Production\", \"gender\": 2, \"id\": 6888, \"job\": \"Executive Producer\", \"name\": \"Clark Peterson\"}, {\"credit_id\": \"58ce0232c3a36850e90157da\", \"department\": \"Production\", \"gender\": 2, \"id\": 61051, \"job\": \"Executive Producer\", \"name\": \"Andrew Reimer\"}, {\"credit_id\": \"52fe44e8c3a368484e03da8d\", \"department\": \"Directing\", \"gender\": 2, \"id\": 85563, \"job\": \"Director\", \"name\": \"Brian Herzlinger\"}, {\"credit_id\": \"52fe44e8c3a368484e03da87\", \"department\": \"Directing\", \"gender\": 2, \"id\": 94471, \"job\": \"Director\", \"name\": \"Jon Gunn\"}, {\"credit_id\": \"52fe44e8c3a368484e03da97\", \"department\": \"Directing\", \"gender\": 0, \"id\": 997560, \"job\": \"Director\", \"name\": \"Brett Winn\"}]                                                                                                                                                                                                                                                                                                                                                                                                                                                                                                                                                                                                                                                                                                                                                                                                                                                                                                                                                                                                                                                                                                                                                                                                                                                                                                                                                                                                                                                                                                                                                                                                                                                                                                                                                                                                                                                                                                                                                                                                                                                                                                                                                                                                                                                                                                                                                                                                                                                                                                                                                                                                                                                                                                                                                                                                                                                                                                                                                                                                                                                                                                                                                                                                                                                                                                                                                                                                                                                                                                                                                                                                                                                                                                                                                                                                                                                                                                                                                                                                                                                                                                                                                                                                                                                                                                                                                                                                                                                                                                                                                                                                                                                                                                                                                                                                                                                                                                                                                                                                                                                                                                                                                                                                                                                                                                                                                                                                                                                                                                                                                                                                                                                                                                                                                                                                                                                                                                                                                                                                                                                                                                                                                                                                                                                                                                                                                                                                                                                                                                                                                                                                                                                                                                                                                                                                                                                                                                                                                                                                                                                                                                                                                                                                                                                                                                                                                                                                                                                                                                                                                                                                                                                                                                                                                                                                                                                                                                                                                                                                                                                                                                                                                                                                                                                                                                                                                                                                                                                                                                                                                                                                                                                                                                                                                                                                                                                                                                                                                                                                                                                                                                                                                                                                                                                                                                                                                                                                                                                                                                                                                                                                                                                                                                                                                                                                                                                                                                                                                                                                                                                                                                                                                                                                                                                                                                                                                                                                                                                                                                                                                                                                                                                                                                                                                                                                                                                                                                                                                                                                                                                                                                                                                                                                                                                                                                                                                                                                                                                                                                                                                                                                                                                                                                                                                                                                                                                                                                                                                                                                                                                                                                                                                                                                                                                                                                                                                                                                                                                                                                                                                                                                                                                                                                                                                                                                                                                                                                                                                                                                                                                                                                                                                                                                                                                                                                                                                                                                                                                                                                                                                                                                                                                                                                                                                                                                                                                                                                                                                                                                                                                                                                                                                                                                                                                                                                                                                                                                                                                                                                                                                                                                                                                                                                                                                                                                                                                                                                                                                                                                                                                                                                                                                                                                                                                                                                                                                                                                                                                                                                                                                                                                                                                                                                                                                                                                                                                                                                                                                                                                                                                                                                                                                                                                                                                                                                                                                                                                                                                                                                                                                                                                                                                                                                                                                                                                                                                                                                                                                                                                                                                                                                                                                                                                                                                                                                                                                                                                                                                                                                                                                                                                                                                                                                                                                                                                                                                                                                                                                                                                                                                                                                                                                                                                                                                                                                                                                                                                                                                                                                                                                                                                                                                                                                                                                                                                                                                                                                                                                                                                                                                                                                                                                                                                                                                                                                                                                                                                                                                                                                                                                                                                                                                                                                                                                                                                                                                                                                                                                                                                                                                                                                                                                                                                                                                                                                                                                                                                                                                                                                                                                                                                                                                                                                                                                                                                                                                                                                                                                                                                                                                                                                                                                                                                                                                                                                                                                                                                                                                                                                                                                                                                                                                                                                                                                                                                                                                                                                                                                                                                                                                                                                                                                                                                                                                                                                                                                                                                                                                                                                                                                                                                                                                                                                                                                                                                                                                                                                                                                                                                                                      1\n",
      "Name: count, Length: 4776, dtype: int64\n",
      "-------------------\n"
     ]
    }
   ],
   "source": [
    "for i in data.columns:\n",
    "    print(data[i].value_counts())\n",
    "    print(\"-------------------\")"
   ]
  },
  {
   "cell_type": "code",
   "execution_count": 13,
   "id": "ad6627d7",
   "metadata": {},
   "outputs": [
    {
     "data": {
      "text/html": [
       "<div>\n",
       "<style scoped>\n",
       "    .dataframe tbody tr th:only-of-type {\n",
       "        vertical-align: middle;\n",
       "    }\n",
       "\n",
       "    .dataframe tbody tr th {\n",
       "        vertical-align: top;\n",
       "    }\n",
       "\n",
       "    .dataframe thead th {\n",
       "        text-align: right;\n",
       "    }\n",
       "</style>\n",
       "<table border=\"1\" class=\"dataframe\">\n",
       "  <thead>\n",
       "    <tr style=\"text-align: right;\">\n",
       "      <th></th>\n",
       "      <th>budget</th>\n",
       "      <th>movie_id</th>\n",
       "      <th>popularity</th>\n",
       "      <th>revenue</th>\n",
       "      <th>runtime</th>\n",
       "      <th>vote_average</th>\n",
       "      <th>vote_count</th>\n",
       "    </tr>\n",
       "  </thead>\n",
       "  <tbody>\n",
       "    <tr>\n",
       "      <th>count</th>\n",
       "      <td>4.803000e+03</td>\n",
       "      <td>4803.000000</td>\n",
       "      <td>4803.000000</td>\n",
       "      <td>4.803000e+03</td>\n",
       "      <td>4801.000000</td>\n",
       "      <td>4803.000000</td>\n",
       "      <td>4803.000000</td>\n",
       "    </tr>\n",
       "    <tr>\n",
       "      <th>mean</th>\n",
       "      <td>2.904504e+07</td>\n",
       "      <td>57165.484281</td>\n",
       "      <td>21.492301</td>\n",
       "      <td>8.226064e+07</td>\n",
       "      <td>106.875859</td>\n",
       "      <td>6.092172</td>\n",
       "      <td>690.217989</td>\n",
       "    </tr>\n",
       "    <tr>\n",
       "      <th>std</th>\n",
       "      <td>4.072239e+07</td>\n",
       "      <td>88694.614033</td>\n",
       "      <td>31.816650</td>\n",
       "      <td>1.628571e+08</td>\n",
       "      <td>22.611935</td>\n",
       "      <td>1.194612</td>\n",
       "      <td>1234.585891</td>\n",
       "    </tr>\n",
       "    <tr>\n",
       "      <th>min</th>\n",
       "      <td>0.000000e+00</td>\n",
       "      <td>5.000000</td>\n",
       "      <td>0.000000</td>\n",
       "      <td>0.000000e+00</td>\n",
       "      <td>0.000000</td>\n",
       "      <td>0.000000</td>\n",
       "      <td>0.000000</td>\n",
       "    </tr>\n",
       "    <tr>\n",
       "      <th>25%</th>\n",
       "      <td>7.900000e+05</td>\n",
       "      <td>9014.500000</td>\n",
       "      <td>4.668070</td>\n",
       "      <td>0.000000e+00</td>\n",
       "      <td>94.000000</td>\n",
       "      <td>5.600000</td>\n",
       "      <td>54.000000</td>\n",
       "    </tr>\n",
       "    <tr>\n",
       "      <th>50%</th>\n",
       "      <td>1.500000e+07</td>\n",
       "      <td>14629.000000</td>\n",
       "      <td>12.921594</td>\n",
       "      <td>1.917000e+07</td>\n",
       "      <td>103.000000</td>\n",
       "      <td>6.200000</td>\n",
       "      <td>235.000000</td>\n",
       "    </tr>\n",
       "    <tr>\n",
       "      <th>75%</th>\n",
       "      <td>4.000000e+07</td>\n",
       "      <td>58610.500000</td>\n",
       "      <td>28.313505</td>\n",
       "      <td>9.291719e+07</td>\n",
       "      <td>118.000000</td>\n",
       "      <td>6.800000</td>\n",
       "      <td>737.000000</td>\n",
       "    </tr>\n",
       "    <tr>\n",
       "      <th>max</th>\n",
       "      <td>3.800000e+08</td>\n",
       "      <td>459488.000000</td>\n",
       "      <td>875.581305</td>\n",
       "      <td>2.787965e+09</td>\n",
       "      <td>338.000000</td>\n",
       "      <td>10.000000</td>\n",
       "      <td>13752.000000</td>\n",
       "    </tr>\n",
       "  </tbody>\n",
       "</table>\n",
       "</div>"
      ],
      "text/plain": [
       "             budget       movie_id   popularity       revenue      runtime  \\\n",
       "count  4.803000e+03    4803.000000  4803.000000  4.803000e+03  4801.000000   \n",
       "mean   2.904504e+07   57165.484281    21.492301  8.226064e+07   106.875859   \n",
       "std    4.072239e+07   88694.614033    31.816650  1.628571e+08    22.611935   \n",
       "min    0.000000e+00       5.000000     0.000000  0.000000e+00     0.000000   \n",
       "25%    7.900000e+05    9014.500000     4.668070  0.000000e+00    94.000000   \n",
       "50%    1.500000e+07   14629.000000    12.921594  1.917000e+07   103.000000   \n",
       "75%    4.000000e+07   58610.500000    28.313505  9.291719e+07   118.000000   \n",
       "max    3.800000e+08  459488.000000   875.581305  2.787965e+09   338.000000   \n",
       "\n",
       "       vote_average    vote_count  \n",
       "count   4803.000000   4803.000000  \n",
       "mean       6.092172    690.217989  \n",
       "std        1.194612   1234.585891  \n",
       "min        0.000000      0.000000  \n",
       "25%        5.600000     54.000000  \n",
       "50%        6.200000    235.000000  \n",
       "75%        6.800000    737.000000  \n",
       "max       10.000000  13752.000000  "
      ]
     },
     "execution_count": 13,
     "metadata": {},
     "output_type": "execute_result"
    }
   ],
   "source": [
    "data.describe()"
   ]
  },
  {
   "cell_type": "code",
   "execution_count": 14,
   "id": "65f7288b",
   "metadata": {},
   "outputs": [
    {
     "data": {
      "text/html": [
       "<div>\n",
       "<style scoped>\n",
       "    .dataframe tbody tr th:only-of-type {\n",
       "        vertical-align: middle;\n",
       "    }\n",
       "\n",
       "    .dataframe tbody tr th {\n",
       "        vertical-align: top;\n",
       "    }\n",
       "\n",
       "    .dataframe thead th {\n",
       "        text-align: right;\n",
       "    }\n",
       "</style>\n",
       "<table border=\"1\" class=\"dataframe\">\n",
       "  <thead>\n",
       "    <tr style=\"text-align: right;\">\n",
       "      <th></th>\n",
       "      <th>budget</th>\n",
       "      <th>genres</th>\n",
       "      <th>homepage</th>\n",
       "      <th>movie_id</th>\n",
       "      <th>keywords</th>\n",
       "      <th>original_language</th>\n",
       "      <th>original_title</th>\n",
       "      <th>overview</th>\n",
       "      <th>popularity</th>\n",
       "      <th>production_companies</th>\n",
       "      <th>...</th>\n",
       "      <th>revenue</th>\n",
       "      <th>runtime</th>\n",
       "      <th>spoken_languages</th>\n",
       "      <th>status</th>\n",
       "      <th>tagline</th>\n",
       "      <th>title</th>\n",
       "      <th>vote_average</th>\n",
       "      <th>vote_count</th>\n",
       "      <th>cast</th>\n",
       "      <th>crew</th>\n",
       "    </tr>\n",
       "  </thead>\n",
       "  <tbody>\n",
       "    <tr>\n",
       "      <th>0</th>\n",
       "      <td>237000000</td>\n",
       "      <td>[{\"id\": 28, \"name\": \"Action\"}, {\"id\": 12, \"nam...</td>\n",
       "      <td>http://www.avatarmovie.com/</td>\n",
       "      <td>19995</td>\n",
       "      <td>[{\"id\": 1463, \"name\": \"culture clash\"}, {\"id\":...</td>\n",
       "      <td>en</td>\n",
       "      <td>Avatar</td>\n",
       "      <td>In the 22nd century, a paraplegic Marine is di...</td>\n",
       "      <td>150.437577</td>\n",
       "      <td>[{\"name\": \"Ingenious Film Partners\", \"id\": 289...</td>\n",
       "      <td>...</td>\n",
       "      <td>2787965087</td>\n",
       "      <td>162.0</td>\n",
       "      <td>[{\"iso_639_1\": \"en\", \"name\": \"English\"}, {\"iso...</td>\n",
       "      <td>Released</td>\n",
       "      <td>Enter the World of Pandora.</td>\n",
       "      <td>Avatar</td>\n",
       "      <td>7.2</td>\n",
       "      <td>11800</td>\n",
       "      <td>[{\"cast_id\": 242, \"character\": \"Jake Sully\", \"...</td>\n",
       "      <td>[{\"credit_id\": \"52fe48009251416c750aca23\", \"de...</td>\n",
       "    </tr>\n",
       "  </tbody>\n",
       "</table>\n",
       "<p>1 rows × 22 columns</p>\n",
       "</div>"
      ],
      "text/plain": [
       "      budget                                             genres  \\\n",
       "0  237000000  [{\"id\": 28, \"name\": \"Action\"}, {\"id\": 12, \"nam...   \n",
       "\n",
       "                      homepage  movie_id  \\\n",
       "0  http://www.avatarmovie.com/     19995   \n",
       "\n",
       "                                            keywords original_language  \\\n",
       "0  [{\"id\": 1463, \"name\": \"culture clash\"}, {\"id\":...                en   \n",
       "\n",
       "  original_title                                           overview  \\\n",
       "0         Avatar  In the 22nd century, a paraplegic Marine is di...   \n",
       "\n",
       "   popularity                               production_companies  ...  \\\n",
       "0  150.437577  [{\"name\": \"Ingenious Film Partners\", \"id\": 289...  ...   \n",
       "\n",
       "      revenue runtime                                   spoken_languages  \\\n",
       "0  2787965087   162.0  [{\"iso_639_1\": \"en\", \"name\": \"English\"}, {\"iso...   \n",
       "\n",
       "     status                      tagline   title vote_average vote_count  \\\n",
       "0  Released  Enter the World of Pandora.  Avatar          7.2      11800   \n",
       "\n",
       "                                                cast  \\\n",
       "0  [{\"cast_id\": 242, \"character\": \"Jake Sully\", \"...   \n",
       "\n",
       "                                                crew  \n",
       "0  [{\"credit_id\": \"52fe48009251416c750aca23\", \"de...  \n",
       "\n",
       "[1 rows x 22 columns]"
      ]
     },
     "execution_count": 14,
     "metadata": {},
     "output_type": "execute_result"
    }
   ],
   "source": [
    "data.head(1)"
   ]
  },
  {
   "cell_type": "code",
   "execution_count": 15,
   "id": "471bc86b",
   "metadata": {},
   "outputs": [],
   "source": [
    "# genres\n",
    "# movie_id\n",
    "# title\n",
    "# keywords\n",
    "# overview\n",
    "# cast\n",
    "# crew"
   ]
  },
  {
   "cell_type": "code",
   "execution_count": 16,
   "id": "6d2f2ef6",
   "metadata": {},
   "outputs": [
    {
     "name": "stdout",
     "output_type": "stream",
     "text": [
      "<class 'pandas.core.frame.DataFrame'>\n",
      "RangeIndex: 4803 entries, 0 to 4802\n",
      "Data columns (total 22 columns):\n",
      " #   Column                Non-Null Count  Dtype  \n",
      "---  ------                --------------  -----  \n",
      " 0   budget                4803 non-null   int64  \n",
      " 1   genres                4803 non-null   object \n",
      " 2   homepage              1712 non-null   object \n",
      " 3   movie_id              4803 non-null   int64  \n",
      " 4   keywords              4803 non-null   object \n",
      " 5   original_language     4803 non-null   object \n",
      " 6   original_title        4803 non-null   object \n",
      " 7   overview              4800 non-null   object \n",
      " 8   popularity            4803 non-null   float64\n",
      " 9   production_companies  4803 non-null   object \n",
      " 10  production_countries  4803 non-null   object \n",
      " 11  release_date          4802 non-null   object \n",
      " 12  revenue               4803 non-null   int64  \n",
      " 13  runtime               4801 non-null   float64\n",
      " 14  spoken_languages      4803 non-null   object \n",
      " 15  status                4803 non-null   object \n",
      " 16  tagline               3959 non-null   object \n",
      " 17  title                 4803 non-null   object \n",
      " 18  vote_average          4803 non-null   float64\n",
      " 19  vote_count            4803 non-null   int64  \n",
      " 20  cast                  4803 non-null   object \n",
      " 21  crew                  4803 non-null   object \n",
      "dtypes: float64(3), int64(4), object(15)\n",
      "memory usage: 825.6+ KB\n"
     ]
    }
   ],
   "source": [
    "data.info()"
   ]
  },
  {
   "cell_type": "code",
   "execution_count": 17,
   "id": "465bbbb3",
   "metadata": {},
   "outputs": [],
   "source": [
    "data = data[['movie_id','title','overview','genres','keywords','cast','crew']]"
   ]
  },
  {
   "cell_type": "code",
   "execution_count": 18,
   "id": "6d5bdbc3",
   "metadata": {},
   "outputs": [
    {
     "data": {
      "text/html": [
       "<div>\n",
       "<style scoped>\n",
       "    .dataframe tbody tr th:only-of-type {\n",
       "        vertical-align: middle;\n",
       "    }\n",
       "\n",
       "    .dataframe tbody tr th {\n",
       "        vertical-align: top;\n",
       "    }\n",
       "\n",
       "    .dataframe thead th {\n",
       "        text-align: right;\n",
       "    }\n",
       "</style>\n",
       "<table border=\"1\" class=\"dataframe\">\n",
       "  <thead>\n",
       "    <tr style=\"text-align: right;\">\n",
       "      <th></th>\n",
       "      <th>movie_id</th>\n",
       "      <th>title</th>\n",
       "      <th>overview</th>\n",
       "      <th>genres</th>\n",
       "      <th>keywords</th>\n",
       "      <th>cast</th>\n",
       "      <th>crew</th>\n",
       "    </tr>\n",
       "  </thead>\n",
       "  <tbody>\n",
       "    <tr>\n",
       "      <th>0</th>\n",
       "      <td>19995</td>\n",
       "      <td>Avatar</td>\n",
       "      <td>In the 22nd century, a paraplegic Marine is di...</td>\n",
       "      <td>[{\"id\": 28, \"name\": \"Action\"}, {\"id\": 12, \"nam...</td>\n",
       "      <td>[{\"id\": 1463, \"name\": \"culture clash\"}, {\"id\":...</td>\n",
       "      <td>[{\"cast_id\": 242, \"character\": \"Jake Sully\", \"...</td>\n",
       "      <td>[{\"credit_id\": \"52fe48009251416c750aca23\", \"de...</td>\n",
       "    </tr>\n",
       "  </tbody>\n",
       "</table>\n",
       "</div>"
      ],
      "text/plain": [
       "   movie_id   title                                           overview  \\\n",
       "0     19995  Avatar  In the 22nd century, a paraplegic Marine is di...   \n",
       "\n",
       "                                              genres  \\\n",
       "0  [{\"id\": 28, \"name\": \"Action\"}, {\"id\": 12, \"nam...   \n",
       "\n",
       "                                            keywords  \\\n",
       "0  [{\"id\": 1463, \"name\": \"culture clash\"}, {\"id\":...   \n",
       "\n",
       "                                                cast  \\\n",
       "0  [{\"cast_id\": 242, \"character\": \"Jake Sully\", \"...   \n",
       "\n",
       "                                                crew  \n",
       "0  [{\"credit_id\": \"52fe48009251416c750aca23\", \"de...  "
      ]
     },
     "execution_count": 18,
     "metadata": {},
     "output_type": "execute_result"
    }
   ],
   "source": [
    "data.head(1)"
   ]
  },
  {
   "cell_type": "code",
   "execution_count": 19,
   "id": "890d23e0",
   "metadata": {},
   "outputs": [],
   "source": [
    "import ast"
   ]
  },
  {
   "cell_type": "code",
   "execution_count": 20,
   "id": "29ad1b91",
   "metadata": {},
   "outputs": [],
   "source": [
    "def tag_extractor(obj):\n",
    "    list = []\n",
    "    for i in ast.literal_eval(obj):\n",
    "        list.append(i['name'])\n",
    "    return list"
   ]
  },
  {
   "cell_type": "code",
   "execution_count": 21,
   "id": "4139fd03",
   "metadata": {},
   "outputs": [
    {
     "data": {
      "text/plain": [
       "['Action', 'Adventure', 'Fantasy', 'Science Fiction']"
      ]
     },
     "execution_count": 21,
     "metadata": {},
     "output_type": "execute_result"
    }
   ],
   "source": [
    "tag_extractor('[{\"id\": 28, \"name\": \"Action\"}, {\"id\": 12, \"name\": \"Adventure\"}, {\"id\": 14, \"name\": \"Fantasy\"}, {\"id\": 878, \"name\": \"Science Fiction\"}]')"
   ]
  },
  {
   "cell_type": "code",
   "execution_count": 22,
   "id": "3bf1f644",
   "metadata": {},
   "outputs": [],
   "source": [
    "data['genres'] = data['genres'].apply(tag_extractor)"
   ]
  },
  {
   "cell_type": "code",
   "execution_count": 23,
   "id": "af143eca",
   "metadata": {},
   "outputs": [],
   "source": [
    "data['keywords'] = data['keywords'].apply(tag_extractor)"
   ]
  },
  {
   "cell_type": "code",
   "execution_count": 24,
   "id": "097afce8",
   "metadata": {},
   "outputs": [
    {
     "data": {
      "text/html": [
       "<div>\n",
       "<style scoped>\n",
       "    .dataframe tbody tr th:only-of-type {\n",
       "        vertical-align: middle;\n",
       "    }\n",
       "\n",
       "    .dataframe tbody tr th {\n",
       "        vertical-align: top;\n",
       "    }\n",
       "\n",
       "    .dataframe thead th {\n",
       "        text-align: right;\n",
       "    }\n",
       "</style>\n",
       "<table border=\"1\" class=\"dataframe\">\n",
       "  <thead>\n",
       "    <tr style=\"text-align: right;\">\n",
       "      <th></th>\n",
       "      <th>movie_id</th>\n",
       "      <th>title</th>\n",
       "      <th>overview</th>\n",
       "      <th>genres</th>\n",
       "      <th>keywords</th>\n",
       "      <th>cast</th>\n",
       "      <th>crew</th>\n",
       "    </tr>\n",
       "  </thead>\n",
       "  <tbody>\n",
       "    <tr>\n",
       "      <th>0</th>\n",
       "      <td>19995</td>\n",
       "      <td>Avatar</td>\n",
       "      <td>In the 22nd century, a paraplegic Marine is di...</td>\n",
       "      <td>[Action, Adventure, Fantasy, Science Fiction]</td>\n",
       "      <td>[culture clash, future, space war, space colon...</td>\n",
       "      <td>[{\"cast_id\": 242, \"character\": \"Jake Sully\", \"...</td>\n",
       "      <td>[{\"credit_id\": \"52fe48009251416c750aca23\", \"de...</td>\n",
       "    </tr>\n",
       "  </tbody>\n",
       "</table>\n",
       "</div>"
      ],
      "text/plain": [
       "   movie_id   title                                           overview  \\\n",
       "0     19995  Avatar  In the 22nd century, a paraplegic Marine is di...   \n",
       "\n",
       "                                          genres  \\\n",
       "0  [Action, Adventure, Fantasy, Science Fiction]   \n",
       "\n",
       "                                            keywords  \\\n",
       "0  [culture clash, future, space war, space colon...   \n",
       "\n",
       "                                                cast  \\\n",
       "0  [{\"cast_id\": 242, \"character\": \"Jake Sully\", \"...   \n",
       "\n",
       "                                                crew  \n",
       "0  [{\"credit_id\": \"52fe48009251416c750aca23\", \"de...  "
      ]
     },
     "execution_count": 24,
     "metadata": {},
     "output_type": "execute_result"
    }
   ],
   "source": [
    "data.head(1)"
   ]
  },
  {
   "cell_type": "code",
   "execution_count": 25,
   "id": "96c74390",
   "metadata": {},
   "outputs": [],
   "source": [
    "def tag_extractor_top3(obj):\n",
    "    list = []\n",
    "    counter = 0\n",
    "    for i in ast.literal_eval(obj):\n",
    "        if counter < 3:\n",
    "            list.append(i['name'])\n",
    "            counter+=1\n",
    "    return list"
   ]
  },
  {
   "cell_type": "code",
   "execution_count": 26,
   "id": "39d3de5f",
   "metadata": {},
   "outputs": [],
   "source": [
    "data['cast'] = data['cast'].apply(tag_extractor_top3)"
   ]
  },
  {
   "cell_type": "code",
   "execution_count": 27,
   "id": "7b4da900",
   "metadata": {},
   "outputs": [
    {
     "data": {
      "text/html": [
       "<div>\n",
       "<style scoped>\n",
       "    .dataframe tbody tr th:only-of-type {\n",
       "        vertical-align: middle;\n",
       "    }\n",
       "\n",
       "    .dataframe tbody tr th {\n",
       "        vertical-align: top;\n",
       "    }\n",
       "\n",
       "    .dataframe thead th {\n",
       "        text-align: right;\n",
       "    }\n",
       "</style>\n",
       "<table border=\"1\" class=\"dataframe\">\n",
       "  <thead>\n",
       "    <tr style=\"text-align: right;\">\n",
       "      <th></th>\n",
       "      <th>movie_id</th>\n",
       "      <th>title</th>\n",
       "      <th>overview</th>\n",
       "      <th>genres</th>\n",
       "      <th>keywords</th>\n",
       "      <th>cast</th>\n",
       "      <th>crew</th>\n",
       "    </tr>\n",
       "  </thead>\n",
       "  <tbody>\n",
       "    <tr>\n",
       "      <th>0</th>\n",
       "      <td>19995</td>\n",
       "      <td>Avatar</td>\n",
       "      <td>In the 22nd century, a paraplegic Marine is di...</td>\n",
       "      <td>[Action, Adventure, Fantasy, Science Fiction]</td>\n",
       "      <td>[culture clash, future, space war, space colon...</td>\n",
       "      <td>[Sam Worthington, Zoe Saldana, Sigourney Weaver]</td>\n",
       "      <td>[{\"credit_id\": \"52fe48009251416c750aca23\", \"de...</td>\n",
       "    </tr>\n",
       "    <tr>\n",
       "      <th>1</th>\n",
       "      <td>285</td>\n",
       "      <td>Pirates of the Caribbean: At World's End</td>\n",
       "      <td>Captain Barbossa, long believed to be dead, ha...</td>\n",
       "      <td>[Adventure, Fantasy, Action]</td>\n",
       "      <td>[ocean, drug abuse, exotic island, east india ...</td>\n",
       "      <td>[Johnny Depp, Orlando Bloom, Keira Knightley]</td>\n",
       "      <td>[{\"credit_id\": \"52fe4232c3a36847f800b579\", \"de...</td>\n",
       "    </tr>\n",
       "    <tr>\n",
       "      <th>2</th>\n",
       "      <td>206647</td>\n",
       "      <td>Spectre</td>\n",
       "      <td>A cryptic message from Bond’s past sends him o...</td>\n",
       "      <td>[Action, Adventure, Crime]</td>\n",
       "      <td>[spy, based on novel, secret agent, sequel, mi...</td>\n",
       "      <td>[Daniel Craig, Christoph Waltz, Léa Seydoux]</td>\n",
       "      <td>[{\"credit_id\": \"54805967c3a36829b5002c41\", \"de...</td>\n",
       "    </tr>\n",
       "  </tbody>\n",
       "</table>\n",
       "</div>"
      ],
      "text/plain": [
       "   movie_id                                     title  \\\n",
       "0     19995                                    Avatar   \n",
       "1       285  Pirates of the Caribbean: At World's End   \n",
       "2    206647                                   Spectre   \n",
       "\n",
       "                                            overview  \\\n",
       "0  In the 22nd century, a paraplegic Marine is di...   \n",
       "1  Captain Barbossa, long believed to be dead, ha...   \n",
       "2  A cryptic message from Bond’s past sends him o...   \n",
       "\n",
       "                                          genres  \\\n",
       "0  [Action, Adventure, Fantasy, Science Fiction]   \n",
       "1                   [Adventure, Fantasy, Action]   \n",
       "2                     [Action, Adventure, Crime]   \n",
       "\n",
       "                                            keywords  \\\n",
       "0  [culture clash, future, space war, space colon...   \n",
       "1  [ocean, drug abuse, exotic island, east india ...   \n",
       "2  [spy, based on novel, secret agent, sequel, mi...   \n",
       "\n",
       "                                               cast  \\\n",
       "0  [Sam Worthington, Zoe Saldana, Sigourney Weaver]   \n",
       "1     [Johnny Depp, Orlando Bloom, Keira Knightley]   \n",
       "2      [Daniel Craig, Christoph Waltz, Léa Seydoux]   \n",
       "\n",
       "                                                crew  \n",
       "0  [{\"credit_id\": \"52fe48009251416c750aca23\", \"de...  \n",
       "1  [{\"credit_id\": \"52fe4232c3a36847f800b579\", \"de...  \n",
       "2  [{\"credit_id\": \"54805967c3a36829b5002c41\", \"de...  "
      ]
     },
     "execution_count": 27,
     "metadata": {},
     "output_type": "execute_result"
    }
   ],
   "source": [
    "data.head(3)"
   ]
  },
  {
   "cell_type": "code",
   "execution_count": 28,
   "id": "453435d2",
   "metadata": {},
   "outputs": [],
   "source": [
    "def tag_extractor_director(obj):\n",
    "    list = []\n",
    "    for i in ast.literal_eval(obj):\n",
    "        if i['job']=='Director':\n",
    "            list.append(i['name'])\n",
    "            break\n",
    "    return list"
   ]
  },
  {
   "cell_type": "code",
   "execution_count": 29,
   "id": "2d737ed6",
   "metadata": {},
   "outputs": [],
   "source": [
    "data['crew'] = data['crew'].apply(tag_extractor_director)"
   ]
  },
  {
   "cell_type": "code",
   "execution_count": 30,
   "id": "dc98e1a7",
   "metadata": {},
   "outputs": [
    {
     "data": {
      "text/html": [
       "<div>\n",
       "<style scoped>\n",
       "    .dataframe tbody tr th:only-of-type {\n",
       "        vertical-align: middle;\n",
       "    }\n",
       "\n",
       "    .dataframe tbody tr th {\n",
       "        vertical-align: top;\n",
       "    }\n",
       "\n",
       "    .dataframe thead th {\n",
       "        text-align: right;\n",
       "    }\n",
       "</style>\n",
       "<table border=\"1\" class=\"dataframe\">\n",
       "  <thead>\n",
       "    <tr style=\"text-align: right;\">\n",
       "      <th></th>\n",
       "      <th>movie_id</th>\n",
       "      <th>title</th>\n",
       "      <th>overview</th>\n",
       "      <th>genres</th>\n",
       "      <th>keywords</th>\n",
       "      <th>cast</th>\n",
       "      <th>crew</th>\n",
       "    </tr>\n",
       "  </thead>\n",
       "  <tbody>\n",
       "    <tr>\n",
       "      <th>0</th>\n",
       "      <td>19995</td>\n",
       "      <td>Avatar</td>\n",
       "      <td>In the 22nd century, a paraplegic Marine is di...</td>\n",
       "      <td>[Action, Adventure, Fantasy, Science Fiction]</td>\n",
       "      <td>[culture clash, future, space war, space colon...</td>\n",
       "      <td>[Sam Worthington, Zoe Saldana, Sigourney Weaver]</td>\n",
       "      <td>[James Cameron]</td>\n",
       "    </tr>\n",
       "    <tr>\n",
       "      <th>1</th>\n",
       "      <td>285</td>\n",
       "      <td>Pirates of the Caribbean: At World's End</td>\n",
       "      <td>Captain Barbossa, long believed to be dead, ha...</td>\n",
       "      <td>[Adventure, Fantasy, Action]</td>\n",
       "      <td>[ocean, drug abuse, exotic island, east india ...</td>\n",
       "      <td>[Johnny Depp, Orlando Bloom, Keira Knightley]</td>\n",
       "      <td>[Gore Verbinski]</td>\n",
       "    </tr>\n",
       "  </tbody>\n",
       "</table>\n",
       "</div>"
      ],
      "text/plain": [
       "   movie_id                                     title  \\\n",
       "0     19995                                    Avatar   \n",
       "1       285  Pirates of the Caribbean: At World's End   \n",
       "\n",
       "                                            overview  \\\n",
       "0  In the 22nd century, a paraplegic Marine is di...   \n",
       "1  Captain Barbossa, long believed to be dead, ha...   \n",
       "\n",
       "                                          genres  \\\n",
       "0  [Action, Adventure, Fantasy, Science Fiction]   \n",
       "1                   [Adventure, Fantasy, Action]   \n",
       "\n",
       "                                            keywords  \\\n",
       "0  [culture clash, future, space war, space colon...   \n",
       "1  [ocean, drug abuse, exotic island, east india ...   \n",
       "\n",
       "                                               cast              crew  \n",
       "0  [Sam Worthington, Zoe Saldana, Sigourney Weaver]   [James Cameron]  \n",
       "1     [Johnny Depp, Orlando Bloom, Keira Knightley]  [Gore Verbinski]  "
      ]
     },
     "execution_count": 30,
     "metadata": {},
     "output_type": "execute_result"
    }
   ],
   "source": [
    "data.head(2)"
   ]
  },
  {
   "cell_type": "code",
   "execution_count": 31,
   "id": "7c4b4869",
   "metadata": {},
   "outputs": [],
   "source": [
    "def collapse(obj):\n",
    "    l = []\n",
    "    for i in obj:\n",
    "        l.append(i.replace(\" \",\"\"))\n",
    "    return l"
   ]
  },
  {
   "cell_type": "code",
   "execution_count": 32,
   "id": "7dbff578",
   "metadata": {},
   "outputs": [],
   "source": [
    "data['genres'] = data['genres'].apply(collapse)\n",
    "data['keywords'] = data['keywords'].apply(collapse)\n",
    "data['cast'] = data['cast'].apply(collapse)\n",
    "data['crew'] = data['crew'].apply(collapse)"
   ]
  },
  {
   "cell_type": "code",
   "execution_count": 33,
   "id": "db706eda",
   "metadata": {},
   "outputs": [
    {
     "data": {
      "text/html": [
       "<div>\n",
       "<style scoped>\n",
       "    .dataframe tbody tr th:only-of-type {\n",
       "        vertical-align: middle;\n",
       "    }\n",
       "\n",
       "    .dataframe tbody tr th {\n",
       "        vertical-align: top;\n",
       "    }\n",
       "\n",
       "    .dataframe thead th {\n",
       "        text-align: right;\n",
       "    }\n",
       "</style>\n",
       "<table border=\"1\" class=\"dataframe\">\n",
       "  <thead>\n",
       "    <tr style=\"text-align: right;\">\n",
       "      <th></th>\n",
       "      <th>movie_id</th>\n",
       "      <th>title</th>\n",
       "      <th>overview</th>\n",
       "      <th>genres</th>\n",
       "      <th>keywords</th>\n",
       "      <th>cast</th>\n",
       "      <th>crew</th>\n",
       "    </tr>\n",
       "  </thead>\n",
       "  <tbody>\n",
       "    <tr>\n",
       "      <th>0</th>\n",
       "      <td>19995</td>\n",
       "      <td>Avatar</td>\n",
       "      <td>In the 22nd century, a paraplegic Marine is di...</td>\n",
       "      <td>[Action, Adventure, Fantasy, ScienceFiction]</td>\n",
       "      <td>[cultureclash, future, spacewar, spacecolony, ...</td>\n",
       "      <td>[SamWorthington, ZoeSaldana, SigourneyWeaver]</td>\n",
       "      <td>[JamesCameron]</td>\n",
       "    </tr>\n",
       "  </tbody>\n",
       "</table>\n",
       "</div>"
      ],
      "text/plain": [
       "   movie_id   title                                           overview  \\\n",
       "0     19995  Avatar  In the 22nd century, a paraplegic Marine is di...   \n",
       "\n",
       "                                         genres  \\\n",
       "0  [Action, Adventure, Fantasy, ScienceFiction]   \n",
       "\n",
       "                                            keywords  \\\n",
       "0  [cultureclash, future, spacewar, spacecolony, ...   \n",
       "\n",
       "                                            cast            crew  \n",
       "0  [SamWorthington, ZoeSaldana, SigourneyWeaver]  [JamesCameron]  "
      ]
     },
     "execution_count": 33,
     "metadata": {},
     "output_type": "execute_result"
    }
   ],
   "source": [
    "data.head(1)"
   ]
  },
  {
   "cell_type": "code",
   "execution_count": 34,
   "id": "638b3431",
   "metadata": {},
   "outputs": [
    {
     "name": "stdout",
     "output_type": "stream",
     "text": [
      "<class 'pandas.core.frame.DataFrame'>\n",
      "RangeIndex: 4803 entries, 0 to 4802\n",
      "Data columns (total 7 columns):\n",
      " #   Column    Non-Null Count  Dtype \n",
      "---  ------    --------------  ----- \n",
      " 0   movie_id  4803 non-null   int64 \n",
      " 1   title     4803 non-null   object\n",
      " 2   overview  4800 non-null   object\n",
      " 3   genres    4803 non-null   object\n",
      " 4   keywords  4803 non-null   object\n",
      " 5   cast      4803 non-null   object\n",
      " 6   crew      4803 non-null   object\n",
      "dtypes: int64(1), object(6)\n",
      "memory usage: 262.8+ KB\n"
     ]
    }
   ],
   "source": [
    "data.info()"
   ]
  },
  {
   "cell_type": "code",
   "execution_count": 35,
   "id": "d27acf2c",
   "metadata": {},
   "outputs": [],
   "source": [
    "data.dropna(inplace=True)"
   ]
  },
  {
   "cell_type": "code",
   "execution_count": 36,
   "id": "fcec4ffd",
   "metadata": {},
   "outputs": [],
   "source": [
    "data['overview'] = data['overview'].apply(lambda x : x.split())"
   ]
  },
  {
   "cell_type": "code",
   "execution_count": 37,
   "id": "2693df7e",
   "metadata": {},
   "outputs": [
    {
     "data": {
      "text/html": [
       "<div>\n",
       "<style scoped>\n",
       "    .dataframe tbody tr th:only-of-type {\n",
       "        vertical-align: middle;\n",
       "    }\n",
       "\n",
       "    .dataframe tbody tr th {\n",
       "        vertical-align: top;\n",
       "    }\n",
       "\n",
       "    .dataframe thead th {\n",
       "        text-align: right;\n",
       "    }\n",
       "</style>\n",
       "<table border=\"1\" class=\"dataframe\">\n",
       "  <thead>\n",
       "    <tr style=\"text-align: right;\">\n",
       "      <th></th>\n",
       "      <th>movie_id</th>\n",
       "      <th>title</th>\n",
       "      <th>overview</th>\n",
       "      <th>genres</th>\n",
       "      <th>keywords</th>\n",
       "      <th>cast</th>\n",
       "      <th>crew</th>\n",
       "    </tr>\n",
       "  </thead>\n",
       "  <tbody>\n",
       "    <tr>\n",
       "      <th>0</th>\n",
       "      <td>19995</td>\n",
       "      <td>Avatar</td>\n",
       "      <td>[In, the, 22nd, century,, a, paraplegic, Marin...</td>\n",
       "      <td>[Action, Adventure, Fantasy, ScienceFiction]</td>\n",
       "      <td>[cultureclash, future, spacewar, spacecolony, ...</td>\n",
       "      <td>[SamWorthington, ZoeSaldana, SigourneyWeaver]</td>\n",
       "      <td>[JamesCameron]</td>\n",
       "    </tr>\n",
       "    <tr>\n",
       "      <th>1</th>\n",
       "      <td>285</td>\n",
       "      <td>Pirates of the Caribbean: At World's End</td>\n",
       "      <td>[Captain, Barbossa,, long, believed, to, be, d...</td>\n",
       "      <td>[Adventure, Fantasy, Action]</td>\n",
       "      <td>[ocean, drugabuse, exoticisland, eastindiatrad...</td>\n",
       "      <td>[JohnnyDepp, OrlandoBloom, KeiraKnightley]</td>\n",
       "      <td>[GoreVerbinski]</td>\n",
       "    </tr>\n",
       "  </tbody>\n",
       "</table>\n",
       "</div>"
      ],
      "text/plain": [
       "   movie_id                                     title  \\\n",
       "0     19995                                    Avatar   \n",
       "1       285  Pirates of the Caribbean: At World's End   \n",
       "\n",
       "                                            overview  \\\n",
       "0  [In, the, 22nd, century,, a, paraplegic, Marin...   \n",
       "1  [Captain, Barbossa,, long, believed, to, be, d...   \n",
       "\n",
       "                                         genres  \\\n",
       "0  [Action, Adventure, Fantasy, ScienceFiction]   \n",
       "1                  [Adventure, Fantasy, Action]   \n",
       "\n",
       "                                            keywords  \\\n",
       "0  [cultureclash, future, spacewar, spacecolony, ...   \n",
       "1  [ocean, drugabuse, exoticisland, eastindiatrad...   \n",
       "\n",
       "                                            cast             crew  \n",
       "0  [SamWorthington, ZoeSaldana, SigourneyWeaver]   [JamesCameron]  \n",
       "1     [JohnnyDepp, OrlandoBloom, KeiraKnightley]  [GoreVerbinski]  "
      ]
     },
     "execution_count": 37,
     "metadata": {},
     "output_type": "execute_result"
    }
   ],
   "source": [
    "data.head(2)"
   ]
  },
  {
   "cell_type": "code",
   "execution_count": 38,
   "id": "98ee2db8",
   "metadata": {},
   "outputs": [],
   "source": [
    "data['tags'] = data['genres'] + data['keywords'] + data['cast'] + data['crew'] + data['overview']"
   ]
  },
  {
   "cell_type": "code",
   "execution_count": 39,
   "id": "87c668c1",
   "metadata": {},
   "outputs": [
    {
     "data": {
      "text/html": [
       "<div>\n",
       "<style scoped>\n",
       "    .dataframe tbody tr th:only-of-type {\n",
       "        vertical-align: middle;\n",
       "    }\n",
       "\n",
       "    .dataframe tbody tr th {\n",
       "        vertical-align: top;\n",
       "    }\n",
       "\n",
       "    .dataframe thead th {\n",
       "        text-align: right;\n",
       "    }\n",
       "</style>\n",
       "<table border=\"1\" class=\"dataframe\">\n",
       "  <thead>\n",
       "    <tr style=\"text-align: right;\">\n",
       "      <th></th>\n",
       "      <th>movie_id</th>\n",
       "      <th>title</th>\n",
       "      <th>overview</th>\n",
       "      <th>genres</th>\n",
       "      <th>keywords</th>\n",
       "      <th>cast</th>\n",
       "      <th>crew</th>\n",
       "      <th>tags</th>\n",
       "    </tr>\n",
       "  </thead>\n",
       "  <tbody>\n",
       "    <tr>\n",
       "      <th>0</th>\n",
       "      <td>19995</td>\n",
       "      <td>Avatar</td>\n",
       "      <td>[In, the, 22nd, century,, a, paraplegic, Marin...</td>\n",
       "      <td>[Action, Adventure, Fantasy, ScienceFiction]</td>\n",
       "      <td>[cultureclash, future, spacewar, spacecolony, ...</td>\n",
       "      <td>[SamWorthington, ZoeSaldana, SigourneyWeaver]</td>\n",
       "      <td>[JamesCameron]</td>\n",
       "      <td>[Action, Adventure, Fantasy, ScienceFiction, c...</td>\n",
       "    </tr>\n",
       "    <tr>\n",
       "      <th>1</th>\n",
       "      <td>285</td>\n",
       "      <td>Pirates of the Caribbean: At World's End</td>\n",
       "      <td>[Captain, Barbossa,, long, believed, to, be, d...</td>\n",
       "      <td>[Adventure, Fantasy, Action]</td>\n",
       "      <td>[ocean, drugabuse, exoticisland, eastindiatrad...</td>\n",
       "      <td>[JohnnyDepp, OrlandoBloom, KeiraKnightley]</td>\n",
       "      <td>[GoreVerbinski]</td>\n",
       "      <td>[Adventure, Fantasy, Action, ocean, drugabuse,...</td>\n",
       "    </tr>\n",
       "    <tr>\n",
       "      <th>2</th>\n",
       "      <td>206647</td>\n",
       "      <td>Spectre</td>\n",
       "      <td>[A, cryptic, message, from, Bond’s, past, send...</td>\n",
       "      <td>[Action, Adventure, Crime]</td>\n",
       "      <td>[spy, basedonnovel, secretagent, sequel, mi6, ...</td>\n",
       "      <td>[DanielCraig, ChristophWaltz, LéaSeydoux]</td>\n",
       "      <td>[SamMendes]</td>\n",
       "      <td>[Action, Adventure, Crime, spy, basedonnovel, ...</td>\n",
       "    </tr>\n",
       "    <tr>\n",
       "      <th>3</th>\n",
       "      <td>49026</td>\n",
       "      <td>The Dark Knight Rises</td>\n",
       "      <td>[Following, the, death, of, District, Attorney...</td>\n",
       "      <td>[Action, Crime, Drama, Thriller]</td>\n",
       "      <td>[dccomics, crimefighter, terrorist, secretiden...</td>\n",
       "      <td>[ChristianBale, MichaelCaine, GaryOldman]</td>\n",
       "      <td>[ChristopherNolan]</td>\n",
       "      <td>[Action, Crime, Drama, Thriller, dccomics, cri...</td>\n",
       "    </tr>\n",
       "    <tr>\n",
       "      <th>4</th>\n",
       "      <td>49529</td>\n",
       "      <td>John Carter</td>\n",
       "      <td>[John, Carter, is, a, war-weary,, former, mili...</td>\n",
       "      <td>[Action, Adventure, ScienceFiction]</td>\n",
       "      <td>[basedonnovel, mars, medallion, spacetravel, p...</td>\n",
       "      <td>[TaylorKitsch, LynnCollins, SamanthaMorton]</td>\n",
       "      <td>[AndrewStanton]</td>\n",
       "      <td>[Action, Adventure, ScienceFiction, basedonnov...</td>\n",
       "    </tr>\n",
       "  </tbody>\n",
       "</table>\n",
       "</div>"
      ],
      "text/plain": [
       "   movie_id                                     title  \\\n",
       "0     19995                                    Avatar   \n",
       "1       285  Pirates of the Caribbean: At World's End   \n",
       "2    206647                                   Spectre   \n",
       "3     49026                     The Dark Knight Rises   \n",
       "4     49529                               John Carter   \n",
       "\n",
       "                                            overview  \\\n",
       "0  [In, the, 22nd, century,, a, paraplegic, Marin...   \n",
       "1  [Captain, Barbossa,, long, believed, to, be, d...   \n",
       "2  [A, cryptic, message, from, Bond’s, past, send...   \n",
       "3  [Following, the, death, of, District, Attorney...   \n",
       "4  [John, Carter, is, a, war-weary,, former, mili...   \n",
       "\n",
       "                                         genres  \\\n",
       "0  [Action, Adventure, Fantasy, ScienceFiction]   \n",
       "1                  [Adventure, Fantasy, Action]   \n",
       "2                    [Action, Adventure, Crime]   \n",
       "3              [Action, Crime, Drama, Thriller]   \n",
       "4           [Action, Adventure, ScienceFiction]   \n",
       "\n",
       "                                            keywords  \\\n",
       "0  [cultureclash, future, spacewar, spacecolony, ...   \n",
       "1  [ocean, drugabuse, exoticisland, eastindiatrad...   \n",
       "2  [spy, basedonnovel, secretagent, sequel, mi6, ...   \n",
       "3  [dccomics, crimefighter, terrorist, secretiden...   \n",
       "4  [basedonnovel, mars, medallion, spacetravel, p...   \n",
       "\n",
       "                                            cast                crew  \\\n",
       "0  [SamWorthington, ZoeSaldana, SigourneyWeaver]      [JamesCameron]   \n",
       "1     [JohnnyDepp, OrlandoBloom, KeiraKnightley]     [GoreVerbinski]   \n",
       "2      [DanielCraig, ChristophWaltz, LéaSeydoux]         [SamMendes]   \n",
       "3      [ChristianBale, MichaelCaine, GaryOldman]  [ChristopherNolan]   \n",
       "4    [TaylorKitsch, LynnCollins, SamanthaMorton]     [AndrewStanton]   \n",
       "\n",
       "                                                tags  \n",
       "0  [Action, Adventure, Fantasy, ScienceFiction, c...  \n",
       "1  [Adventure, Fantasy, Action, ocean, drugabuse,...  \n",
       "2  [Action, Adventure, Crime, spy, basedonnovel, ...  \n",
       "3  [Action, Crime, Drama, Thriller, dccomics, cri...  \n",
       "4  [Action, Adventure, ScienceFiction, basedonnov...  "
      ]
     },
     "execution_count": 39,
     "metadata": {},
     "output_type": "execute_result"
    }
   ],
   "source": [
    "data.head()"
   ]
  },
  {
   "cell_type": "code",
   "execution_count": 40,
   "id": "1f96b6ac",
   "metadata": {},
   "outputs": [],
   "source": [
    "old_data = data"
   ]
  },
  {
   "cell_type": "code",
   "execution_count": 41,
   "id": "fd942571",
   "metadata": {},
   "outputs": [],
   "source": [
    "data = data[['movie_id','title','tags']]"
   ]
  },
  {
   "cell_type": "code",
   "execution_count": 42,
   "id": "19ed2f06",
   "metadata": {},
   "outputs": [
    {
     "data": {
      "text/html": [
       "<div>\n",
       "<style scoped>\n",
       "    .dataframe tbody tr th:only-of-type {\n",
       "        vertical-align: middle;\n",
       "    }\n",
       "\n",
       "    .dataframe tbody tr th {\n",
       "        vertical-align: top;\n",
       "    }\n",
       "\n",
       "    .dataframe thead th {\n",
       "        text-align: right;\n",
       "    }\n",
       "</style>\n",
       "<table border=\"1\" class=\"dataframe\">\n",
       "  <thead>\n",
       "    <tr style=\"text-align: right;\">\n",
       "      <th></th>\n",
       "      <th>movie_id</th>\n",
       "      <th>title</th>\n",
       "      <th>tags</th>\n",
       "    </tr>\n",
       "  </thead>\n",
       "  <tbody>\n",
       "    <tr>\n",
       "      <th>0</th>\n",
       "      <td>19995</td>\n",
       "      <td>Avatar</td>\n",
       "      <td>[Action, Adventure, Fantasy, ScienceFiction, c...</td>\n",
       "    </tr>\n",
       "    <tr>\n",
       "      <th>1</th>\n",
       "      <td>285</td>\n",
       "      <td>Pirates of the Caribbean: At World's End</td>\n",
       "      <td>[Adventure, Fantasy, Action, ocean, drugabuse,...</td>\n",
       "    </tr>\n",
       "  </tbody>\n",
       "</table>\n",
       "</div>"
      ],
      "text/plain": [
       "   movie_id                                     title  \\\n",
       "0     19995                                    Avatar   \n",
       "1       285  Pirates of the Caribbean: At World's End   \n",
       "\n",
       "                                                tags  \n",
       "0  [Action, Adventure, Fantasy, ScienceFiction, c...  \n",
       "1  [Adventure, Fantasy, Action, ocean, drugabuse,...  "
      ]
     },
     "execution_count": 42,
     "metadata": {},
     "output_type": "execute_result"
    }
   ],
   "source": [
    "data.head(2)"
   ]
  },
  {
   "cell_type": "code",
   "execution_count": 43,
   "id": "ead2c3af",
   "metadata": {},
   "outputs": [
    {
     "name": "stderr",
     "output_type": "stream",
     "text": [
      "/var/folders/2x/3726z2cx2vq26ly47yc6qy100000gn/T/ipykernel_2385/4000147982.py:1: SettingWithCopyWarning: \n",
      "A value is trying to be set on a copy of a slice from a DataFrame.\n",
      "Try using .loc[row_indexer,col_indexer] = value instead\n",
      "\n",
      "See the caveats in the documentation: https://pandas.pydata.org/pandas-docs/stable/user_guide/indexing.html#returning-a-view-versus-a-copy\n",
      "  data['tags'] = data['tags'].apply(lambda x : \" \".join(x))\n"
     ]
    }
   ],
   "source": [
    "data['tags'] = data['tags'].apply(lambda x : \" \".join(x))"
   ]
  },
  {
   "cell_type": "code",
   "execution_count": 44,
   "id": "79062364",
   "metadata": {},
   "outputs": [
    {
     "data": {
      "text/plain": [
       "'Action Adventure Fantasy dccomics vigilante superhero basedoncomicbook revenge superpowers clarkkent brucewayne dcextendeduniverse BenAffleck HenryCavill GalGadot ZackSnyder Fearing the actions of a god-like Super Hero left unchecked, Gotham City’s own formidable, forceful vigilante takes on Metropolis’s most revered, modern-day savior, while the world wrestles with what sort of hero it really needs. And with Batman and Superman at war with one another, a new threat quickly arises, putting mankind in greater danger than it’s ever known before.'"
      ]
     },
     "execution_count": 44,
     "metadata": {},
     "output_type": "execute_result"
    }
   ],
   "source": [
    "data['tags'][9]"
   ]
  },
  {
   "cell_type": "code",
   "execution_count": 45,
   "id": "c61db110",
   "metadata": {},
   "outputs": [
    {
     "name": "stderr",
     "output_type": "stream",
     "text": [
      "/var/folders/2x/3726z2cx2vq26ly47yc6qy100000gn/T/ipykernel_2385/999398172.py:1: SettingWithCopyWarning: \n",
      "A value is trying to be set on a copy of a slice from a DataFrame.\n",
      "Try using .loc[row_indexer,col_indexer] = value instead\n",
      "\n",
      "See the caveats in the documentation: https://pandas.pydata.org/pandas-docs/stable/user_guide/indexing.html#returning-a-view-versus-a-copy\n",
      "  data['tags'] = data['tags'].apply(lambda x : x.lower())\n"
     ]
    }
   ],
   "source": [
    "data['tags'] = data['tags'].apply(lambda x : x.lower())"
   ]
  },
  {
   "cell_type": "code",
   "execution_count": 46,
   "id": "971019c1",
   "metadata": {},
   "outputs": [
    {
     "data": {
      "text/plain": [
       "'action adventure fantasy sciencefiction cultureclash future spacewar spacecolony society spacetravel futuristic romance space alien tribe alienplanet cgi marine soldier battle loveaffair antiwar powerrelations mindandsoul 3d samworthington zoesaldana sigourneyweaver jamescameron in the 22nd century, a paraplegic marine is dispatched to the moon pandora on a unique mission, but becomes torn between following orders and protecting an alien civilization.'"
      ]
     },
     "execution_count": 46,
     "metadata": {},
     "output_type": "execute_result"
    }
   ],
   "source": [
    "data['tags'][0]"
   ]
  },
  {
   "cell_type": "code",
   "execution_count": 47,
   "id": "7aac867a",
   "metadata": {},
   "outputs": [
    {
     "data": {
      "text/html": [
       "<div>\n",
       "<style scoped>\n",
       "    .dataframe tbody tr th:only-of-type {\n",
       "        vertical-align: middle;\n",
       "    }\n",
       "\n",
       "    .dataframe tbody tr th {\n",
       "        vertical-align: top;\n",
       "    }\n",
       "\n",
       "    .dataframe thead th {\n",
       "        text-align: right;\n",
       "    }\n",
       "</style>\n",
       "<table border=\"1\" class=\"dataframe\">\n",
       "  <thead>\n",
       "    <tr style=\"text-align: right;\">\n",
       "      <th></th>\n",
       "      <th>movie_id</th>\n",
       "      <th>title</th>\n",
       "      <th>tags</th>\n",
       "    </tr>\n",
       "  </thead>\n",
       "  <tbody>\n",
       "    <tr>\n",
       "      <th>0</th>\n",
       "      <td>19995</td>\n",
       "      <td>Avatar</td>\n",
       "      <td>action adventure fantasy sciencefiction cultur...</td>\n",
       "    </tr>\n",
       "    <tr>\n",
       "      <th>1</th>\n",
       "      <td>285</td>\n",
       "      <td>Pirates of the Caribbean: At World's End</td>\n",
       "      <td>adventure fantasy action ocean drugabuse exoti...</td>\n",
       "    </tr>\n",
       "  </tbody>\n",
       "</table>\n",
       "</div>"
      ],
      "text/plain": [
       "   movie_id                                     title  \\\n",
       "0     19995                                    Avatar   \n",
       "1       285  Pirates of the Caribbean: At World's End   \n",
       "\n",
       "                                                tags  \n",
       "0  action adventure fantasy sciencefiction cultur...  \n",
       "1  adventure fantasy action ocean drugabuse exoti...  "
      ]
     },
     "execution_count": 47,
     "metadata": {},
     "output_type": "execute_result"
    }
   ],
   "source": [
    "data.head(2)"
   ]
  },
  {
   "cell_type": "code",
   "execution_count": 48,
   "id": "abf13639",
   "metadata": {},
   "outputs": [],
   "source": [
    "import nltk"
   ]
  },
  {
   "cell_type": "code",
   "execution_count": 49,
   "id": "a1bb3d88",
   "metadata": {},
   "outputs": [],
   "source": [
    "from nltk.stem.porter import PorterStemmer"
   ]
  },
  {
   "cell_type": "code",
   "execution_count": 50,
   "id": "558be403",
   "metadata": {},
   "outputs": [],
   "source": [
    "ps = PorterStemmer()"
   ]
  },
  {
   "cell_type": "code",
   "execution_count": 51,
   "id": "5c800a22",
   "metadata": {},
   "outputs": [],
   "source": [
    "def stemmer(text):\n",
    "    l = []\n",
    "    for i in text.split():\n",
    "        l.append(ps.stem(i))\n",
    "    return \" \".join(l)"
   ]
  },
  {
   "cell_type": "code",
   "execution_count": 52,
   "id": "2526d621",
   "metadata": {},
   "outputs": [
    {
     "name": "stderr",
     "output_type": "stream",
     "text": [
      "/var/folders/2x/3726z2cx2vq26ly47yc6qy100000gn/T/ipykernel_2385/411577946.py:1: SettingWithCopyWarning: \n",
      "A value is trying to be set on a copy of a slice from a DataFrame.\n",
      "Try using .loc[row_indexer,col_indexer] = value instead\n",
      "\n",
      "See the caveats in the documentation: https://pandas.pydata.org/pandas-docs/stable/user_guide/indexing.html#returning-a-view-versus-a-copy\n",
      "  data['tags'] = data['tags'].apply(stemmer)\n"
     ]
    }
   ],
   "source": [
    "data['tags'] = data['tags'].apply(stemmer)"
   ]
  },
  {
   "cell_type": "code",
   "execution_count": 53,
   "id": "dbd67c5f",
   "metadata": {},
   "outputs": [
    {
     "data": {
      "text/plain": [
       "0       action adventur fantasi sciencefict culturecla...\n",
       "1       adventur fantasi action ocean drugabus exotici...\n",
       "2       action adventur crime spi basedonnovel secreta...\n",
       "3       action crime drama thriller dccomic crimefight...\n",
       "4       action adventur sciencefict basedonnovel mar m...\n",
       "                              ...                        \n",
       "4798    action crime thriller unitedstates–mexicobarri...\n",
       "4799    comedi romanc edwardburn kerrybishé marshadiet...\n",
       "4800    comedi drama romanc tvmovi date loveatfirstsig...\n",
       "4801    danielhenney elizacoup billpaxton danielhsia w...\n",
       "4802    documentari obsess camcord crush dreamgirl dre...\n",
       "Name: tags, Length: 4800, dtype: object"
      ]
     },
     "execution_count": 53,
     "metadata": {},
     "output_type": "execute_result"
    }
   ],
   "source": [
    "data['tags']"
   ]
  },
  {
   "cell_type": "code",
   "execution_count": 54,
   "id": "9779f9bf",
   "metadata": {},
   "outputs": [],
   "source": [
    "from sklearn.feature_extraction.text import CountVectorizer\n",
    "cv = CountVectorizer(max_features=5000,stop_words='english')"
   ]
  },
  {
   "cell_type": "code",
   "execution_count": 55,
   "id": "0275fa82",
   "metadata": {},
   "outputs": [],
   "source": [
    "vector = cv.fit_transform(data['tags']).toarray()"
   ]
  },
  {
   "cell_type": "code",
   "execution_count": 56,
   "id": "fa56aa25",
   "metadata": {},
   "outputs": [
    {
     "data": {
      "text/plain": [
       "(4800, 5000)"
      ]
     },
     "execution_count": 56,
     "metadata": {},
     "output_type": "execute_result"
    }
   ],
   "source": [
    "vector.shape"
   ]
  },
  {
   "cell_type": "code",
   "execution_count": 57,
   "id": "6a72a667",
   "metadata": {},
   "outputs": [],
   "source": [
    "from sklearn.metrics.pairwise import cosine_similarity"
   ]
  },
  {
   "cell_type": "code",
   "execution_count": 58,
   "id": "94bab6f0",
   "metadata": {},
   "outputs": [],
   "source": [
    "similarity = cosine_similarity(vector)"
   ]
  },
  {
   "cell_type": "code",
   "execution_count": 59,
   "id": "ad1dbd1c",
   "metadata": {},
   "outputs": [
    {
     "data": {
      "text/plain": [
       "(4800, 4800)"
      ]
     },
     "execution_count": 59,
     "metadata": {},
     "output_type": "execute_result"
    }
   ],
   "source": [
    "similarity.shape"
   ]
  },
  {
   "cell_type": "code",
   "execution_count": 60,
   "id": "16f61a61",
   "metadata": {},
   "outputs": [
    {
     "data": {
      "text/plain": [
       "array([[1.        , 0.08346223, 0.0860309 , ..., 0.04499213, 0.        ,\n",
       "        0.        ],\n",
       "       [0.08346223, 1.        , 0.06063391, ..., 0.02378257, 0.        ,\n",
       "        0.02615329],\n",
       "       [0.0860309 , 0.06063391, 1.        , ..., 0.02451452, 0.        ,\n",
       "        0.        ],\n",
       "       ...,\n",
       "       [0.04499213, 0.02378257, 0.02451452, ..., 1.        , 0.03962144,\n",
       "        0.04229549],\n",
       "       [0.        , 0.        , 0.        , ..., 0.03962144, 1.        ,\n",
       "        0.08714204],\n",
       "       [0.        , 0.02615329, 0.        , ..., 0.04229549, 0.08714204,\n",
       "        1.        ]])"
      ]
     },
     "execution_count": 60,
     "metadata": {},
     "output_type": "execute_result"
    }
   ],
   "source": [
    "similarity"
   ]
  },
  {
   "cell_type": "code",
   "execution_count": 61,
   "id": "c066ec08",
   "metadata": {},
   "outputs": [
    {
     "data": {
      "text/plain": [
       "[(1213, 0.28676966733820225),\n",
       " (2403, 0.26901379342448517),\n",
       " (3723, 0.2605130246476754),\n",
       " (507, 0.255608593705383),\n",
       " (539, 0.25038669783359574)]"
      ]
     },
     "execution_count": 61,
     "metadata": {},
     "output_type": "execute_result"
    }
   ],
   "source": [
    "sorted((list(enumerate(similarity[0]))),reverse=True,key=lambda x : x[1])[1:6]"
   ]
  },
  {
   "cell_type": "code",
   "execution_count": 62,
   "id": "8858f237",
   "metadata": {},
   "outputs": [],
   "source": [
    "def recommend(movie):\n",
    "    movie_index = data[data['title']==movie].index[0]\n",
    "    distance =  similarity[movie_index]\n",
    "    movie_list = sorted((list(enumerate(distance))),reverse=True,key=lambda x : x[1])[1:6]\n",
    "    # return movie_list\n",
    "    for i in movie_list:\n",
    "        print(data.iloc[i[0]].title)"
   ]
  },
  {
   "cell_type": "code",
   "execution_count": 63,
   "id": "dd2e7f92",
   "metadata": {},
   "outputs": [
    {
     "name": "stdout",
     "output_type": "stream",
     "text": [
      "Mr. & Mrs. Smith\n",
      "From Russia with Love\n",
      "The Bourne Legacy\n",
      "Silent Trigger\n",
      "The Sentinel\n"
     ]
    }
   ],
   "source": [
    "recommend('Hitman')"
   ]
  },
  {
   "cell_type": "code",
   "execution_count": 64,
   "id": "33c4883a",
   "metadata": {},
   "outputs": [],
   "source": [
    "import pickle"
   ]
  },
  {
   "cell_type": "code",
   "execution_count": 65,
   "id": "4c21f7c3",
   "metadata": {},
   "outputs": [],
   "source": [
    "pickle.dump(data,open(\"movies.pkl\",\"wb\"))"
   ]
  },
  {
   "cell_type": "code",
   "execution_count": 66,
   "id": "5810bb79",
   "metadata": {},
   "outputs": [],
   "source": [
    "pickle.dump(similarity,open(\"similarity.pkl\",\"wb\"))"
   ]
  },
  {
   "cell_type": "code",
   "execution_count": null,
   "id": "74b57d82",
   "metadata": {},
   "outputs": [],
   "source": []
  },
  {
   "cell_type": "code",
   "execution_count": null,
   "id": "011d06bb",
   "metadata": {},
   "outputs": [],
   "source": []
  },
  {
   "cell_type": "code",
   "execution_count": null,
   "id": "599de381",
   "metadata": {},
   "outputs": [],
   "source": []
  }
 ],
 "metadata": {
  "kernelspec": {
   "display_name": "Python 3 (ipykernel)",
   "language": "python",
   "name": "python3"
  },
  "language_info": {
   "codemirror_mode": {
    "name": "ipython",
    "version": 3
   },
   "file_extension": ".py",
   "mimetype": "text/x-python",
   "name": "python",
   "nbconvert_exporter": "python",
   "pygments_lexer": "ipython3",
   "version": "3.11.5"
  }
 },
 "nbformat": 4,
 "nbformat_minor": 5
}
